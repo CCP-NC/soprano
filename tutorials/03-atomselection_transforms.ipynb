{
 "cells": [
  {
   "cell_type": "markdown",
   "metadata": {},
   "source": [
    "# Tutorial 3 - AtomSelection and transforms\n",
    "\n",
    "\n",
    "```\n",
    "      _\n",
    "    /|_|\\   \n",
    "   / / \\ \\  \n",
    "  /_/   \\_\\  \n",
    "  \\ \\   / /  \n",
    "   \\ \\_/ /  \n",
    "    \\|_|/  \n",
    "\n",
    "```\n",
    "SOPRANO: a Python library for generation, manipulation and analysis of large batches of crystalline structures\n",
    "\n",
    "\n",
    "*Developed within the CCP-NC project. Copyright STFC 2022*"
   ]
  },
  {
   "cell_type": "code",
   "execution_count": 2,
   "metadata": {},
   "outputs": [],
   "source": [
    "# Basic imports\n",
    "import os, sys\n",
    "sys.path.insert(0, os.path.abspath('..')) # This to add the Soprano path to the PYTHONPATH\n",
    "                                          # so we can load it without installing it"
   ]
  },
  {
   "cell_type": "code",
   "execution_count": 3,
   "metadata": {},
   "outputs": [],
   "source": [
    "# Other useful imports\n",
    "\n",
    "import numpy as np\n",
    "\n",
    "from ase import Atoms"
   ]
  },
  {
   "cell_type": "markdown",
   "metadata": {},
   "source": [
    "## 1 - SELECTING ATOMS\n",
    "\n",
    "Besides allowing to manipulate information about multiple structures, Soprano provides tools to edit them as well.\n",
    "This is accomplished by combining selection of atoms and transformation operations that change their positions.\n",
    "As an example we will use again the ammonia molecule.  \n",
    "Selections can be carried with multiple criteria. The basic ones are selection by element, selection of all atoms\n",
    "in a box, and selection of all atoms in a sphere."
   ]
  },
  {
   "cell_type": "code",
   "execution_count": 4,
   "metadata": {},
   "outputs": [],
   "source": [
    "from soprano.selection import AtomSelection\n",
    "\n",
    "nh3coords = np.array([[ 2.5,     2.5,     2.5   ],\n",
    "                      [ 3.4373,  2.5,     2.1193],\n",
    "                      [ 2.0314,  3.3117,  2.1193],\n",
    "                      [ 2.0314,  1.6883,  2.1193]])\n",
    "nh3l = Atoms('NHHH', nh3coords, cell=[5,5,5]) # The cell is just an empty box\n",
    "\n",
    "# Now instead of switching the coordinates by hand let's do this with selections.\n",
    "nh3Hsel = AtomSelection.from_element(nh3l, 'H') # All H atoms in nh3l"
   ]
  },
  {
   "cell_type": "code",
   "execution_count": 5,
   "metadata": {},
   "outputs": [
    {
     "name": "stdout",
     "output_type": "stream",
     "text": [
      "---- Selected atoms contained in nh3Hsel ----\n",
      "\n",
      "['H', 'H', 'H'] \n",
      "\n",
      "\n",
      "---- Indices of selected atoms for various combinations ----\n",
      "\n",
      "sel1:\t [1]\n",
      "sel2:\t [0 2]\n",
      "nh3Hsel:\t [1 2 3]\n",
      "sel1+sel2:\t [0 1 2]\n",
      "nh3Hsel-sel1:\t [2 3]\n",
      "nh3Hsel*sel2:\t [2]\n"
     ]
    }
   ],
   "source": [
    "# Selections can be manipulated in interesting ways. To begin with, we can create an Atoms object containing \n",
    "# only the selected atoms\n",
    "\n",
    "h3 = nh3Hsel.subset(nh3l)\n",
    "\n",
    "print(\"---- Selected atoms contained in nh3Hsel ----\\n\")\n",
    "print(h3.get_chemical_symbols(), \"\\n\\n\")\n",
    "\n",
    "# Also, selections can be summed, subtracted, or multiplied (representing intersection)\n",
    "sel1 = AtomSelection(nh3l, [1]) # A custom generated selection\n",
    "sel2 = AtomSelection(nh3l, [0, 2]) # A custom generated selection\n",
    "\n",
    "print(\"---- Indices of selected atoms for various combinations ----\\n\")\n",
    "print(\"sel1:\\t\", sel1.indices)\n",
    "print(\"sel2:\\t\", sel2.indices)\n",
    "print(\"nh3Hsel:\\t\", nh3Hsel.indices)\n",
    "print(\"sel1+sel2:\\t\", (sel1+sel2).indices)       # Union of selections\n",
    "print(\"nh3Hsel-sel1:\\t\", (nh3Hsel-sel1).indices) # Difference of selections\n",
    "print(\"nh3Hsel*sel2:\\t\", (nh3Hsel*sel2).indices) # Intersection of selections"
   ]
  },
  {
   "cell_type": "markdown",
   "metadata": {},
   "source": [
    "## 2 - APPLYING TRANSFORMS\n",
    "\n",
    "Transforms in Soprano are special cases of Properties. They are properties that take in an AtomSelection and some\n",
    "parameters and return Atoms objects with the transformation applied. These can be used to mass-edit entire\n",
    "AtomsCollection objects. Basic transforms are Translate, Rotate and Mirror"
   ]
  },
  {
   "cell_type": "code",
   "execution_count": 6,
   "metadata": {},
   "outputs": [
    {
     "name": "stdout",
     "output_type": "stream",
     "text": [
      "---- Coordinates of Hydrogen atoms in left and right versions of the molecule ----\n",
      "\n",
      "nh3l:\n",
      " [[3.4373 2.5    2.1193]\n",
      " [2.0314 3.3117 2.1193]\n",
      " [2.0314 1.6883 2.1193]] \n",
      "\n",
      "nh3r:\n",
      " [[3.4373 2.5    2.8807]\n",
      " [2.0314 3.3117 2.8807]\n",
      " [2.0314 1.6883 2.8807]] \n",
      "\n"
     ]
    }
   ],
   "source": [
    "from soprano.properties.transform import Mirror\n",
    "\n",
    "\n",
    "mirr = Mirror(selection=nh3Hsel,\n",
    "              plane=[0, 0, 1, -0.5],\n",
    "              scaled=True) # Mirror with respect to the XY plane passing through Z=0.5\n",
    "                           # in fractional coordinates (scaled=True).\n",
    "\n",
    "# NOTE: the plane is defined by the plane equation cohefficients.\n",
    "# So for ax+by+cz+d = 0 we have [a,b,c,d]                          \n",
    "\n",
    "nh3r = mirr(nh3l)\n",
    "\n",
    "print(\"---- Coordinates of Hydrogen atoms in left and right versions of the molecule ----\\n\")\n",
    "print(\"nh3l:\\n\", nh3Hsel.subset(nh3l).get_positions(), \"\\n\")\n",
    "print(\"nh3r:\\n\", nh3Hsel.subset(nh3r).get_positions(), \"\\n\")"
   ]
  },
  {
   "cell_type": "markdown",
   "metadata": {},
   "source": [
    "## 3 - SELECTION VALIDATION\n",
    "\n",
    "As a safety against mistakes, by default, any AtomSelection has its \"validate\" property initialised to True.\n",
    "This means that whenever the selection is used to create a subset or make a transform a check is performed to verify that the chemical symbols of the Atoms object it is operating on is the same as the one on which it was originally created. In other words, selections shouldn't be able to operate on structures they don't refer to."
   ]
  },
  {
   "cell_type": "code",
   "execution_count": 7,
   "metadata": {},
   "outputs": [
    {
     "name": "stdout",
     "output_type": "stream",
     "text": [
      "An error has verified: \n",
      ">\t Given Atoms object does not match this selection\n"
     ]
    }
   ],
   "source": [
    "# Create two structures\n",
    "a1 = Atoms('HCO')\n",
    "a2 = Atoms('FeAgAu')\n",
    "\n",
    "# Create a selection\n",
    "sel1 = AtomSelection.from_sphere(a1, [0, 0, 0], 0.1)\n",
    "\n",
    "# Try using it on the wrong structure\n",
    "try:\n",
    "    a0 = sel1.subset(a2)\n",
    "except ValueError as e:\n",
    "    print(\"An error has verified: \\n>\\t\", e)"
   ]
  },
  {
   "cell_type": "code",
   "execution_count": null,
   "metadata": {},
   "outputs": [],
   "source": []
  }
 ],
 "metadata": {
  "kernelspec": {
   "display_name": "Python 3.9.5 ('base')",
   "language": "python",
   "name": "python3"
  },
  "language_info": {
   "codemirror_mode": {
    "name": "ipython",
    "version": 3
   },
   "file_extension": ".py",
   "mimetype": "text/x-python",
   "name": "python",
   "nbconvert_exporter": "python",
   "pygments_lexer": "ipython3",
   "version": "3.9.5"
  },
  "vscode": {
   "interpreter": {
    "hash": "dcf3964c9f098ea87c1c1258bc0cf8607e796f6d28cbe05fe0232edb9a1fcec4"
   }
  }
 },
 "nbformat": 4,
 "nbformat_minor": 1
}
