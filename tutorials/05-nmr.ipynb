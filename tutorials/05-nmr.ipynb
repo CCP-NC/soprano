{
 "cells": [
  {
   "attachments": {},
   "cell_type": "markdown",
   "metadata": {},
   "source": [
    "# Tutorial 5 - NMR Properties: using Soprano for working with .magres files\n",
    "\n",
    "\n",
    "```\n",
    "      _\n",
    "    /|_|\\   \n",
    "   / / \\ \\  \n",
    "  /_/   \\_\\  \n",
    "  \\ \\   / /  \n",
    "   \\ \\_/ /  \n",
    "    \\|_|/  \n",
    "\n",
    "```\n",
    "SOPRANO: a Python library for generation, manipulation and analysis of large batches of crystalline structures\n",
    "\n",
    "\n",
    "*Developed within the CCP-NC project. Copyright STFC 2022*"
   ]
  },
  {
   "cell_type": "code",
   "execution_count": 1,
   "metadata": {},
   "outputs": [],
   "source": [
    "# Basic imports\n",
    "import os, sys\n",
    "sys.path.insert(0, os.path.abspath('..')) # This to add the Soprano path to the PYTHONPATH\n",
    "                                          # so we can load it without installing it"
   ]
  },
  {
   "cell_type": "code",
   "execution_count": 2,
   "metadata": {},
   "outputs": [],
   "source": [
    "# Other useful imports\n",
    "\n",
    "import numpy as np\n",
    "\n",
    "import ase\n",
    "from ase import io as ase_io\n",
    "\n",
    "%matplotlib inline\n",
    "import matplotlib.pyplot as plt\n",
    "plt.ion()\n",
    "\n",
    "%reload_ext autoreload\n",
    "%autoreload 2\n"
   ]
  },
  {
   "attachments": {},
   "cell_type": "markdown",
   "metadata": {},
   "source": [
    "## 1 - Loading magres files\n",
    "\n",
    "ASE can read the Magres file format from version 3.11.0 (~2016). If your version of ASE does not support loading Magres files, try updating it or download the bleeding edge version from GitLab:\n",
    "\n",
    "https://gitlab.com/ase/ase"
   ]
  },
  {
   "cell_type": "code",
   "execution_count": 3,
   "metadata": {},
   "outputs": [
    {
     "name": "stderr",
     "output_type": "stream",
     "text": [
      "/home/jks/miniconda3/lib/python3.9/site-packages/ase/io/magres.py:368: VisibleDeprecationWarning: Creating an ndarray from ragged nested sequences (which is a list-or-tuple of lists-or-tuples-or ndarrays with different lengths or shapes) is deprecated. If you meant to do this, you must specify 'dtype=object' when creating the ndarray.\n",
      "  return np.array(u_arr)\n"
     ]
    }
   ],
   "source": [
    "C2H6O = ase_io.read('tutorial_data/ethanol.magres')"
   ]
  },
  {
   "attachments": {},
   "cell_type": "markdown",
   "metadata": {},
   "source": [
    "## 2 - Labels and indices\n",
    "\n",
    "Labels and indices used in the magres file are stored in their own arrays and can be easily accessed and used to select atoms.\n",
    "\n",
    "If you use CASTEP and obtain your initial structure from a CIF file, note that you can use `cif2cell` with the `--export-cif-labels` flag to use the CIF site labels in your CASTEP .cell file. These labels will then be output in the generated .magres file."
   ]
  },
  {
   "cell_type": "code",
   "execution_count": 4,
   "metadata": {},
   "outputs": [
    {
     "name": "stdout",
     "output_type": "stream",
     "text": [
      "There are 1 hydrogen atom(s)\n",
      "The C2 atom is positioned at x = -0.247915, y = 1.164107, z = 0.937396 Ang\n"
     ]
    }
   ],
   "source": [
    "labels = C2H6O.get_array('labels')\n",
    "indices = C2H6O.get_array('indices')\n",
    "\n",
    "# Select only the protons' indices\n",
    "H_i = np.where(labels == 'H')\n",
    "H = C2H6O[H_i]\n",
    "# Select only C2\n",
    "C2_i = np.where((labels == 'C') & (indices == 2))[0]\n",
    "C2 = C2H6O[C2_i]\n",
    "\n",
    "print(\"There are {0} hydrogen atom(s)\".format(len(H)))\n",
    "print(\"The C2 atom is positioned at x = {0}, y = {1}, z = {2} Ang\".format(*C2.get_positions()[0]))"
   ]
  },
  {
   "cell_type": "code",
   "execution_count": 5,
   "metadata": {},
   "outputs": [
    {
     "name": "stdout",
     "output_type": "stream",
     "text": [
      "The labels are H_1, H_2, H_3, H_4, H_5, H_6, C_1, C_2, O_1\n"
     ]
    }
   ],
   "source": [
    "# One can also recreate the Jmol/MagresView-style labels if needed:\n",
    "jmol_labels = [\"{0}_{1}\".format(l, i) for l, i in zip(labels, indices)]\n",
    "\n",
    "print(\"The labels are {0}\".format(', '.join(jmol_labels)))"
   ]
  },
  {
   "attachments": {},
   "cell_type": "markdown",
   "metadata": {},
   "source": [
    "## 3 - Magnetic shieldings and chemical shifts\n",
    "\n",
    "All the NMR tensors stored in the original .magres file are saved as arrays in the Atoms object and can be accessed directly. However, Soprano also provides a set of properties to express the tensors in the form of parameters useful to compute the spectrum.\n",
    "\n"
   ]
  },
  {
   "cell_type": "code",
   "execution_count": 6,
   "metadata": {},
   "outputs": [
    {
     "name": "stdout",
     "output_type": "stream",
     "text": [
      "Label\tIsotropy\tAnisotropy\tAsymmetry\n",
      "H_1\t 29.59 ppm\t  8.94 ppm\t0.14\n",
      "H_2\t 30.26 ppm\t  8.19 ppm\t0.21\n",
      "H_3\t 30.10 ppm\t  7.29 ppm\t0.06\n",
      "H_4\t 26.98 ppm\t  8.17 ppm\t0.94\n",
      "H_5\t 27.39 ppm\t -7.12 ppm\t0.93\n",
      "H_6\t 31.98 ppm\t 14.12 ppm\t0.45\n",
      "C_1\t156.47 ppm\t 33.80 ppm\t0.70\n",
      "C_2\t109.86 ppm\t 70.25 ppm\t0.41\n",
      "O_1\t268.03 ppm\t-51.38 ppm\t0.98\n"
     ]
    }
   ],
   "source": [
    "from soprano.properties.nmr import *\n",
    "\n",
    "# Isotropy, Anisotropy and Asymmetry (Haeberlen convention)\n",
    "# These return arrays of the same length as the number of atoms.\n",
    "iso = MSIsotropy.get(C2H6O)\n",
    "aniso = MSAnisotropy.get(C2H6O)\n",
    "asymm = MSAsymmetry.get(C2H6O)\n",
    "\n",
    "print('Label\\tIsotropy\\tAnisotropy\\tAsymmetry')\n",
    "for i, jl in enumerate(jmol_labels):\n",
    "    print('{0}\\t{1:6.2f} ppm\\t{2:6.2f} ppm\\t{3:3.2f}'.format(jl, iso[i], aniso[i], asymm[i]))"
   ]
  },
  {
   "cell_type": "code",
   "execution_count": 7,
   "metadata": {},
   "outputs": [
    {
     "name": "stdout",
     "output_type": "stream",
     "text": [
      "Label\t  Span\t\t Skew\n",
      "H_1\t  9.36 ppm\t -0.82\n",
      "H_2\t  8.76 ppm\t -0.74\n",
      "H_3\t  7.43 ppm\t -0.92\n",
      "H_4\t 10.72 ppm\t -0.05\n",
      "H_5\t  9.33 ppm\t  0.05\n",
      "H_6\t 16.25 ppm\t -0.48\n",
      "C_1\t 41.73 ppm\t -0.24\n",
      "C_2\t 79.95 ppm\t -0.51\n",
      "O_1\t 68.22 ppm\t  0.01\n"
     ]
    }
   ],
   "source": [
    "# Span and skew\n",
    "span = MSSpan.get(C2H6O)\n",
    "skew = MSSkew.get(C2H6O)\n",
    "\n",
    "print('Label\\t  Span\\t\\t Skew')\n",
    "for i, jl in enumerate(jmol_labels):\n",
    "    print('{0}\\t{1:6.2f} ppm\\t{2:6.2f}'.format(jl, span[i], skew[i]))"
   ]
  },
  {
   "cell_type": "code",
   "execution_count": 8,
   "metadata": {},
   "outputs": [
    {
     "name": "stdout",
     "output_type": "stream",
     "text": [
      "Label\t alpha/deg\tbeta/deg\tgamma/deg\n",
      "H_1\t   26.84\t  134.66\t  -27.96\n",
      "H_2\t   86.77\t   77.37\t  -92.66\n",
      "H_3\t  166.46\t  144.86\t  177.96\n",
      "H_4\t  115.15\t   96.81\t  177.34\n",
      "H_5\t  234.53\t   50.93\t  -11.98\n",
      "H_6\t   25.35\t  137.71\t   60.93\n",
      "C_1\t -207.03\t  132.57\t  -93.10\n",
      "C_2\t -138.63\t  125.07\t   -9.26\n",
      "O_1\t  234.05\t   59.55\t   -3.05\n"
     ]
    }
   ],
   "source": [
    "# Quaternion (orientation of the tensor with respect to the Cartesian axes)\n",
    "# from which we extract the Euler angles\n",
    "\n",
    "quat = MSQuaternion.get(C2H6O)\n",
    "\n",
    "print('Label\\t alpha/deg\\tbeta/deg\\tgamma/deg')\n",
    "for i, jl in enumerate(jmol_labels):\n",
    "    a, b, c = quat[i].euler_angles(mode='zyz')*180/np.pi # rad to degrees\n",
    "    print('{0}\\t{1:8.2f}\\t{2:8.2f}\\t{3:8.2f}'.format(jl, a, b, c))"
   ]
  },
  {
   "attachments": {},
   "cell_type": "markdown",
   "metadata": {},
   "source": [
    "## 4 - Electric field gradients and quadrupolar couplings\n",
    "\n",
    "Similarly named properties exist for the EFG tensors - EFGSpan, EFGAnisotropy, EFGQuaternion, etc. A few more are specific (and of course there's no EFGIsotropy, for obvious reasons).\n",
    "The most important difference is of course the introduction of the quadrupolar constant $\\chi$, namely:\n",
    "\n",
    "$\\chi = \\frac{e^2qQ}{h}$\n",
    "\n",
    "where $e$ is the elementary charge, $V_{zz}=eq$, $Q$ is the quadrupole moment of the given element and isotope and $h$ the Planck constant. This definition returns a frequency. If one wants a pulsation $\\omega$ it needs to multiplied by a factor of $2\\pi$."
   ]
  },
  {
   "cell_type": "code",
   "execution_count": 9,
   "metadata": {},
   "outputs": [
    {
     "name": "stdout",
     "output_type": "stream",
     "text": [
      "Label\tVzz\t\tChi\n",
      "H_1\t 0.29 au\t 0.19 MHz\n",
      "H_2\t 0.28 au\t 0.19 MHz\n",
      "H_3\t 0.29 au\t 0.20 MHz\n",
      "H_4\t 0.27 au\t 0.18 MHz\n",
      "H_5\t 0.28 au\t 0.19 MHz\n",
      "H_6\t 0.44 au\t 0.30 MHz\n",
      "C_1\t 0.04 au\t 0.00 MHz\n",
      "C_2\t 0.40 au\t 0.00 MHz\n",
      "O_1\t-1.86 au\t11.19 MHz\n"
     ]
    }
   ],
   "source": [
    "# Vzz component, in atomic units\n",
    "\n",
    "vzz = EFGVzz.get(C2H6O)\n",
    "\n",
    "# For quadrupolar constants, isotopes become relevant. This means we need to create custom Property instances to\n",
    "# specify them. There are multiple ways to do so - check the docstrings for more details - but here we set them\n",
    "# by element. When nothing is specified it defaults to the most common NMR active isotope.\n",
    "\n",
    "qP = EFGQuadrupolarConstant(isotopes={'H': 2}) # Deuterated; for the others use the default\n",
    "qC = qP(C2H6O)/1e6 # To MHz\n",
    "\n",
    "print('Label\\tVzz\\t\\tChi')\n",
    "for i, jl in enumerate(jmol_labels):\n",
    "    print('{0}\\t{1:5.2f} au\\t{2:5.2f} MHz'.format(jl, vzz[i], qC[i]))"
   ]
  },
  {
   "cell_type": "markdown",
   "metadata": {},
   "source": [
    "Euler angles:\n",
    "\n",
    "The standard convention for eigenvalue ordering for EFG tensors is the \"NQR\" ordering, i.e. $|V_3| \\geq |V_2| \\geq |V_1|$."
   ]
  },
  {
   "cell_type": "code",
   "execution_count": 10,
   "metadata": {},
   "outputs": [
    {
     "name": "stdout",
     "output_type": "stream",
     "text": [
      "Label\t alpha (deg)\tbeta (deg)\tgamma (deg)\n",
      "H_1\t   11.03\t   53.87\t  124.66\n",
      "H_2\t  281.37\t   58.60\t  177.24\n",
      "H_3\t  193.18\t   54.81\t   63.12\n",
      "H_4\t  192.59\t   54.86\t    1.72\n",
      "H_5\t  282.10\t   58.47\t  125.27\n",
      "H_6\t  283.03\t   54.61\t  119.16\n",
      "C_1\t  107.18\t   53.91\t   32.43\n",
      "C_2\t   13.78\t   54.52\t  129.74\n",
      "O_1\t  146.57\t   44.36\t   94.78\n"
     ]
    }
   ],
   "source": [
    "efg_tensors = EFGTensor.get(C2H6O)\n",
    "eulers = np.array([t.euler_angles(convention='zyz') for t in efg_tensors])*180/np.pi # rad to degrees\n",
    "print('Label\\t alpha (deg)\\tbeta (deg)\\tgamma (deg)')\n",
    "for i, jl in enumerate(jmol_labels):\n",
    "    a, b, c = eulers[i]\n",
    "    print('{0}\\t{1:8.2f}\\t{2:8.2f}\\t{3:8.2f}'.format(jl, a, b, c))"
   ]
  },
  {
   "cell_type": "code",
   "execution_count": 11,
   "metadata": {},
   "outputs": [],
   "source": [
    "# save eulers to text file\n",
    "np.savetxt('eulers.txt', eulers, fmt='%16.8f')\n"
   ]
  },
  {
   "attachments": {},
   "cell_type": "markdown",
   "metadata": {},
   "source": [
    "# 5 - Dipolar couplings\n",
    "\n",
    "Soprano can compute dipolar couplings between any pair of atoms, defined as:\n",
    "\n",
    "$$\n",
    "d_{ij} = -\\frac{\\mu_0\\hbar\\gamma_i\\gamma_j}{8\\pi^2r_{ij}^3}\n",
    "$$\n",
    "\n",
    "where the $\\gamma$ represent the gyromagnetic ratios of the nuclei and the\n",
    "$r$ is their distance. The full tensor of the interaction is then defined as\n",
    "\n",
    "$$\n",
    "         D_{ij} =\n",
    "         \\begin{bmatrix}\n",
    "          -d_{ij}   & 0         & 0       \\\\\n",
    "          0         & -d_{ij}   & 0       \\\\\n",
    "          0         & 0         & 2d_{ij} \\\\\n",
    "         \\end{bmatrix}\n",
    "$$\n",
    "\n",
    "See the [DipolarCoupling reference for more information.](https://ccp-nc.github.io/soprano/_autosummary/soprano.properties.nmr.dipolar.html#soprano.properties.nmr.dipolar.DipolarCoupling)"
   ]
  },
  {
   "cell_type": "code",
   "execution_count": 12,
   "metadata": {},
   "outputs": [
    {
     "name": "stdout",
     "output_type": "stream",
     "text": [
      "i\tj\tDipolar coupling/kHz\n",
      "H_1\tH_2\t    -21.68\n",
      "H_1\tH_3\t    -21.36\n",
      "H_1\tH_4\t     -7.60\n",
      "H_1\tH_5\t     -7.57\n",
      "H_1\tH_6\t     -2.52\n",
      "H_2\tH_3\t    -21.55\n",
      "H_2\tH_4\t     -7.52\n",
      "H_2\tH_5\t     -4.17\n",
      "H_2\tH_6\t     -7.50\n",
      "H_3\tH_4\t     -4.16\n",
      "H_3\tH_5\t     -7.69\n",
      "H_3\tH_6\t     -4.57\n",
      "H_4\tH_5\t    -21.79\n",
      "H_4\tH_6\t     -9.50\n",
      "H_5\tH_6\t     -5.39\n"
     ]
    }
   ],
   "source": [
    "# Let's say we only want the homonuclear H dipolar couplings. We first select the indices of the H atoms\n",
    "from soprano.selection import AtomSelection\n",
    "selH = AtomSelection.from_element(C2H6O, 'H')\n",
    "\n",
    "# dip is a dictionary of the form {(i,j): [dipolar_coupling, vector]}\n",
    "dip = DipolarCoupling().get(\n",
    "        C2H6O,                 # the crystal structure (ASE Atoms object)\n",
    "        sel_i = selH,          # this can either be a list of indices or an AtomSelection object\n",
    "        sel_j = selH,          # this is redundant in this case, but it's good practice to specify it\n",
    "        isotopes = {'H': 1},   # You can specify whatever isotope you want here.\n",
    "        self_coupling = False, # include interactions with itself\n",
    "        )\n",
    "# sort dictiorary by keys (i.e. sort by (i,j) indices)\n",
    "dip = {k: dip[k] for k in sorted(dip.keys())}\n",
    "\n",
    "# print the dipolar couplings\n",
    "print('i\\tj\\tDipolar coupling/kHz')\n",
    "for (i,j), (d, v) in dip.items():\n",
    "    d = d/1e3 # to kHz\n",
    "    print(f\"{jmol_labels[i]}\\t{jmol_labels[j]}\\t{d:10.2f}\")"
   ]
  },
  {
   "attachments": {},
   "cell_type": "markdown",
   "metadata": {},
   "source": [
    "# 6 J-couplings (indirect spin-spin coupling)\n",
    "\n",
    "[`JCIsotropy`](https://ccp-nc.github.io/soprano/_autosummary/soprano.properties.nmr.isc.html#soprano.properties.nmr.isc.JCIsotropy) produces a dictionary of J coupling isotropies for atom pairs in the system. See [`JCDiagonal`](https://ccp-nc.github.io/soprano/_autosummary/soprano.properties.nmr.isc.html#soprano.properties.nmr.isc.JCDiagonal) for how reduced couplings are transformed into couplings.\n",
    "\n",
    "You can use the `tag` argument to select the J-coupling component to return. \n",
    "```\n",
    "tag (str): name of the J coupling component to return. Magres files\n",
    "              usually contain isc, isc_spin, isc_fc, isc_orbital_p and\n",
    "              isc_orbital_d. Default is isc.\n",
    "```"
   ]
  },
  {
   "cell_type": "code",
   "execution_count": 13,
   "metadata": {},
   "outputs": [
    {
     "name": "stdout",
     "output_type": "stream",
     "text": [
      "i\tj\tJ coupling/Hz\n",
      "H_1\tC_1\t     15.67\n",
      "H_2\tC_1\t     16.05\n",
      "H_3\tC_1\t     16.27\n",
      "H_4\tC_2\t     17.64\n",
      "H_5\tC_2\t     17.87\n",
      "H_6\tO_1\t     -9.65\n",
      "C_1\tC_2\t     29.16\n",
      "C_2\tO_1\t     15.61\n"
     ]
    }
   ],
   "source": [
    "from soprano.properties.nmr import JCIsotropy\n",
    "jcoupling = JCIsotropy().get(\n",
    "        C2H6O,                 # the crystal structure (ASE Atoms object)\n",
    "        isotopes = {'H': 2},   # You can specify whatever isotopes you want here.\n",
    "        tag = 'isc',           # Which J coupling component to use. 'isc' is default. See your magres file for what has been computed.  \n",
    "        self_coupling = False, # include interactions with periodic images of self?\n",
    "        )\n",
    "        \n",
    "# Now we print out the couplings\n",
    "print('i\\tj\\tJ coupling/Hz')\n",
    "for (i,j), jcoup in jcoupling.items():\n",
    "    # We can filter out the couplings to just the largest ones e.g.\n",
    "    # to only print out the couplings larger than 5 Hz:\n",
    "    if np.abs(jcoup) > 5: \n",
    "         print(f\"{jmol_labels[i]}\\t{jmol_labels[j]}\\t{jcoup:10.2f}\")"
   ]
  },
  {
   "attachments": {},
   "cell_type": "markdown",
   "metadata": {},
   "source": [
    "# 7 - Creating simple spectra\n",
    "\n",
    "Besides handling NMR properties, Soprano also allows you to create simple simulations of NMR spectra. These are only computed by considering the known properties of shielding and quadrupolar interactions, which means that their accuracy is limited; they are *not* spin dynamics simulations and should be treated as such. Currently these include orientational as well as isotropic effects, up to the second order for quadrupole interactions. The limit of infinite speed MAS is included as well. They do NOT include:\n",
    "\n",
    "* dipolar interactions\n",
    "* J-couplings\n",
    "* finite spinning speed effects\n",
    "* cross-polarisation or other pulse sequence effects\n",
    "\n",
    "See [`NMRCalculator`](https://ccp-nc.github.io/soprano/_autosummary/soprano.calculate.nmr.nmr.html#soprano.calculate.nmr.nmr.NMRCalculator) for the full reference documentation.\n",
    "\n",
    "For more advanced simulations using [Simpson](https://doi.org/10.1006/jmre.2000.2179), see the Soprano interface reference: [`SimpsonSequence`](https://ccp-nc.github.io/soprano/_autosummary/soprano.calculate.nmr.simpson.html#soprano.calculate.nmr.simpson.SimpsonSequence)."
   ]
  },
  {
   "cell_type": "code",
   "execution_count": 14,
   "metadata": {
    "scrolled": true
   },
   "outputs": [
    {
     "name": "stdout",
     "output_type": "stream",
     "text": [
      "Field: 1.00 T\n",
      "Larmor frequency for 13C: 10.71 MHz\n",
      "Powder orientations: 545\n"
     ]
    }
   ],
   "source": [
    "# Let's look at the ethanol molecule. First we create an NMR calculator\n",
    "\n",
    "from soprano.calculate.nmr.nmr import NMRCalculator, NMRFlags\n",
    "\n",
    "nCalc = NMRCalculator(C2H6O) # We create the calculator here\n",
    "\n",
    "# Setting the Larmor frequency; default units are MHz\n",
    "# This is set for a specific isotope and determines the magnetic field for everything else as well\n",
    "nCalc.set_larmor_frequency(42.6, element='1H')\n",
    "print(\"Field: {0:.2f} T\".format(nCalc.B))\n",
    "# We can also get what the frequency would be for a different element...\n",
    "print(\"Larmor frequency for 13C: {0:.2f} MHz\".format(nCalc.get_larmor_frequency('13C')))\n",
    "\n",
    "# Set a reference shielding, in ppm\n",
    "nCalc.set_reference(100, '1H')\n",
    "\n",
    "# Set a powder averaging. Higher values of N mean finer average\n",
    "nCalc.set_powder(N=16)\n",
    "print(\"Powder orientations: {0}\".format(len(nCalc._orients[0])))"
   ]
  },
  {
   "cell_type": "code",
   "execution_count": 15,
   "metadata": {},
   "outputs": [],
   "source": [
    "# Compute the spectrum for protons; only chemical shielding, including anisotropy effects\n",
    "freqRange = 100\n",
    "spec1H_aniso, freqs = nCalc.spectrum_1d('1H', effects=NMRFlags.STATIC, max_freq=freqRange, min_freq=0, bins=501)\n",
    "# Now only the isotropic lines (as if spinning)\n",
    "# We add a broadening to make the lines more visible\n",
    "spec1H_iso, freqs = nCalc.spectrum_1d('1H', effects=NMRFlags.MAS, max_freq=freqRange, min_freq=0, bins=501,\n",
    "                                      freq_broad=0.2)"
   ]
  },
  {
   "cell_type": "code",
   "execution_count": 16,
   "metadata": {},
   "outputs": [
    {
     "data": {
      "text/plain": [
       "<matplotlib.legend.Legend at 0x7ae57390bd60>"
      ]
     },
     "execution_count": 16,
     "metadata": {},
     "output_type": "execute_result"
    },
    {
     "data": {
      "image/png": "[encoded data removed]",
      "text/plain": [
       "<Figure size 640x480 with 1 Axes>"
      ]
     },
     "metadata": {},
     "output_type": "display_data"
    }
   ],
   "source": [
    "fig = plt.figure()\n",
    "ax = fig.add_subplot(111)\n",
    "\n",
    "ax.plot(freqs, spec1H_aniso, label='Static line')\n",
    "ax.plot(freqs, spec1H_iso, label='Isotropic shifts')\n",
    "\n",
    "ax.legend()"
   ]
  },
  {
   "cell_type": "code",
   "execution_count": 17,
   "metadata": {},
   "outputs": [],
   "source": [
    "# Now let's look at the static quadrupolar line of 17O\n",
    "freqRange = 1000000\n",
    "spec17O_1, freqs = nCalc.spectrum_1d('17O', effects=NMRFlags.Q_1_ORIENT, max_freq=freqRange, min_freq=-freqRange, bins=501)\n",
    "spec17O_s, freqs = nCalc.spectrum_1d('17O', effects=NMRFlags.Q_STATIC, max_freq=freqRange, min_freq=-freqRange, bins=501)"
   ]
  },
  {
   "cell_type": "code",
   "execution_count": 18,
   "metadata": {},
   "outputs": [
    {
     "data": {
      "text/plain": [
       "<matplotlib.legend.Legend at 0x7ae57ffaa8b0>"
      ]
     },
     "execution_count": 18,
     "metadata": {},
     "output_type": "execute_result"
    },
    {
     "data": {
      "image/png": "[encoded data removed]",
      "text/plain": [
       "<Figure size 640x480 with 1 Axes>"
      ]
     },
     "metadata": {},
     "output_type": "display_data"
    }
   ],
   "source": [
    "fig = plt.figure()\n",
    "ax = fig.add_subplot(111)\n",
    "\n",
    "ax.plot(freqs, spec17O_1, label='First order')\n",
    "ax.plot(freqs, spec17O_s, label='First+second order')\n",
    "\n",
    "ax.legend()"
   ]
  },
  {
   "cell_type": "code",
   "execution_count": 19,
   "metadata": {},
   "outputs": [
    {
     "name": "stdout",
     "output_type": "stream",
     "text": [
      "CS_ISO\n",
      "CS_ORIENT\n",
      "CS\n",
      "Q_1_ORIENT\n",
      "Q_2_SHIFT\n",
      "Q_2_ORIENT_STATIC\n",
      "Q_2_ORIENT_MAS\n",
      "Q_2_STATIC\n",
      "Q_2_MAS\n",
      "Q_STATIC\n",
      "Q_MAS\n",
      "STATIC\n",
      "MAS\n"
     ]
    }
   ],
   "source": [
    "# There's a number of other possible NMRFlags for various effects...\n",
    "for fl in NMRFlags._fields:\n",
    "    print(fl)"
   ]
  },
  {
   "attachments": {},
   "cell_type": "markdown",
   "metadata": {},
   "source": [
    "# 8 - Euler angles\n"
   ]
  },
  {
   "attachments": {},
   "cell_type": "markdown",
   "metadata": {},
   "source": [
    "Euler angles are commonly used to describe the orientation of an NMR tensor in space. Three angles, $\\alpha$, $\\beta$ and $\\gamma$, are defined as the rotations around successive axes, depending on the convention used. The most common convention in NMR is the ZYZ convention, where the rotations are performed around the $z$ axis, then the $y$ axis and finally the $z$ axis again. \n",
    "\n",
    "Euler angles can be a major source of confusion when comparing different software packages, as the conventions can vary and the handling of ambiguous cases differs greatly. In Soprano we follow the excellent work of [Svenningsson & Mueller (2023)](https://doi.org/10.1016/j.ssnmr.2022.101849) in their TensorView for MATLAB package. They provide a comprehensive explanation of how to deal with edge-cases and equivalencies in relative Euler angles between NMR tensors.\n",
    "\n",
    "Some of the choices to be aware of are:\n",
    "\n",
    "* The order of the rotations (ZYZ or ZXZ are supported).\n",
    "* Active or passive: this is a choice of whether the tensor itself is rotated (active) or the reference frame is rotated (passive).\n",
    "* The ordering of the tensor eigenvalues: the [standard convention](http://anorganik.uni-tuebingen.de/klaus/nmr/index.php?p=conventions/efg/efg#efg) for EFG tensors is the \"NQR\" ordering, i.e. $|V_3| \\geq |V_2| \\geq |V_1|$, where these are the principal components of the EFG tensor. There are several conventions for ordering magnetic shielding tensor principal components. A commonly used one is \"Haeberlen\" ordering in which  $|\\delta_{zz} - \\delta_{\\mathrm{iso}}| \\geq |\\delta_{xx} - \\delta_{\\mathrm{iso}}| \\geq |\\delta_{yy} - \\delta_{\\mathrm{iso}}|$, where $\\delta_{zz}$ etc. are the principal components of the chemical shift tensor and $\\delta_{\\mathrm{iso}}$ is the isotropic component. Common conventions are nicely explained [here](http://anorganik.uni-tuebingen.de/klaus/nmr/index.php?p=conventions/csa/csa).\n",
    "\n",
    "As explained in the TensorView for MATLAB paper, even with these choices set, there are still ambiguities in the Euler angles. In the general case, there are four equivalent sets of Euler angles for a given tensor. For _relative_ Euler angles, there are 16 equivalent sets! \n",
    "\n",
    "Soprano provides utilities to compute Euler angles, specifying your choice of rotation order, active vs passive and the tensor ordering. Soprano also allows you to calculate equivalent Euler angles to make cross-software comparisons easier.\n"
   ]
  },
  {
   "cell_type": "markdown",
   "metadata": {},
   "source": [
    "## General NMR tensor\n",
    "\n",
    "Soprano provides a general `NMRTensor` class that can be used in isolation, but also some convenience methods for dealing with NMR tensors from e.g. a `.magres` file. First let's look at the general case: "
   ]
  },
  {
   "cell_type": "code",
   "execution_count": 20,
   "metadata": {},
   "outputs": [
    {
     "name": "stdout",
     "output_type": "stream",
     "text": [
      "Increasing order\n",
      "Eigenvalues: 26.19, 27.04, 35.55\n",
      "ZYZ (active)  α=  28.0, β=  45.3, γ=  26.8 (deg)\n",
      "ZYZ (passive) α= 153.2, β=  45.3, γ= 152.0 (deg)\n",
      "ZXZ (active)  α= 118.0, β=  45.3, γ= 116.8 (deg)\n",
      "ZXZ (passive) α=  63.2, β=  45.3, γ=  62.0 (deg)\n",
      "\n",
      "Decreasing order\n",
      "Eigenvalues: 35.55, 27.04, 26.19\n",
      "ZYZ (active)  α= 243.7, β=  50.6, γ= 155.4 (deg)\n",
      "ZYZ (passive) α=  24.6, β=  50.6, γ= 296.3 (deg)\n",
      "ZXZ (active)  α= 333.7, β=  50.6, γ=  65.4 (deg)\n",
      "ZXZ (passive) α= 114.6, β=  50.6, γ= 206.3 (deg)\n",
      "\n",
      "NQR order\n",
      "Eigenvalues: 27.04, 26.19, 35.55\n",
      "ZYZ (active)  α=  28.0, β=  45.3, γ= 116.8 (deg)\n",
      "ZYZ (passive) α=  63.2, β=  45.3, γ= 152.0 (deg)\n",
      "ZXZ (active)  α= 118.0, β=  45.3, γ=  26.8 (deg)\n",
      "ZXZ (passive) α= 153.2, β=  45.3, γ=  62.0 (deg)\n",
      "\n",
      "Haeberlen order\n",
      "Eigenvalues: 26.19, 27.04, 35.55\n",
      "ZYZ (active)  α=  28.0, β=  45.3, γ=  26.8 (deg)\n",
      "ZYZ (passive) α= 153.2, β=  45.3, γ= 152.0 (deg)\n",
      "ZXZ (active)  α= 118.0, β=  45.3, γ= 116.8 (deg)\n",
      "ZXZ (passive) α=  63.2, β=  45.3, γ=  62.0 (deg)\n",
      "\n"
     ]
    }
   ],
   "source": [
    "from soprano.nmr import NMRTensor\n",
    "\n",
    "# Let's create a tensor such as (this is actually a chemical shielding tensor from the ethanol.magres file\n",
    "# but it can be any 3x3 tensor)\n",
    "\n",
    "data = np.array([\n",
    "    [30.29817962,  1.20510693,  3.67274493],\n",
    "    [ 1.96313295, 27.57652505,  2.57545224],\n",
    "    [ 4.21834132,  2.16271308, 30.90315252]])\n",
    "\n",
    "t = NMRTensor(data)\n",
    "# Now t is an NMRTensor object. We can extract a variety of properties of this tensor \n",
    "# and perform updates to e.g. the tensor ordering\n",
    "\n",
    "\n",
    "\n",
    "# These are the ordering conventions available in Soprano:\n",
    "orders = {'i': 'Increasing', 'd': 'Decreasing', 'n': 'NQR', 'h': 'Haeberlen'}\n",
    "# We can loop over the orderings\n",
    "for o, oname in orders.items():\n",
    "    # Update tensor's order \n",
    "    t.order = o\n",
    "    # and print the Euler angles for each combination of {ZYZ,ZXZ} and {active, passive}\n",
    "    print(\"{0} order\".format(oname))\n",
    "    print(\"Eigenvalues: {0:.2f}, {1:.2f}, {2:.2f}\".format(*t.eigenvalues))\n",
    "    print(\"ZYZ (active)  α={0:6.1f}, β={1:6.1f}, γ={2:6.1f} (deg)\".format(*t.euler_angles(convention='zyz', passive=False)*180/np.pi))\n",
    "    print(\"ZYZ (passive) α={0:6.1f}, β={1:6.1f}, γ={2:6.1f} (deg)\".format(*t.euler_angles(convention='zyz', passive=True)*180/np.pi))\n",
    "    print(\"ZXZ (active)  α={0:6.1f}, β={1:6.1f}, γ={2:6.1f} (deg)\".format(*t.euler_angles(convention='zxz', passive=False)*180/np.pi))\n",
    "    print(\"ZXZ (passive) α={0:6.1f}, β={1:6.1f}, γ={2:6.1f} (deg)\".format(*t.euler_angles(convention='zxz', passive=True)*180/np.pi))\n",
    "    print()\n"
   ]
  },
  {
   "cell_type": "markdown",
   "metadata": {},
   "source": [
    "We have seen how to specify your choice of conventions in Soprano to calculate Euler angles. However, as discussed earlier, there are four equivalent Euler angle sets for any choice of {ZYZ,ZXZ}, {active, passive}, and ordering convention. Understanding this can be very important when comparing results from different codes.\n",
    "\n",
    "You can access equivalent Euler angles in Soprano like this:\n"
   ]
  },
  {
   "cell_type": "code",
   "execution_count": 21,
   "metadata": {},
   "outputs": [
    {
     "name": "stdout",
     "output_type": "stream",
     "text": [
      "α=  28.0, β=  45.3, γ=  26.8 (deg)\n",
      "α=  28.0, β=  45.3, γ= 206.8 (deg)\n",
      "α= 208.0, β= 134.7, γ= 153.2 (deg)\n",
      "α= 208.0, β= 134.7, γ= 333.2 (deg)\n"
     ]
    }
   ],
   "source": [
    "# For example, for the ZYZ, active, Haeberlen convention tensor:\n",
    "t.order = 'h'\n",
    "equivalent_eulers = t.equivalent_euler_angles('zyz', passive=False) * 180 / np.pi\n",
    "\n",
    "# We can print these out neatly:\n",
    "for eulers in equivalent_eulers:\n",
    "    print('α={0:6.1f}, β={1:6.1f}, γ={2:6.1f} (deg)'.format(*eulers))"
   ]
  },
  {
   "cell_type": "markdown",
   "metadata": {},
   "source": [
    "## NMR tensors from .magres data"
   ]
  },
  {
   "cell_type": "markdown",
   "metadata": {},
   "source": [
    "We saw earlier in this tutorial how magnetic shielding, EFG, dipolar coupling and J-coupling tensors could be extracted from a .magres file and analysed using Soprano. Here we explain how to access the Euler angles from these tensors and how different default orderings apply. "
   ]
  },
  {
   "cell_type": "markdown",
   "metadata": {},
   "source": [
    "### Chemical shielding tensors\n",
    "\n",
    "If you simply want the Euler angles according to the default ordering convention in Soprano for MS tensors (Haeberlen), for all sites in your magres file you can simply do:"
   ]
  },
  {
   "cell_type": "code",
   "execution_count": 22,
   "metadata": {},
   "outputs": [
    {
     "name": "stdout",
     "output_type": "stream",
     "text": [
      "[[ 27.96235601  45.33901509  26.83660999]\n",
      " [272.66415652  77.36879495  93.22520173]\n",
      " [182.04368043  35.14497966 166.45558554]\n",
      " [182.66142427  83.1949885  115.14989736]\n",
      " [191.97626819  50.93125971 125.47393484]\n",
      " [299.07186816  42.28810672  25.35033859]\n",
      " [ 93.10412193  47.43018725 152.96615397]\n",
      " [  9.25627104  54.93258925  41.36551806]\n",
      " [183.04713505  59.54692522 125.9519578 ]]\n"
     ]
    }
   ],
   "source": [
    "from soprano.properties.nmr import MSEuler \n",
    "\n",
    "all_eulers = MSEuler.get(C2H6O, order='h', convention='zyz', passive=False)\n",
    "\n",
    "# NB that since these are the default settings for the MS tensors,\n",
    "# you can achieve the same using simply:\n",
    "all_eulers=  MSEuler.get(C2H6O)\n",
    "\n",
    "print(all_eulers * 180 / np.pi)\n"
   ]
  },
  {
   "cell_type": "markdown",
   "metadata": {},
   "source": [
    "However, if you want to compute relative Euler angles, then you can instead first extract the `NMRTensor` objects and work directly with them. For example:"
   ]
  },
  {
   "cell_type": "code",
   "execution_count": 23,
   "metadata": {},
   "outputs": [
    {
     "name": "stdout",
     "output_type": "stream",
     "text": [
      "There are 9 tensors in the ms_tensors list\n",
      "[27.96235601 45.33901509 26.83660999]\n",
      "[226.25350967  81.78516894  36.20814598]\n"
     ]
    }
   ],
   "source": [
    "# get a list of NMRTensor objects with Haeberlen ordering:\n",
    "ms_tensors = MSTensor().get(C2H6O)\n",
    "\n",
    "print(f\"There are {len(ms_tensors)} tensors in the ms_tensors list\")\n",
    "\n",
    "# To get the Euler angles (in degrees) for e.g first atom, as before you can do:\n",
    "eulers_0 = ms_tensors[0].euler_angles('zyz', passive=False) * 180 / np.pi\n",
    "print(eulers_0)\n",
    "\n",
    "# or the relative Euler angles between the first two atoms:\n",
    "eulers_0_to_1 = ms_tensors[0].euler_to(ms_tensors[1]) * 180 / np.pi\n",
    "print(eulers_0_to_1)"
   ]
  },
  {
   "cell_type": "markdown",
   "metadata": {},
   "source": [
    "#### Equivalent Euler angles\n",
    "\n",
    "As discussed earlier, in the general case, the Euler angles that describe the rotation from one NMR tensor to another are not unique. In fact, for a given choice of conventions, there can be up to 16 equivalent Euler angle sets all correctly describing the same rotation. \n",
    "\n",
    "For example, the rotation between the MS shielding tensor of atom 0 to that of atom 1 can be described by any of:"
   ]
  },
  {
   "cell_type": "code",
   "execution_count": 24,
   "metadata": {},
   "outputs": [
    {
     "name": "stdout",
     "output_type": "stream",
     "text": [
      "α\t\tβ\t\tγ (deg)\n",
      "226.25\t\t  81.79\t\t  36.21\n",
      " 46.25\t\t  98.21\t\t 323.79\n",
      " 46.25\t\t  98.21\t\t 143.79\n",
      "226.25\t\t  81.79\t\t 216.21\n",
      "133.75\t\t  98.21\t\t 216.21\n",
      "313.75\t\t  81.79\t\t 143.79\n",
      "313.75\t\t  81.79\t\t 323.79\n",
      "133.75\t\t  98.21\t\t  36.21\n",
      "313.75\t\t  98.21\t\t 216.21\n",
      "133.75\t\t  81.79\t\t 143.79\n",
      "133.75\t\t  81.79\t\t 323.79\n",
      "313.75\t\t  98.21\t\t  36.21\n",
      " 46.25\t\t  81.79\t\t  36.21\n",
      "226.25\t\t  98.21\t\t 323.79\n",
      "226.25\t\t  98.21\t\t 143.79\n",
      " 46.25\t\t  81.79\t\t 216.21\n"
     ]
    }
   ],
   "source": [
    "equivalent_eulers_0_to_1 = ms_tensors[0].equivalent_euler_to(ms_tensors[1])\n",
    "\n",
    "# This is just to print them out neatly, in degrees:\n",
    "print(\"α\\t\\tβ\\t\\tγ (deg)\")\n",
    "for eulers in equivalent_eulers_0_to_1:\n",
    "    print('{0:6.2f}\\t\\t {1:6.2f}\\t\\t {2:6.2f}'.format(*eulers* 180 / np.pi))"
   ]
  },
  {
   "cell_type": "markdown",
   "metadata": {},
   "source": [
    "### EFG tensors\n",
    "\n",
    "The approach to accessing EFG tensor Euler angles is exactly the same, though it's important to note that the default ordering for EFG tensors follows the NQR convention!"
   ]
  },
  {
   "cell_type": "code",
   "execution_count": 25,
   "metadata": {},
   "outputs": [
    {
     "name": "stdout",
     "output_type": "stream",
     "text": [
      "[[ 11.03244319  53.8688531  124.66006684]\n",
      " [281.370063    58.60389462 177.2437768 ]\n",
      " [193.17945823  54.80749091  63.11651013]\n",
      " [192.58906551  54.86121432   1.71828894]\n",
      " [282.0979964   58.46767793 125.27455202]\n",
      " [283.02612009  54.60580544 119.15653422]\n",
      " [107.1814723   53.91168656  32.42758192]\n",
      " [ 13.77889019  54.51695231 129.73651409]\n",
      " [146.57430779  44.36396799  94.77789967]]\n"
     ]
    }
   ],
   "source": [
    "from soprano.properties.nmr import EFGEuler \n",
    "\n",
    "all_eulers = EFGEuler.get(C2H6O, order='n', convention='zyz', passive=False)\n",
    "\n",
    "# NB that since these are the default settings for the EFG tensors,\n",
    "# you can achieve the same using simply:\n",
    "all_eulers=  EFGEuler.get(C2H6O)\n",
    "\n",
    "print(all_eulers * 180 / np.pi)\n"
   ]
  },
  {
   "cell_type": "markdown",
   "metadata": {},
   "source": [
    "#### Relative Euler angles between MS and EFG tensors\n",
    "\n",
    "This follows the same pattern as before: first extracting the `NMRTensor` objects and then using the `euler_to` methods to calculate the relative Euler angles between them. \n",
    "\n",
    "For example, looking each atom, we can compute the rotation to get from its MS tensor to its EFG tensor like this: "
   ]
  },
  {
   "cell_type": "code",
   "execution_count": 26,
   "metadata": {},
   "outputs": [
    {
     "name": "stdout",
     "output_type": "stream",
     "text": [
      "Euler angles from the MS to EFG tensors for each atom:\n",
      "α\t\tβ\t\tγ (deg)\n",
      "  4.13\t\t  15.41\t\t  89.09\n",
      " 22.31\t\t  20.41\t\t  65.02\n",
      " 45.14\t\t  21.12\t\t  39.52\n",
      "201.89\t\t  29.77\t\t  48.35\n",
      "318.10\t\t  21.50\t\t 153.58\n",
      "158.30\t\t  17.14\t\t 104.76\n",
      " 22.47\t\t  12.65\t\t  89.11\n",
      "145.38\t\t   3.72\t\t 123.64\n",
      " 56.61\t\t  81.84\t\t 148.84\n"
     ]
    }
   ],
   "source": [
    "ms_tensors = MSTensor.get(C2H6O)\n",
    "efg_tensors = EFGTensor.get(C2H6O)\n",
    "\n",
    "print('Euler angles from the MS to EFG tensors for each atom:')\n",
    "print(\"α\\t\\tβ\\t\\tγ (deg)\")\n",
    "for ms, efg in zip(ms_tensors, efg_tensors):\n",
    "    eulers = ms.euler_to(efg)\n",
    "    print('{0:6.2f}\\t\\t {1:6.2f}\\t\\t {2:6.2f}'.format(*eulers* 180 / np.pi))"
   ]
  },
  {
   "cell_type": "markdown",
   "metadata": {},
   "source": [
    "### Dipolar Coupling"
   ]
  },
  {
   "cell_type": "code",
   "execution_count": 27,
   "metadata": {},
   "outputs": [],
   "source": [
    "from soprano.properties.nmr import DipolarTensor, DipolarEuler"
   ]
  },
  {
   "cell_type": "code",
   "execution_count": 28,
   "metadata": {},
   "outputs": [
    {
     "name": "stdout",
     "output_type": "stream",
     "text": [
      "Euler angles for dipolar coupling between atoms\n",
      "Atom('H', [0.182454, -0.924201, 0.559623], index=1) and \n",
      "Atom('H', [1.060671, 0.677653, 2.297066], index=5):\n",
      " [290.88190746  55.73597807 146.49950036]\n",
      "\n",
      "Dipolar tensor for dipolar coupling between atoms\n",
      "Atom('H', [0.182454, -0.924201, 0.559623], index=1) and \n",
      "Atom('H', [1.060671, 0.677653, 2.297066], index=5):\n",
      " [[ 4767.38285578 -4977.5711161  -5398.89783505]\n",
      " [-4977.5711161  -1582.67354243 -9847.50476553]\n",
      " [-5398.89783505 -9847.50476553 -3184.70931334]]\n"
     ]
    }
   ],
   "source": [
    "# Let's say we only want the dipolar couplings between the 1st and 5th atoms:\n",
    "ij = (1,5)\n",
    "\n",
    "dip_eulers = DipolarEuler().get(C2H6O, degrees=True)[ij]\n",
    "print(f\"Euler angles for dipolar coupling between atoms\\n{C2H6O[ij[0]]} and \\n{C2H6O[ij[1]]}:\\n {dip_eulers}\")\n",
    "\n",
    "# Now let's get the dipolar tensor for the same pair of atoms\n",
    "dip_tensor = DipolarTensor().get(C2H6O)[ij]\n",
    "print()\n",
    "print(f\"Dipolar tensor for dipolar coupling between atoms\\n{C2H6O[ij[0]]} and \\n{C2H6O[ij[1]]}:\\n {dip_tensor.data}\")"
   ]
  }
 ],
 "metadata": {
  "kernelspec": {
   "display_name": "Python 3.9.5 ('base')",
   "language": "python",
   "name": "python3"
  },
  "language_info": {
   "codemirror_mode": {
    "name": "ipython",
    "version": 3
   },
   "file_extension": ".py",
   "mimetype": "text/x-python",
   "name": "python",
   "nbconvert_exporter": "python",
   "pygments_lexer": "ipython3",
   "version": "3.9.15"
  },
  "vscode": {
   "interpreter": {
    "hash": "dcf3964c9f098ea87c1c1258bc0cf8607e796f6d28cbe05fe0232edb9a1fcec4"
   }
  }
 },
 "nbformat": 4,
 "nbformat_minor": 1
}
