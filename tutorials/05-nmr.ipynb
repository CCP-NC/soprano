{
 "cells": [
  {
   "cell_type": "markdown",
   "metadata": {},
   "source": [
    "# Tutorial 5 - NMR Properties: using Soprano for working with .magres files\n",
    "\n",
    "\n",
    "```\n",
    "      _\n",
    "    /|_|\\   \n",
    "   / / \\ \\  \n",
    "  /_/   \\_\\  \n",
    "  \\ \\   / /  \n",
    "   \\ \\_/ /  \n",
    "    \\|_|/  \n",
    "\n",
    "```\n",
    "SOPRANO: a Python library for generation, manipulation and analysis of large batches of crystalline structures\n",
    "\n",
    "\n",
    "*Developed within the CCP-NC project. Copyright STFC 2022*"
   ]
  },
  {
   "cell_type": "code",
   "execution_count": 4,
   "metadata": {},
   "outputs": [],
   "source": [
    "# Basic imports\n",
    "import os, sys\n",
    "sys.path.insert(0, os.path.abspath('..')) # This to add the Soprano path to the PYTHONPATH\n",
    "                                          # so we can load it without installing it"
   ]
  },
  {
   "cell_type": "code",
   "execution_count": 5,
   "metadata": {},
   "outputs": [
    {
     "data": {
      "text/plain": [
       "<matplotlib.pyplot._IonContext at 0x7f6eb8daed30>"
      ]
     },
     "execution_count": 5,
     "metadata": {},
     "output_type": "execute_result"
    }
   ],
   "source": [
    "# Other useful imports\n",
    "\n",
    "import numpy as np\n",
    "\n",
    "import ase\n",
    "from ase import io as ase_io\n",
    "\n",
    "%matplotlib inline\n",
    "import matplotlib.pyplot as plt\n",
    "plt.ion()\n"
   ]
  },
  {
   "cell_type": "markdown",
   "metadata": {},
   "source": [
    "## 1 - Loading magres files\n",
    "\n",
    "ASE can read the Magres file format from version 3.11.0 (~2016). If your version of ASE does not support loading Magres files, try updating it or download the bleeding edge version from GitLab:\n",
    "\n",
    "https://gitlab.com/ase/ase"
   ]
  },
  {
   "cell_type": "code",
   "execution_count": 6,
   "metadata": {},
   "outputs": [],
   "source": [
    "C2H5O = ase_io.read('tutorial_data/ethanol.magres')"
   ]
  },
  {
   "cell_type": "markdown",
   "metadata": {},
   "source": [
    "## 2 - Labels and indices\n",
    "\n",
    "Labels and indices used in the magres file are stored in their own arrays and can be easily accessed and used to select atoms.\n",
    "\n",
    "If you use CASTEP and obtain your initial structure from a CIF file, note that you can use `cif2cell` with the `--export-cif-labels` flag to use the CIF site labels in your CASTEP .cell file. These labels will then be output in the generated .magres file."
   ]
  },
  {
   "cell_type": "code",
   "execution_count": 7,
   "metadata": {},
   "outputs": [
    {
     "name": "stdout",
     "output_type": "stream",
     "text": [
      "There are 1 hydrogen atom(s)\n",
      "The C2 atom is positioned at x = -0.247915, y = 1.164107, z = 0.937396 Ang\n"
     ]
    }
   ],
   "source": [
    "labels = C2H5O.get_array('labels')\n",
    "indices = C2H5O.get_array('indices')\n",
    "\n",
    "# Select only the protons' indices\n",
    "H_i = np.where(labels == 'H')\n",
    "H = C2H5O[H_i]\n",
    "# Select only C2\n",
    "C2_i = np.where((labels == 'C') & (indices == 2))[0]\n",
    "C2 = C2H5O[C2_i]\n",
    "\n",
    "print(\"There are {0} hydrogen atom(s)\".format(len(H)))\n",
    "print(\"The C2 atom is positioned at x = {0}, y = {1}, z = {2} Ang\".format(*C2.get_positions()[0]))"
   ]
  },
  {
   "cell_type": "code",
   "execution_count": 8,
   "metadata": {},
   "outputs": [
    {
     "name": "stdout",
     "output_type": "stream",
     "text": [
      "The labels are H_1, H_2, H_3, H_4, H_5, H_6, C_1, C_2, O_1\n"
     ]
    }
   ],
   "source": [
    "# One can also recreate the Jmol/MagresView-style labels if needed:\n",
    "jmol_labels = [\"{0}_{1}\".format(l, i) for l, i in zip(labels, indices)]\n",
    "\n",
    "print(\"The labels are {0}\".format(', '.join(jmol_labels)))"
   ]
  },
  {
   "cell_type": "markdown",
   "metadata": {},
   "source": [
    "## 3 - Magnetic shieldings and chemical shifts\n",
    "\n",
    "All the NMR tensors stored in the original .magres file are saved as arrays in the Atoms object and can be accessed directly. However, Soprano also provides a set of properties to express the tensors in the form of parameters useful to compute the spectrum.\n",
    "\n"
   ]
  },
  {
   "cell_type": "code",
   "execution_count": 9,
   "metadata": {},
   "outputs": [
    {
     "name": "stdout",
     "output_type": "stream",
     "text": [
      "Label\tIsotropy\tAnisotropy\tAsymmetry\n",
      "H_1\t 29.59 ppm\t  8.94 ppm\t0.14\n",
      "H_2\t 30.26 ppm\t  8.19 ppm\t0.21\n",
      "H_3\t 30.10 ppm\t  7.29 ppm\t0.06\n",
      "H_4\t 26.98 ppm\t  8.17 ppm\t0.94\n",
      "H_5\t 27.39 ppm\t -7.12 ppm\t0.93\n",
      "H_6\t 31.98 ppm\t 14.12 ppm\t0.45\n",
      "C_1\t156.47 ppm\t 33.80 ppm\t0.70\n",
      "C_2\t109.86 ppm\t 70.25 ppm\t0.41\n",
      "O_1\t268.03 ppm\t-51.38 ppm\t0.98\n"
     ]
    }
   ],
   "source": [
    "from soprano.properties.nmr import *\n",
    "\n",
    "# Isotropy, Anisotropy and Asymmetry (Haeberlen convention)\n",
    "# These return arrays of the same length as the number of atoms.\n",
    "iso = MSIsotropy.get(C2H5O)\n",
    "aniso = MSAnisotropy.get(C2H5O)\n",
    "asymm = MSAsymmetry.get(C2H5O)\n",
    "\n",
    "print('Label\\tIsotropy\\tAnisotropy\\tAsymmetry')\n",
    "for i, jl in enumerate(jmol_labels):\n",
    "    print('{0}\\t{1:6.2f} ppm\\t{2:6.2f} ppm\\t{3:3.2f}'.format(jl, iso[i], aniso[i], asymm[i]))"
   ]
  },
  {
   "cell_type": "code",
   "execution_count": 10,
   "metadata": {},
   "outputs": [
    {
     "name": "stdout",
     "output_type": "stream",
     "text": [
      "Label\t  Span\t\t Skew\n",
      "H_1\t  9.36 ppm\t -0.82\n",
      "H_2\t  8.76 ppm\t -0.74\n",
      "H_3\t  7.43 ppm\t -0.92\n",
      "H_4\t 10.72 ppm\t -0.05\n",
      "H_5\t  9.33 ppm\t  0.05\n",
      "H_6\t 16.25 ppm\t -0.48\n",
      "C_1\t 41.73 ppm\t -0.24\n",
      "C_2\t 79.95 ppm\t -0.51\n",
      "O_1\t 68.22 ppm\t  0.01\n"
     ]
    }
   ],
   "source": [
    "# Span and skew\n",
    "span = MSSpan.get(C2H5O)\n",
    "skew = MSSkew.get(C2H5O)\n",
    "\n",
    "print('Label\\t  Span\\t\\t Skew')\n",
    "for i, jl in enumerate(jmol_labels):\n",
    "    print('{0}\\t{1:6.2f} ppm\\t{2:6.2f}'.format(jl, span[i], skew[i]))"
   ]
  },
  {
   "cell_type": "code",
   "execution_count": 11,
   "metadata": {},
   "outputs": [
    {
     "name": "stdout",
     "output_type": "stream",
     "text": [
      "Label\t alpha/deg\tbeta/deg\tgamma/deg\n",
      "H_1\t  -27.96\t  134.66\t   26.84\n",
      "H_2\t  -92.66\t   77.37\t   86.77\n",
      "H_3\t  177.96\t  144.86\t  -13.54\n",
      "H_4\t  177.34\t   96.81\t  -64.85\n",
      "H_5\t   53.84\t  116.78\t -134.91\n",
      "H_6\t   60.93\t  137.71\t   25.35\n",
      "C_1\t  -93.10\t  132.57\t  -27.03\n",
      "C_2\t   -9.26\t  125.07\t -138.63\n",
      "O_1\t   66.77\t  120.41\t -125.99\n"
     ]
    }
   ],
   "source": [
    "# Quaternion (orientation of the tensor with respect to the Cartesian axes)\n",
    "# from which we extract the Euler angles\n",
    "\n",
    "quat = MSQuaternion.get(C2H5O)\n",
    "\n",
    "print('Label\\t alpha/deg\\tbeta/deg\\tgamma/deg')\n",
    "for i, jl in enumerate(jmol_labels):\n",
    "    a, b, c = quat[i].euler_angles(mode='zyz')*180/np.pi # rad to degrees\n",
    "    print('{0}\\t{1:8.2f}\\t{2:8.2f}\\t{3:8.2f}'.format(jl, a, b, c))"
   ]
  },
  {
   "cell_type": "markdown",
   "metadata": {},
   "source": [
    "## 4 - Electric field gradients and quadrupolar couplings\n",
    "\n",
    "Similarly named properties exist for the EFG tensors - EFGSpan, EFGAnisotropy, EFGQuaternion, etc. A few more are specific (and of course there's no EFGIsotropy, for obvious reasons).\n",
    "The most important difference is of course the introduction of the quadrupolar constant $\\chi$, namely:\n",
    "\n",
    "$\\chi = \\frac{e^2qQ}{h}$\n",
    "\n",
    "where $e$ is the elementary charge, $V_{zz}=eq$, $Q$ is the quadrupole moment of the given element and isotope and $h$ the Planck constant. This definition returns a frequency. If one wants a pulsation $\\omega$ it needs to multiplied by a factor of $2\\pi$."
   ]
  },
  {
   "cell_type": "code",
   "execution_count": 12,
   "metadata": {},
   "outputs": [
    {
     "name": "stdout",
     "output_type": "stream",
     "text": [
      "Label\tVzz\t\tChi\n",
      "H_1\t 0.29 au\t 0.19 MHz\n",
      "H_2\t 0.28 au\t 0.19 MHz\n",
      "H_3\t 0.29 au\t 0.20 MHz\n",
      "H_4\t 0.27 au\t 0.18 MHz\n",
      "H_5\t 0.28 au\t 0.19 MHz\n",
      "H_6\t 0.44 au\t 0.30 MHz\n",
      "C_1\t 0.04 au\t 0.00 MHz\n",
      "C_2\t 0.40 au\t 0.00 MHz\n",
      "O_1\t-1.86 au\t11.19 MHz\n"
     ]
    }
   ],
   "source": [
    "# Vzz component, in atomic units\n",
    "\n",
    "vzz = EFGVzz.get(C2H5O)\n",
    "\n",
    "# For quadrupolar constants, isotopes become relevant. This means we need to create custom Property instances to\n",
    "# specify them. There are multiple ways to do so - check the docstrings for more details - but here we set them\n",
    "# by element. When nothing is specified it defaults to the most common NMR active isotope.\n",
    "\n",
    "qP = EFGQuadrupolarConstant(isotopes={'H': 2}) # Deuterated; for the others use the default\n",
    "qC = qP(C2H5O)/1e6 # To MHz\n",
    "\n",
    "print('Label\\tVzz\\t\\tChi')\n",
    "for i, jl in enumerate(jmol_labels):\n",
    "    print('{0}\\t{1:5.2f} au\\t{2:5.2f} MHz'.format(jl, vzz[i], qC[i]))"
   ]
  },
  {
   "cell_type": "markdown",
   "metadata": {},
   "source": [
    "# 5 - Dipolar couplings\n",
    "\n",
    "Soprano can compute dipolar couplings between any pair of atoms, defined as:\n",
    "\n",
    "$$\n",
    "d_{ij} = -\\frac{\\mu_0\\hbar\\gamma_i\\gamma_j}{8\\pi^2r_{ij}^3}\n",
    "$$\n",
    "\n",
    "where the $\\gamma$ represent the gyromagnetic ratios of the nuclei and the\n",
    "$r$ is their distance. The full tensor of the interaction is then defined as\n",
    "\n",
    "$$\n",
    "         D_{ij} =\n",
    "         \\begin{bmatrix}\n",
    "          -d_{ij}   & 0         & 0       \\\\\n",
    "          0         & -d_{ij}   & 0       \\\\\n",
    "          0         & 0         & 2d_{ij} \\\\\n",
    "         \\end{bmatrix}\n",
    "$$\n",
    "\n",
    "See the [DipolarCoupling reference for more information.](https://ccp-nc.github.io/soprano/_autosummary/soprano.properties.nmr.dipolar.html#soprano.properties.nmr.dipolar.DipolarCoupling)"
   ]
  },
  {
   "cell_type": "code",
   "execution_count": 13,
   "metadata": {},
   "outputs": [
    {
     "name": "stdout",
     "output_type": "stream",
     "text": [
      "i\tj\tDipolar coupling/kHz\n",
      "H_1\tH_2\t    -21.68\n",
      "H_1\tH_3\t    -21.36\n",
      "H_1\tH_4\t     -7.60\n",
      "H_1\tH_5\t     -7.57\n",
      "H_1\tH_6\t     -2.52\n",
      "H_2\tH_3\t    -21.55\n",
      "H_2\tH_4\t     -7.52\n",
      "H_2\tH_5\t     -4.17\n",
      "H_2\tH_6\t     -7.50\n",
      "H_3\tH_4\t     -4.16\n",
      "H_3\tH_5\t     -7.69\n",
      "H_3\tH_6\t     -4.57\n",
      "H_4\tH_5\t    -21.79\n",
      "H_4\tH_6\t     -9.50\n",
      "H_5\tH_6\t     -5.39\n"
     ]
    }
   ],
   "source": [
    "# Let's say we only want the homonuclear H dipolar couplings. We first select the indices of the H atoms\n",
    "from soprano.selection import AtomSelection\n",
    "selH = AtomSelection.from_element(C2H5O, 'H')\n",
    "\n",
    "# dip is a dictionary of the form {(i,j): [dipolar_coupling, vector]}\n",
    "dip = DipolarCoupling().get(\n",
    "        C2H5O,                 # the crystal structure (ASE Atoms object)\n",
    "        sel_i = selH,          # this can either be a list of indices or an AtomSelection object\n",
    "        sel_j = selH,          # this is redundant in this case, but it's good practice to specify it\n",
    "        isotopes = {'H': 1},   # You can specify whatever isotope you want here.\n",
    "        self_coupling = False, # include interactions with itself\n",
    "        )\n",
    "# sort dictiorary by keys (i.e. sort by (i,j) indices)\n",
    "dip = {k: dip[k] for k in sorted(dip.keys())}\n",
    "\n",
    "# print the dipolar couplings\n",
    "print('i\\tj\\tDipolar coupling/kHz')\n",
    "for (i,j), (d, v) in dip.items():\n",
    "    d = d/1e3 # to kHz\n",
    "    print(f\"{jmol_labels[i]}\\t{jmol_labels[j]}\\t{d:10.2f}\")"
   ]
  },
  {
   "cell_type": "markdown",
   "metadata": {},
   "source": [
    "# 6 J-couplings (indirect spin-spin coupling)\n",
    "\n",
    "[`JCIsotropy`](https://ccp-nc.github.io/soprano/_autosummary/soprano.properties.nmr.isc.html#soprano.properties.nmr.isc.JCIsotropy) produces a dictionary of J coupling isotropies for atom pairs in the system. See [`JCDiagonal`](https://ccp-nc.github.io/soprano/_autosummary/soprano.properties.nmr.isc.html#soprano.properties.nmr.isc.JCDiagonal) for how reduced couplings are transformed into couplings.\n",
    "\n",
    "You can use the `tag` argument to select the J-coupling component to return. \n",
    "```\n",
    "tag (str): name of the J coupling component to return. Magres files\n",
    "              usually contain isc, isc_spin, isc_fc, isc_orbital_p and\n",
    "              isc_orbital_d. Default is isc.\n",
    "```"
   ]
  },
  {
   "cell_type": "code",
   "execution_count": 14,
   "metadata": {},
   "outputs": [
    {
     "name": "stdout",
     "output_type": "stream",
     "text": [
      "i\tj\tJ coupling/Hz\n",
      "H_1\tC_1\t     15.67\n",
      "H_2\tC_1\t     16.05\n",
      "H_3\tC_1\t     16.27\n",
      "H_4\tC_2\t     17.64\n",
      "H_5\tC_2\t     17.87\n",
      "H_6\tO_1\t     -9.65\n",
      "C_1\tC_2\t     29.16\n",
      "C_2\tO_1\t     15.61\n"
     ]
    }
   ],
   "source": [
    "from soprano.properties.nmr.isc import JCIsotropy\n",
    "jcoupling = JCIsotropy().get(\n",
    "        C2H5O,                 # the crystal structure (ASE Atoms object)\n",
    "        isotopes = {'H': 2},   # You can specify whatever isotopes you want here.\n",
    "        tag = 'isc',           # Which J coupling component to use. 'isc' is default. See your magres file for what has been computed.  \n",
    "        self_coupling = False, # include interactions with periodic images of self?\n",
    "        )\n",
    "        \n",
    "# Now we print out the couplings\n",
    "print('i\\tj\\tJ coupling/Hz')\n",
    "for (i,j), jcoup in jcoupling.items():\n",
    "    # We can filter out the couplings to just the largest ones e.g.\n",
    "    # to only print out the couplings larger than 5 Hz:\n",
    "    if np.abs(jcoup) > 5: \n",
    "         print(f\"{jmol_labels[i]}\\t{jmol_labels[j]}\\t{jcoup:10.2f}\")"
   ]
  },
  {
   "cell_type": "markdown",
   "metadata": {},
   "source": [
    "# 7 - Creating simple spectra\n",
    "\n",
    "Besides handling NMR properties, Soprano also allows you to create simple simulations of NMR spectra. These are only computed by considering the known properties of shielding and quadrupolar interactions, which means that their accuracy is limited; they are *not* spin dynamics simulations and should be treated as such. Currently these include orientational as well as isotropic effects, up to the second order for quadrupole interactions. The limit of infinite speed MAS is included as well. They do NOT include:\n",
    "\n",
    "* dipolar interactions\n",
    "* J-couplings\n",
    "* finite spinning speed effects\n",
    "* cross-polarisation or other pulse sequence effects\n",
    "\n",
    "See [`NMRCalculator`](https://ccp-nc.github.io/soprano/_autosummary/soprano.calculate.nmr.nmr.html#soprano.calculate.nmr.nmr.NMRCalculator) for the full reference documentation.\n",
    "\n",
    "For more advanced simulations using [Simpson](https://doi.org/10.1006/jmre.2000.2179), see the Soprano interface reference: [`SimpsonSequence`](https://ccp-nc.github.io/soprano/_autosummary/soprano.calculate.nmr.simpson.html#soprano.calculate.nmr.simpson.SimpsonSequence)."
   ]
  },
  {
   "cell_type": "code",
   "execution_count": 15,
   "metadata": {
    "scrolled": true
   },
   "outputs": [
    {
     "name": "stdout",
     "output_type": "stream",
     "text": [
      "Field: 1.00 T\n",
      "Larmor frequency for 13C: 10.71 MHz\n",
      "Powder orientations: 545\n"
     ]
    }
   ],
   "source": [
    "# Let's look at the ethanol molecule. First we create an NMR calculator\n",
    "\n",
    "from soprano.calculate.nmr.nmr import NMRCalculator, NMRFlags\n",
    "\n",
    "nCalc = NMRCalculator(C2H5O) # We create the calculator here\n",
    "\n",
    "# Setting the Larmor frequency; default units are MHz\n",
    "# This is set for a specific isotope and determines the magnetic field for everything else as well\n",
    "nCalc.set_larmor_frequency(42.6, element='1H')\n",
    "print(\"Field: {0:.2f} T\".format(nCalc.B))\n",
    "# We can also get what the frequency would be for a different element...\n",
    "print(\"Larmor frequency for 13C: {0:.2f} MHz\".format(nCalc.get_larmor_frequency('13C')))\n",
    "\n",
    "# Set a reference shielding, in ppm\n",
    "nCalc.set_reference(100, '1H')\n",
    "\n",
    "# Set a powder averaging. Higher values of N mean finer average\n",
    "nCalc.set_powder(N=16)\n",
    "print(\"Powder orientations: {0}\".format(len(nCalc._orients[0])))"
   ]
  },
  {
   "cell_type": "code",
   "execution_count": 16,
   "metadata": {},
   "outputs": [],
   "source": [
    "# Compute the spectrum for protons; only chemical shielding, including anisotropy effects\n",
    "freqRange = 100\n",
    "spec1H_aniso, freqs = nCalc.spectrum_1d('1H', effects=NMRFlags.STATIC, max_freq=freqRange, min_freq=0, bins=501)\n",
    "# Now only the isotropic lines (as if spinning)\n",
    "# We add a broadening to make the lines more visible\n",
    "spec1H_iso, freqs = nCalc.spectrum_1d('1H', effects=NMRFlags.MAS, max_freq=freqRange, min_freq=0, bins=501,\n",
    "                                      freq_broad=0.2)"
   ]
  },
  {
   "cell_type": "code",
   "execution_count": 17,
   "metadata": {},
   "outputs": [
    {
     "data": {
      "text/plain": [
       "<matplotlib.legend.Legend at 0x7f6eb5029fa0>"
      ]
     },
     "execution_count": 17,
     "metadata": {},
     "output_type": "execute_result"
    },
    {
     "data": {
      "image/png": "[encoded data removed]",
      "text/plain": [
       "<Figure size 432x288 with 1 Axes>"
      ]
     },
     "metadata": {
      "needs_background": "light"
     },
     "output_type": "display_data"
    }
   ],
   "source": [
    "fig = plt.figure()\n",
    "ax = fig.add_subplot(111)\n",
    "\n",
    "ax.plot(freqs, spec1H_aniso, label='Static line')\n",
    "ax.plot(freqs, spec1H_iso, label='Isotropic shifts')\n",
    "\n",
    "ax.legend()"
   ]
  },
  {
   "cell_type": "code",
   "execution_count": 18,
   "metadata": {},
   "outputs": [],
   "source": [
    "# Now let's look at the static quadrupolar line of 17O\n",
    "freqRange = 1000000\n",
    "spec17O_1, freqs = nCalc.spectrum_1d('17O', effects=NMRFlags.Q_1_ORIENT, max_freq=freqRange, min_freq=-freqRange, bins=501)\n",
    "spec17O_s, freqs = nCalc.spectrum_1d('17O', effects=NMRFlags.Q_STATIC, max_freq=freqRange, min_freq=-freqRange, bins=501)"
   ]
  },
  {
   "cell_type": "code",
   "execution_count": 19,
   "metadata": {},
   "outputs": [
    {
     "data": {
      "text/plain": [
       "<matplotlib.legend.Legend at 0x7f6eb4f74fd0>"
      ]
     },
     "execution_count": 19,
     "metadata": {},
     "output_type": "execute_result"
    },
    {
     "data": {
      "image/png": "[encoded data removed]",
      "text/plain": [
       "<Figure size 432x288 with 1 Axes>"
      ]
     },
     "metadata": {
      "needs_background": "light"
     },
     "output_type": "display_data"
    }
   ],
   "source": [
    "fig = plt.figure()\n",
    "ax = fig.add_subplot(111)\n",
    "\n",
    "ax.plot(freqs, spec17O_1, label='First order')\n",
    "ax.plot(freqs, spec17O_s, label='First+second order')\n",
    "\n",
    "ax.legend()"
   ]
  },
  {
   "cell_type": "code",
   "execution_count": 20,
   "metadata": {},
   "outputs": [
    {
     "name": "stdout",
     "output_type": "stream",
     "text": [
      "CS_ISO\n",
      "CS_ORIENT\n",
      "CS\n",
      "Q_1_ORIENT\n",
      "Q_2_SHIFT\n",
      "Q_2_ORIENT_STATIC\n",
      "Q_2_ORIENT_MAS\n",
      "Q_2_STATIC\n",
      "Q_2_MAS\n",
      "Q_STATIC\n",
      "Q_MAS\n",
      "STATIC\n",
      "MAS\n"
     ]
    }
   ],
   "source": [
    "# There's a number of other possible NMRFlags for various effects...\n",
    "for fl in NMRFlags._fields:\n",
    "    print(fl)"
   ]
  }
 ],
 "metadata": {
  "kernelspec": {
   "display_name": "Python 3.9.5 ('base')",
   "language": "python",
   "name": "python3"
  },
  "language_info": {
   "codemirror_mode": {
    "name": "ipython",
    "version": 3
   },
   "file_extension": ".py",
   "mimetype": "text/x-python",
   "name": "python",
   "nbconvert_exporter": "python",
   "pygments_lexer": "ipython3",
   "version": "3.9.5"
  },
  "vscode": {
   "interpreter": {
    "hash": "dcf3964c9f098ea87c1c1258bc0cf8607e796f6d28cbe05fe0232edb9a1fcec4"
   }
  }
 },
 "nbformat": 4,
 "nbformat_minor": 1
}
