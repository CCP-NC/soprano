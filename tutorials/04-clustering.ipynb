{
 "cells": [
  {
   "cell_type": "markdown",
   "metadata": {},
   "source": [
    "# Tutorial 4 - Clustering analysis\n",
    "\n",
    "\n",
    "```\n",
    "      _\n",
    "    /|_|\\   \n",
    "   / / \\ \\  \n",
    "  /_/   \\_\\  \n",
    "  \\ \\   / /  \n",
    "   \\ \\_/ /  \n",
    "    \\|_|/  \n",
    "\n",
    "```\n",
    "SOPRANO: a Python library for generation, manipulation and analysis of large batches of crystalline structures\n",
    "\n",
    "\n",
    "*Developed within the CCP-NC project. Copyright STFC 2022*"
   ]
  },
  {
   "cell_type": "code",
   "execution_count": 8,
   "metadata": {},
   "outputs": [],
   "source": [
    "# Basic imports\n",
    "import os, sys\n",
    "sys.path.insert(0, os.path.abspath('..')) # This to add the Soprano path to the PYTHONPATH\n",
    "                                          # so we can load it without installing it"
   ]
  },
  {
   "cell_type": "code",
   "execution_count": 9,
   "metadata": {},
   "outputs": [],
   "source": [
    "# Other useful imports\n",
    "\n",
    "import glob\n",
    "\n",
    "import numpy as np\n",
    "\n",
    "import ase\n",
    "from ase import io as ase_io\n",
    "\n",
    "from soprano.collection import AtomsCollection"
   ]
  },
  {
   "cell_type": "markdown",
   "metadata": {},
   "source": [
    "## 1 - SETTING UP CLUSTERING\n",
    "\n",
    "When dealing with multiple structures, Soprano allows to use clustering tools to split them in groups. In this case\n",
    "we'll use the examples from the first tutorial for a very basic analysis. These examples are slightly randomised \n",
    "copies of BCC and FCC iron cells. Telling which one is which is going to be the focus of this exercise."
   ]
  },
  {
   "cell_type": "code",
   "execution_count": 10,
   "metadata": {},
   "outputs": [
    {
     "name": "stdout",
     "output_type": "stream",
     "text": [
      "Loading collection...\n",
      "Loading: [████████████████████] |\n",
      "Loaded 10 structures\n"
     ]
    }
   ],
   "source": [
    "from soprano.analyse.phylogen import Gene, PhylogenCluster\n",
    "\n",
    "# List all files in the tutorial directory\n",
    "cifs = glob.glob('tutorial_data/struct*.cif')\n",
    "\n",
    "aColl = AtomsCollection(cifs, progress=True) # \"progress\" means we will visualize a loading bar"
   ]
  },
  {
   "cell_type": "code",
   "execution_count": 11,
   "metadata": {},
   "outputs": [
    {
     "name": "stdout",
     "output_type": "stream",
     "text": [
      "---- Genetic strings for each structure (normalised) ----\n",
      "\n",
      "[0.00293262 0.56812516 0.54631344 0.03808934 0.         0.\n",
      " 0.         0.         0.        ]\n",
      "[0.00215384 0.57509577 0.57735027 0.23421216 0.10938268 0.06456274\n",
      " 0.09726671 0.03729165 0.02427493]\n",
      "[0.57066257 0.00915342 0.         0.40824829 0.40824829 0.36095277\n",
      " 0.34974159 0.38051256 0.40824829]\n",
      "[0.57735027 0.         0.02855261 0.08114935 0.31351101 0.40824829\n",
      " 0.36910988 0.40188516 0.37920134]\n",
      "[0.00249825 0.55684471 0.54655231 0.31208267 0.16584198 0.12546308\n",
      " 0.08714662 0.06382641 0.01657239]\n",
      "[4.31796347e-04 5.77350269e-01 5.71776698e-01 3.82204059e-01\n",
      " 2.89731320e-01 3.79430700e-01 2.56767743e-01 7.65829984e-02\n",
      " 4.10390850e-02]\n",
      "[0.         0.56188745 0.55543817 0.3211884  0.14902253 0.13332735\n",
      " 0.06522664 0.06238218 0.02563075]\n",
      "[0.57384706 0.01255508 0.01286699 0.16859345 0.33401103 0.21194266\n",
      " 0.15841008 0.39493079 0.36652912]\n",
      "[0.57442536 0.025859   0.00454644 0.         0.02776742 0.39108816\n",
      " 0.40824829 0.40824829 0.38578646]\n",
      "[0.00234147 0.56843585 0.57506511 0.03983816 0.31892844 0.30571813\n",
      " 0.12517734 0.03719032 0.01087275] \n",
      "\n",
      "Info:\t [('latt_abc_len', 3), ('linkage_list', 6)] \n",
      "\n",
      "\n"
     ]
    }
   ],
   "source": [
    "# To carry out the analysis we need to define a PhylogenCluster object. This will need as input some Gene objects.\n",
    "# The phylogenetic nomenclature is just an analogy to the way phylogenetic analysis is carried out in biology.\n",
    "# Ideally, we're trying to give each structure a \"DNA\" of sorts, then compare them amongst themselves to find\n",
    "# which ones are more closely related.\n",
    "# Finding the right properties to use to distinguish between structures is key here. In this examples it's pretty\n",
    "# simple but we'll still illustrate a couple different ways to get there\n",
    "\n",
    "# This gene represents the length of the three lattice parameters\n",
    "gene_abc = Gene(name='latt_abc_len', weight=1.0, params={})\n",
    "\n",
    "# This gene represents the linkage list property as seen in tutorial 2\n",
    "gene_lnk = Gene(name='linkage_list', weight=1.0, params={})\n",
    "\n",
    "# We can try these separately or together\n",
    "phClust1 = PhylogenCluster(aColl, [gene_abc])\n",
    "phClust2 = PhylogenCluster(aColl, [gene_lnk])\n",
    "phClust3 = PhylogenCluster(aColl, [gene_abc, gene_lnk]) # In this case they get chained together,\n",
    "                                                        # and the relative weights are used\n",
    "    \n",
    "# Here's a summary of the generated \"genes\"\n",
    "genes, genes_info = phClust3.get_genome_vectors_norm()\n",
    "\n",
    "print(\"---- Genetic strings for each structure (normalised) ----\\n\")\n",
    "print('\\n'.join([str(g) for g in genes]), '\\n')\n",
    "print('Info:\\t', genes_info, '\\n\\n') # This tells us which genes are present and how long the respective fields are"
   ]
  },
  {
   "cell_type": "markdown",
   "metadata": {},
   "source": [
    "## 2 - CLUSTERING METHODS\n",
    "\n",
    "When clustering structures two algorithms are available: hierarchical and k-means.  \n",
    "Hierarchical clustering builds a tree branching progressively from a single \"trunk\" containing all structures to \n",
    "multiple \"leaves\" representing each one structure. To turn this into a number of cluster a depth has to be\n",
    "provided by the user.  \n",
    "K-Means clustering builds a fixed number of clusters. In this case no depth is required but the user still needs\n",
    "to submit an educated guess about the expected number of clusters. Some times the algorithm can produce less \n",
    "clusters than that anyway (i.e. some clusters are in fact left empty)."
   ]
  },
  {
   "cell_type": "code",
   "execution_count": 12,
   "metadata": {},
   "outputs": [
    {
     "name": "stdout",
     "output_type": "stream",
     "text": [
      "---- k-means clusters obtained with different genomes ----\n",
      "\n",
      "ABC only:\t [2 2 1 1 2 2 2 1 1 2]\n",
      "Linkage only:\t [1 1 2 2 1 1 1 2 2 1]\n",
      "Both:\t\t [1 1 2 2 1 1 1 2 2 1]\n",
      "\n",
      "\n",
      "---- Hierarchical clusters obtained with different genomes ----\n",
      "\n",
      "t = 0.0:\t\t [ 8  7  4  1  5  9  6  3  2 10]\n",
      "t = 0.1:\t\t [7 6 4 1 5 8 5 3 2 9]\n",
      "t = 0.2:\t\t [6 5 4 1 5 7 5 3 2 8]\n",
      "t = 0.30000000000000004:\t\t [5 5 4 1 5 6 5 3 2 7]\n",
      "t = 0.4:\t\t [2 2 1 1 2 2 2 1 1 2]\n",
      "t = 0.5:\t\t [2 2 1 1 2 2 2 1 1 2]\n",
      "t = 0.6000000000000001:\t\t [2 2 1 1 2 2 2 1 1 2]\n",
      "t = 0.7000000000000001:\t\t [2 2 1 1 2 2 2 1 1 2]\n",
      "t = 0.8:\t\t [2 2 1 1 2 2 2 1 1 2]\n",
      "t = 0.9:\t\t [2 2 1 1 2 2 2 1 1 2]\n",
      "t = 1.0:\t\t [2 2 1 1 2 2 2 1 1 2]\n"
     ]
    }
   ],
   "source": [
    "# First, trying k-means. We know to expect 2 clusters in this case (BCC and FCC)\n",
    "clust1_inds, clust1_slices = phClust1.get_kmeans_clusters(2) # Returns indices and slices representing the clusters\n",
    "clust2_inds, clust2_slices = phClust2.get_kmeans_clusters(2)\n",
    "clust3_inds, clust3_slices = phClust3.get_kmeans_clusters(2)\n",
    "\n",
    "# Now to compare...\n",
    "# These should be the same except for the possibility of indices being swapped\n",
    "print(\"---- k-means clusters obtained with different genomes ----\\n\")\n",
    "print(\"ABC only:\\t\", clust1_inds)\n",
    "print(\"Linkage only:\\t\", clust2_inds)\n",
    "print(\"Both:\\t\\t\", clust3_inds)\n",
    "print(\"\\n\")\n",
    "\n",
    "# Now hierarchical clustering\n",
    "print(\"---- Hierarchical clusters obtained with different genomes ----\\n\")\n",
    "# Variable t (depth of traversing in the tree)\n",
    "# At the beginning should start with the most branched out version, then leaves should coalesce into clusters\n",
    "for t in np.linspace(0, 1, 11):\n",
    "    print(\"t = {0}:\\t\\t\".format(t), phClust3.get_hier_clusters(t)[0])"
   ]
  },
  {
   "cell_type": "code",
   "execution_count": 13,
   "metadata": {},
   "outputs": [
    {
     "name": "stdout",
     "output_type": "stream",
     "text": [
      "Clusters found: [1 1 2 2 1 1 1 2 2 1]\n"
     ]
    }
   ],
   "source": [
    "# Optionally, it is possible to also get clusters with the scikit-learn library (if present)\n",
    "# All potential algortithms are found at: http://scikit-learn.org/stable/modules/clustering.html\n",
    "\n",
    "try:\n",
    "    clust3_sk_inds, clust3_sk_slices = phClust3.get_sklearn_clusters('AgglomerativeClustering')\n",
    "    print('Clusters found: {0}'.format(clust3_sk_inds))\n",
    "except RuntimeError as e:\n",
    "    print(e)"
   ]
  },
  {
   "cell_type": "markdown",
   "metadata": {},
   "source": [
    "## 3 - MAPS\n",
    "\n",
    "Clusters are created by associating points that exist in a high-dimensional space. For example if you used the\n",
    "phClust3 above, including latt_abc_len and linkage_list, it should generate a 9-dimensional vector for each \n",
    "system. For this reason visualising immediately these points to verify their aggregation isn't possible.  \n",
    "However, there are methods able to simplify these spaces in a way that accomodates the human eye. These \"mappings\"\n",
    "reduce a high dimensionality space to a 2D one, retaining as much information as possible. There are many possible\n",
    "algorithms to do this; Soprano implements some of the most common ones. For more information check this paper:\n",
    "**W. Siedlecki et al., Patt. Recog. vol. 21, num. 5, pp. 411 429 (1988)**"
   ]
  },
  {
   "cell_type": "code",
   "execution_count": 14,
   "metadata": {
    "scrolled": false
   },
   "outputs": [
    {
     "name": "stdout",
     "output_type": "stream",
     "text": [
      "Help on method create_mapping in module soprano.analyse.phylogen.phylogenclust:\n",
      "\n",
      "create_mapping(method='total-principal') method of soprano.analyse.phylogen.phylogenclust.PhylogenCluster instance\n",
      "    Return an array of 2-dimensional points representing a reduced\n",
      "    dimensionality mapping of the given genes using the algorithm of\n",
      "    choice. All algorithms are described in [W. Siedlecki et al., Patt.\n",
      "    Recog. vol. 21, num. 5, pp. 411 429 (1988)].\n",
      "    \n",
      "    | Args:\n",
      "    |   method (str): can be one of the following algorithms:\n",
      "    |                     - total_principal (default)\n",
      "    |                     - clafic\n",
      "    |                     - fukunaga-koontz\n",
      "    |                     - optimal-discriminant\n",
      "\n",
      "None\n"
     ]
    },
    {
     "data": {
      "text/plain": [
       "<matplotlib.collections.PathCollection at 0x794f745cdf70>"
      ]
     },
     "execution_count": 14,
     "metadata": {},
     "output_type": "execute_result"
    },
    {
     "data": {
      "image/png": "[encoded data removed]",
      "text/plain": [
       "<Figure size 640x480 with 1 Axes>"
      ]
     },
     "metadata": {},
     "output_type": "display_data"
    }
   ],
   "source": [
    "%matplotlib inline\n",
    "import matplotlib.pyplot as plt\n",
    "\n",
    "# Generate a mapping\n",
    "# Here we're using the total principal component method,\n",
    "# find out about others through the docstring for this function\n",
    "mapx, mapy = phClust3.create_mapping()\n",
    "print(help(phClust3.create_mapping))\n",
    "\n",
    "# By this scatter plot we can see that the points are indeed all distinctly split into two groups, corresponding\n",
    "# to their clustering (here marked by colour)\n",
    "plt.scatter(mapx, mapy, c=['red' if c==1 else 'blue' for c in clust3_inds], s=50, alpha=0.8)"
   ]
  },
  {
   "cell_type": "code",
   "execution_count": null,
   "metadata": {
    "collapsed": true
   },
   "outputs": [],
   "source": []
  }
 ],
 "metadata": {
  "kernelspec": {
   "display_name": "Python 3.9.5 ('base')",
   "language": "python",
   "name": "python3"
  },
  "language_info": {
   "codemirror_mode": {
    "name": "ipython",
    "version": 3
   },
   "file_extension": ".py",
   "mimetype": "text/x-python",
   "name": "python",
   "nbconvert_exporter": "python",
   "pygments_lexer": "ipython3",
   "version": "3.9.15"
  },
  "vscode": {
   "interpreter": {
    "hash": "dcf3964c9f098ea87c1c1258bc0cf8607e796f6d28cbe05fe0232edb9a1fcec4"
   }
  }
 },
 "nbformat": 4,
 "nbformat_minor": 1
}
