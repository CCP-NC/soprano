{
 "cells": [
  {
   "cell_type": "markdown",
   "metadata": {},
   "source": [
    "# Tutorial 1 - Basic concepts: using AtomsCollection objects\n",
    "\n",
    "\n",
    "\n",
    "```\n",
    "      _\n",
    "    /|_|\\   \n",
    "   / / \\ \\  \n",
    "  /_/   \\_\\  \n",
    "  \\ \\   / /  \n",
    "   \\ \\_/ /  \n",
    "    \\|_|/  \n",
    "\n",
    "```\n",
    "SOPRANO: a Python library for generation, manipulation and analysis of large batches of crystalline structures\n",
    "\n",
    "\n",
    "*Developed within the CCP-NC project. Copyright STFC 2022*\n"
   ]
  },
  {
   "cell_type": "code",
   "execution_count": 1,
   "metadata": {},
   "outputs": [],
   "source": [
    "# Basic imports\n",
    "import os, sys\n",
    "sys.path.insert(0, os.path.abspath('..')) # This to add the Soprano path to the PYTHONPATH\n",
    "                                          # so we can load it without installing it"
   ]
  },
  {
   "cell_type": "code",
   "execution_count": 2,
   "metadata": {},
   "outputs": [],
   "source": [
    "# Other useful imports\n",
    "\n",
    "import glob\n",
    "\n",
    "import numpy as np\n",
    "\n",
    "import ase\n",
    "from ase import io as ase_io\n",
    "\n",
    "from soprano.collection import AtomsCollection"
   ]
  },
  {
   "cell_type": "markdown",
   "metadata": {},
   "source": [
    "## 1 - LOADING STRUCTURES\n",
    "\n",
    "Soprano can handle multiple structure loading into a single AtomsCollection object.\n",
    "The structures are loaded singularly as ASE (Atomic Simulation Environment) Atoms objects."
   ]
  },
  {
   "cell_type": "code",
   "execution_count": 3,
   "metadata": {},
   "outputs": [
    {
     "name": "stdout",
     "output_type": "stream",
     "text": [
      "Loading collection...\n",
      "Loading: [████████████████████] |\n",
      "Loaded 10 structures\n"
     ]
    }
   ],
   "source": [
    "# List all files in the tutorial directory\n",
    "cifs = glob.glob('tutorial_data/struct*.cif')\n",
    "\n",
    "aColl = AtomsCollection(cifs, progress=True) # \"progress\" means we will visualize a loading bar"
   ]
  },
  {
   "cell_type": "markdown",
   "metadata": {},
   "source": [
    "## 2 - HANDLING COLLECTIONS\n",
    "\n",
    "Collections are a convenient way of manipulating multiple structures. They allow for many operations that act\n",
    "collectively on all Atoms objects, or return values from them all at once."
   ]
  },
  {
   "cell_type": "code",
   "execution_count": 4,
   "metadata": {
    "scrolled": true
   },
   "outputs": [
    {
     "name": "stdout",
     "output_type": "stream",
     "text": [
      "---- struct_0.cif positions ----\n",
      "\n",
      "[[5.79569455 2.89409981 0.06507472]\n",
      " [1.40122641 1.38759482 1.48040628]\n",
      " [2.96041901 2.9237308  2.86494199]\n",
      " [4.37069091 1.35628096 1.40592736]] \n",
      "\n",
      "\n",
      "---- all struct_*.cif positions----\n",
      "\n",
      "[[[ 5.79569455e+00  2.89409981e+00  6.50747171e-02]\n",
      "  [ 1.40122641e+00  1.38759482e+00  1.48040628e+00]\n",
      "  [ 2.96041901e+00  2.92373080e+00  2.86494199e+00]\n",
      "  [ 4.37069091e+00  1.35628096e+00  1.40592736e+00]]\n",
      "\n",
      " [[ 5.89585653e-02  6.58259617e-02  7.96666218e-02]\n",
      "  [ 1.72613191e+00  1.81057858e+00  1.19536046e-02]\n",
      "  [ 3.50645220e+00  1.84354883e+00  1.80932793e+00]\n",
      "  [ 1.81202532e+00  5.91150302e-02  1.69412552e+00]]\n",
      "\n",
      " [[ 4.60285008e-04  5.12367189e-02  9.08900430e-02]\n",
      "  [ 1.77401329e+00  1.85725741e+00  3.53019651e+00]\n",
      "  [ 3.55679575e+00  1.86861735e+00  1.76536705e+00]\n",
      "  [ 1.73128434e+00  3.54250246e+00  1.82163573e+00]]\n",
      "\n",
      " [[ 3.56910526e+00  5.99952895e-03  3.52821034e+00]\n",
      "  [ 1.83266686e+00  1.85504344e+00  3.59265978e+00]\n",
      "  [ 3.51933020e+00  1.81900427e+00  1.70614393e+00]\n",
      "  [ 1.83770992e+00  5.27131706e-02  1.75249850e+00]]\n",
      "\n",
      " [[ 5.79085147e+00  6.01135888e-02  1.51527660e-02]\n",
      "  [ 1.47864707e+00  1.52581067e+00  1.54393698e+00]\n",
      "  [ 2.81985227e+00  8.05176223e-02  8.22001478e-02]\n",
      "  [ 4.39080428e+00  1.52250146e+00  1.42424456e+00]]\n",
      "\n",
      " [[ 3.42796466e-02  6.91411917e-02  5.37884717e-03]\n",
      "  [ 1.39547491e+00  1.40001475e+00  1.48655720e+00]\n",
      "  [ 3.03357630e+00  2.94880358e+00  2.87166818e+00]\n",
      "  [ 4.34194710e+00  1.47101907e+00  1.48470641e+00]]\n",
      "\n",
      " [[ 3.48288473e+00  4.75675904e-02  8.97808307e-02]\n",
      "  [ 1.70569009e+00  1.77260990e+00  3.52281688e+00]\n",
      "  [-1.08356961e-02  1.84483312e+00  1.71758982e+00]\n",
      "  [ 1.67108507e+00  3.54946776e+00  1.85131431e+00]]\n",
      "\n",
      " [[ 3.50671463e+00  1.23313009e-01  3.47969537e+00]\n",
      "  [ 1.86416396e+00  1.74336553e+00  2.91507769e-02]\n",
      "  [ 3.52197558e+00  1.82648779e+00  1.76115704e+00]\n",
      "  [ 1.80603566e+00  3.57107775e+00  1.78205558e+00]]\n",
      "\n",
      " [[ 5.74883048e+00  7.91573696e-02  8.31980011e-02]\n",
      "  [ 1.43302687e+00  1.49128521e+00  1.53879773e+00]\n",
      "  [ 2.91035182e+00  5.46785737e-02  2.85012330e+00]\n",
      "  [ 4.39840032e+00  1.45361753e+00  1.43423769e+00]]\n",
      "\n",
      " [[ 8.24872667e-02  3.55901214e+00  1.10421932e-02]\n",
      "  [ 1.72351233e+00  1.88405678e+00  5.28293163e-02]\n",
      "  [ 3.51426700e+00  1.81580154e+00  1.75271361e+00]\n",
      "  [ 1.73825398e+00  4.84128249e-02  1.79915577e+00]]] \n",
      "\n",
      "\n",
      "---- all struct_*.cif info dictionaries----\n",
      "\n",
      "[{'spacegroup': Spacegroup(1, setting=1), 'unit_cell': 'conventional', 'occupancy': {0: {'Fe': 1.0}, 1: {'Fe': 1.0}, 2: {'Fe': 1.0}, 3: {'Fe': 1.0}}, 'name': 'struct_2'}\n",
      " {'spacegroup': Spacegroup(1, setting=1), 'unit_cell': 'conventional', 'occupancy': {0: {'Fe': 1.0}, 1: {'Fe': 1.0}, 2: {'Fe': 1.0}, 3: {'Fe': 1.0}}, 'name': 'struct_8'}\n",
      " {'spacegroup': Spacegroup(1, setting=1), 'unit_cell': 'conventional', 'occupancy': {0: {'Fe': 1.0}, 1: {'Fe': 1.0}, 2: {'Fe': 1.0}, 3: {'Fe': 1.0}}, 'name': 'struct_7'}\n",
      " {'spacegroup': Spacegroup(1, setting=1), 'unit_cell': 'conventional', 'occupancy': {0: {'Fe': 1.0}, 1: {'Fe': 1.0}, 2: {'Fe': 1.0}, 3: {'Fe': 1.0}}, 'name': 'struct_4'}\n",
      " {'spacegroup': Spacegroup(1, setting=1), 'unit_cell': 'conventional', 'occupancy': {0: {'Fe': 1.0}, 1: {'Fe': 1.0}, 2: {'Fe': 1.0}, 3: {'Fe': 1.0}}, 'name': 'struct_5'}\n",
      " {'spacegroup': Spacegroup(1, setting=1), 'unit_cell': 'conventional', 'occupancy': {0: {'Fe': 1.0}, 1: {'Fe': 1.0}, 2: {'Fe': 1.0}, 3: {'Fe': 1.0}}, 'name': 'struct_10'}\n",
      " {'spacegroup': Spacegroup(1, setting=1), 'unit_cell': 'conventional', 'occupancy': {0: {'Fe': 1.0}, 1: {'Fe': 1.0}, 2: {'Fe': 1.0}, 3: {'Fe': 1.0}}, 'name': 'struct_1'}\n",
      " {'spacegroup': Spacegroup(1, setting=1), 'unit_cell': 'conventional', 'occupancy': {0: {'Fe': 1.0}, 1: {'Fe': 1.0}, 2: {'Fe': 1.0}, 3: {'Fe': 1.0}}, 'name': 'struct_3'}\n",
      " {'spacegroup': Spacegroup(1, setting=1), 'unit_cell': 'conventional', 'occupancy': {0: {'Fe': 1.0}, 1: {'Fe': 1.0}, 2: {'Fe': 1.0}, 3: {'Fe': 1.0}}, 'name': 'struct_6'}\n",
      " {'spacegroup': Spacegroup(1, setting=1), 'unit_cell': 'conventional', 'occupancy': {0: {'Fe': 1.0}, 1: {'Fe': 1.0}, 2: {'Fe': 1.0}, 3: {'Fe': 1.0}}, 'name': 'struct_9'}] \n",
      "\n",
      "\n"
     ]
    }
   ],
   "source": [
    "# To access an individual structure, one can simply use indexing:\n",
    "a0 = aColl.structures[0]\n",
    "print('---- struct_0.cif positions ----\\n')\n",
    "print(a0.get_positions(), '\\n\\n')\n",
    "\n",
    "# All properties and methods of Atoms objects are available on an entire collection too, by using\n",
    "# the meta-element 'all'\n",
    "\n",
    "print('---- all struct_*.cif positions----\\n')\n",
    "print(aColl.all.get_positions(), '\\n\\n')\n",
    "\n",
    "print('---- all struct_*.cif info dictionaries----\\n')\n",
    "print(aColl.all.info, '\\n\\n')"
   ]
  },
  {
   "cell_type": "code",
   "execution_count": 5,
   "metadata": {},
   "outputs": [
    {
     "name": "stdout",
     "output_type": "stream",
     "text": [
      "---- Collection slice lengths ---- \n",
      "\n",
      "aColl02 = 2\taColl25 = 3\taColl05 = 5\n",
      "\n",
      "\n"
     ]
    }
   ],
   "source": [
    "# Collections can also be sliced like Numpy arrays for convenience\n",
    "aColl02 = aColl[0:2]\n",
    "aColl25 = aColl[2:5]\n",
    "\n",
    "# Then join them together\n",
    "aColl05 = aColl02+aColl25\n",
    "\n",
    "print(\"---- Collection slice lengths ---- \\n\")\n",
    "print(\"aColl02 = {0}\\taColl25 = {1}\\taColl05 = {2}\\n\\n\".format(aColl02.length, aColl25.length, aColl05.length))"
   ]
  },
  {
   "cell_type": "code",
   "execution_count": 6,
   "metadata": {},
   "outputs": [
    {
     "name": "stdout",
     "output_type": "stream",
     "text": [
      "---- Getting an array from a collection ---- \n",
      "\n",
      "Unsorted:  [10  9  8  7  6  5  4  3  2  1] \n",
      "\n",
      "Sorted:  [ 1  2  3  4  5  6  7  8  9 10] \n",
      "\n",
      "\n",
      "---- First vs. last elements ---- \n",
      "\n",
      "[[5.79569455 2.89409981 0.06507472]\n",
      " [1.40122641 1.38759482 1.48040628]\n",
      " [2.96041901 2.9237308  2.86494199]\n",
      " [4.37069091 1.35628096 1.40592736]] \n",
      "\n",
      "[[5.79569455 2.89409981 0.06507472]\n",
      " [1.40122641 1.38759482 1.48040628]\n",
      " [2.96041901 2.9237308  2.86494199]\n",
      " [4.37069091 1.35628096 1.40592736]]\n"
     ]
    }
   ],
   "source": [
    "# Collections can also store \"arrays\" of data, similarly to Atoms objects in ase\n",
    "# These arrays' elements are tied each to one structure, and can be used to sort them\n",
    "\n",
    "arr = range(10, 0, -1) # Let's use this array to reverse the order of a collection\n",
    "\n",
    "aColl.set_array('reversed_range', arr)\n",
    "\n",
    "aCollSorted = aColl.sorted_byarray('reversed_range')\n",
    "\n",
    "print(\"---- Getting an array from a collection ---- \\n\")\n",
    "print(\"Unsorted: \", aColl.get_array('reversed_range'), \"\\n\")\n",
    "print(\"Sorted: \", aCollSorted.get_array('reversed_range'), \"\\n\\n\")\n",
    "\n",
    "# And to make sure\n",
    "print(\"---- First vs. last elements ---- \\n\")\n",
    "print(aColl.structures[0].get_positions(), \"\\n\")\n",
    "print(aCollSorted.structures[-1].get_positions())"
   ]
  },
  {
   "cell_type": "code",
   "execution_count": 8,
   "metadata": {},
   "outputs": [
    {
     "name": "stdout",
     "output_type": "stream",
     "text": [
      "48.923313970995935\n",
      "46.67652880128671\n",
      "46.00236376936779\n",
      "46.53632814886902\n",
      "48.47547426282922\n",
      "49.04344576266337\n",
      "45.899607683178004\n",
      "46.09636367152582\n",
      "49.10641277045326\n",
      "46.54212437721978\n"
     ]
    }
   ],
   "source": [
    "# Collections are iterable as well\n",
    "\n",
    "for i, a in enumerate(aColl):\n",
    "    print(a.get_volume())"
   ]
  },
  {
   "cell_type": "markdown",
   "metadata": {},
   "source": [
    "## Filtering and classifying\n",
    "\n",
    "Collections can also be split in advanced ways. Filtering allows one to create a collection with only those Atoms objects which satisfy a certain condition, while classifying allows one to create a collection based on some arbitrary integer array representing each Atoms' class."
   ]
  },
  {
   "cell_type": "code",
   "execution_count": 11,
   "metadata": {},
   "outputs": [
    {
     "name": "stdout",
     "output_type": "stream",
     "text": [
      "4 structures have V >= 47\n"
     ]
    }
   ],
   "source": [
    "# Filter: only structures with volume > 47\n",
    "\n",
    "def isBig(a):\n",
    "    return a.get_volume() >= 47\n",
    "\n",
    "aCollBig = aColl.filter(isBig)\n",
    "\n",
    "print('{0} structures have V >= 47'.format(len(aCollBig)))"
   ]
  },
  {
   "cell_type": "code",
   "execution_count": 16,
   "metadata": {},
   "outputs": [
    {
     "name": "stdout",
     "output_type": "stream",
     "text": [
      "2 structures with volume within 48 and 49\n",
      "2 structures with volume within 49 and 50\n",
      "1 structures with volume within 45 and 46\n",
      "5 structures with volume within 46 and 47\n"
     ]
    }
   ],
   "source": [
    "# Classify: split in volume classes\n",
    "\n",
    "volumes = aColl.all.get_volume()\n",
    "classes = [int(np.floor(v)) for v in volumes]\n",
    "\n",
    "aCollHist = aColl.classify(classes)\n",
    "\n",
    "for v, c in aCollHist.items():\n",
    "    print('{0} structures with volume within {1} and {2}'.format(len(c), v, v+1))"
   ]
  }
 ],
 "metadata": {
  "kernelspec": {
   "display_name": "Python 3.9.5 ('base')",
   "language": "python",
   "name": "python3"
  },
  "language_info": {
   "codemirror_mode": {
    "name": "ipython",
    "version": 3
   },
   "file_extension": ".py",
   "mimetype": "text/x-python",
   "name": "python",
   "nbconvert_exporter": "python",
   "pygments_lexer": "ipython3",
   "version": "3.9.5"
  },
  "vscode": {
   "interpreter": {
    "hash": "dcf3964c9f098ea87c1c1258bc0cf8607e796f6d28cbe05fe0232edb9a1fcec4"
   }
  }
 },
 "nbformat": 4,
 "nbformat_minor": 1
}
