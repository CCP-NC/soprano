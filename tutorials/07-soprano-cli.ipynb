{
 "cells": [
  {
   "attachments": {},
   "cell_type": "markdown",
   "metadata": {
    "slideshow": {
     "slide_type": "slide"
    }
   },
   "source": [
    "# Tutorial 7 - Command-line interface\n",
    "\n",
    "\n",
    "\n",
    "```\n",
    "      _\n",
    "    /|_|\\   \n",
    "   / / \\ \\  \n",
    "  /_/   \\_\\  \n",
    "  \\ \\   / /  \n",
    "   \\ \\_/ /  \n",
    "    \\|_|/  \n",
    "\n",
    "```\n",
    "SOPRANO: a Python library for generation, manipulation and analysis of large batches of crystalline structures\n",
    "\n",
    "\n",
    "*Developed within the CCP-NC project. Copyright STFC 2022*\n"
   ]
  },
  {
   "cell_type": "code",
   "execution_count": 1,
   "metadata": {
    "slideshow": {
     "slide_type": "skip"
    }
   },
   "outputs": [
    {
     "name": "stderr",
     "output_type": "stream",
     "text": [
      "/home/jks/miniconda3/lib/python3.9/site-packages/pandas/core/arrays/masked.py:60: UserWarning: Pandas requires version '1.3.6' or newer of 'bottleneck' (version '1.3.5' currently installed).\n",
      "  from pandas.core import (\n"
     ]
    }
   ],
   "source": [
    "# This library is useful for displaying the results of the CLI in this notebook.\n",
    "import pandas as pd\n",
    "from IPython.display import Image\n",
    "\n",
    "# We will need a temporary directory to store the output files.\n",
    "!mkdir -p _temp_output"
   ]
  },
  {
   "attachments": {},
   "cell_type": "markdown",
   "metadata": {
    "slideshow": {
     "slide_type": "subslide"
    }
   },
   "source": [
    "In this tutorial we cover some of capabilities of the Soprano command-line interface (CLI).\n",
    "\n",
    "The CLI is a simple wrapper around the Soprano Python library, which allows to perform some of the most common tasks without having to write any Python code.\n",
    "\n",
    "You can always get help on the CLI by running `soprano --help` or `soprano <command> --help` (where you can replace `<command>` with any of the commands listed below).\n",
    "\n",
    "The CLI is still under development and more commands will be added in the future. If you have any suggestions, please get in touch with us!"
   ]
  },
  {
   "cell_type": "code",
   "execution_count": 2,
   "metadata": {
    "slideshow": {
     "slide_type": "subslide"
    }
   },
   "outputs": [
    {
     "name": "stdout",
     "output_type": "stream",
     "text": [
      "\u001b[93m \u001b[1m WARNING: \u001b[0m Pandas requires version '1.3.6' or newer of 'bottleneck' (version '1.3.5' currently installed). (/home/jks/miniconda3/lib/python3.9/site-packages/pandas/core/arrays/masked.py, line: 60)\n",
      "Usage: soprano [OPTIONS] COMMAND [ARGS]...\n",
      "\n",
      "  A CLI tool to streamline common soprano tasks. It has various  subcommands,\n",
      "  each of which has its own set of options and help.\n",
      "\n",
      "Options:\n",
      "  -v, --verbosity LVL  Either CRITICAL, ERROR, WARNING, INFO or DEBUG\n",
      "  --help               Show this message and exit.\n",
      "\n",
      "Commands:\n",
      "  dipolar    Extract and summarise dipolar couplings from structure files.\n",
      "  nmr        Extract and analyse NMR data from magres file(s).\n",
      "  plotnmr    Plot the NMR spectrum from a .magres file.\n",
      "  splitmols  Extract all molecules in a molecular crystal (in any...\n",
      "  view       Visualise the structure(s) in the given file(s) using the...\n",
      "\n",
      "      Author: J. Kane Shenton (kane.shenton@stfc.ac.uk)\n",
      "\n",
      "      Last updated: June 21, 2023\n"
     ]
    }
   ],
   "source": [
    "!soprano --help"
   ]
  },
  {
   "attachments": {},
   "cell_type": "markdown",
   "metadata": {
    "slideshow": {
     "slide_type": "slide"
    }
   },
   "source": [
    "## 1. Extracting NMR data from a .magres file"
   ]
  },
  {
   "attachments": {},
   "cell_type": "markdown",
   "metadata": {
    "slideshow": {
     "slide_type": "subslide"
    }
   },
   "source": [
    "The Soprano `nmr` command allows to extract NMR data from a .magres file. The command is very simple to use:\n",
    "\n",
    "```bash\n",
    "soprano nmr <magres_file >\n",
    "```\n",
    "\n",
    "By default this will output a summary table with all of the magnetic shielding and electric field gradient information in the file. \n",
    "\n"
   ]
  },
  {
   "attachments": {},
   "cell_type": "markdown",
   "metadata": {
    "slideshow": {
     "slide_type": "subslide"
    }
   },
   "source": [
    "\n",
    "Chemical shielding columns will include:\n",
    "\n",
    "- shielding\n",
    "- shift (if a reference has been specified)\n",
    "- anisotropy\n",
    "- reduced_anisotropy\n",
    "- asymmetry\n",
    "- span\n",
    "- skew\n",
    "- euler angles\n"
   ]
  },
  {
   "attachments": {},
   "cell_type": "markdown",
   "metadata": {
    "slideshow": {
     "slide_type": "fragment"
    }
   },
   "source": [
    "\n",
    "and EFG columns will include:\n",
    "\n",
    "- Vzz\n",
    "- Quadrupolar_constant\n",
    "- asymmetry\n",
    "- euler angles\n",
    "- NQR transitions\n",
    "\n",
    "You can include/exclude columns using the `--include` and `--exclude` options.\n"
   ]
  },
  {
   "attachments": {},
   "cell_type": "markdown",
   "metadata": {
    "slideshow": {
     "slide_type": "subslide"
    }
   },
   "source": [
    "By default, we reduce to the unique sites in the system. This is done either by looking at the CIF labels (if present) or by symmetry analysis. You can disable this behaviour using the `--no-reduce` option.\n",
    "\n",
    "If sites have been combined, the output will also include the `multiplicity` column, which indicates how many 'duplicates' of the site are present in the system."
   ]
  },
  {
   "attachments": {},
   "cell_type": "markdown",
   "metadata": {
    "slideshow": {
     "slide_type": "subslide"
    }
   },
   "source": [
    "### Filtering and selecting atoms"
   ]
  },
  {
   "attachments": {},
   "cell_type": "markdown",
   "metadata": {
    "slideshow": {
     "slide_type": "subslide"
    }
   },
   "source": [
    "One of the useful features of the CLI is to quickly filter and summarise the information you're interested in. You can do this across multiple .magres files at the same time, if you wish. \n",
    "\n",
    "For example, we can use the `-s` option to filter the output by site label or species: \n",
    "\n",
    "```bash\n",
    "soprano nmr <magres_file > -s C\n",
    "```\n",
    "\n",
    "will only output the NMR data for the carbon atoms.\n",
    "\n",
    "If you have CIF-style labels in your .magres file, you can specify these using the same `-s` option:\n",
    "\n",
    "```bash\n",
    "soprano nmr <magres_file > -s C1,H1a,H1b\n",
    "```\n",
    "\n",
    "Notice that we also combined multiple selections, separated by commas.\n",
    "\n",
    "If you don't have CIF-style labels, you can add a `.` to the label and give an index (e.g. `C.1` to get the first C atom in the file). You can also use a range to get multiple atoms at the same time (e.g. `C.1-3` to get the first three C atoms in the file)."
   ]
  },
  {
   "attachments": {},
   "cell_type": "markdown",
   "metadata": {
    "slideshow": {
     "slide_type": "subslide"
    }
   },
   "source": [
    "**Querying properties**:\n",
    "\n",
    "You can also use the pandas query syntax to filter the output. For example, to get all the C atoms with a chemical shielding larger than 120 ppm:\n",
    "\n",
    "```bash\n",
    "soprano nmr <magres_file > -s C --query 'MS_shielding > 120'\n",
    "```\n",
    "\n",
    "You can build up quite complex queries in this way. For example, to search through all the .magres files in the current directory and get all the C atoms with a chemical shielding between 100 and 200 ppm and an asymmetry greater than 0.5:\n",
    "\n",
    "```bash\n",
    "soprano nmr *.magres -s C --query \"100 < MS_shielding < 200 and MS_asymmetry > 0.5\"\n",
    "```"
   ]
  },
  {
   "cell_type": "code",
   "execution_count": 3,
   "metadata": {
    "slideshow": {
     "slide_type": "subslide"
    }
   },
   "outputs": [
    {
     "name": "stdout",
     "output_type": "stream",
     "text": [
      "\u001b[93m \u001b[1m WARNING: \u001b[0m Pandas requires version '1.3.6' or newer of 'bottleneck' (version '1.3.5' currently installed). (/home/jks/miniconda3/lib/python3.9/site-packages/pandas/core/arrays/masked.py, line: 60)\n",
      "\u001b[31merror: \u001b[0mCould not select atoms based on selection string: Element C not present in the atoms object\n"
     ]
    },
    {
     "data": {
      "text/html": [
       "<div>\n",
       "<style scoped>\n",
       "    .dataframe tbody tr th:only-of-type {\n",
       "        vertical-align: middle;\n",
       "    }\n",
       "\n",
       "    .dataframe tbody tr th {\n",
       "        vertical-align: top;\n",
       "    }\n",
       "\n",
       "    .dataframe thead th {\n",
       "        text-align: right;\n",
       "    }\n",
       "</style>\n",
       "<table border=\"1\" class=\"dataframe\">\n",
       "  <thead>\n",
       "    <tr style=\"text-align: right;\">\n",
       "      <th></th>\n",
       "      <th>labels</th>\n",
       "      <th>species</th>\n",
       "      <th>multiplicity</th>\n",
       "      <th>tags</th>\n",
       "      <th>file</th>\n",
       "      <th>MS_shielding/ppm</th>\n",
       "      <th>MS_asymmetry</th>\n",
       "    </tr>\n",
       "  </thead>\n",
       "  <tbody>\n",
       "    <tr>\n",
       "      <th>0</th>\n",
       "      <td>C4</td>\n",
       "      <td>13C</td>\n",
       "      <td>4</td>\n",
       "      <td>22</td>\n",
       "      <td>../tests/test_data/EDIZUM.magres</td>\n",
       "      <td>179.428756</td>\n",
       "      <td>0.872576</td>\n",
       "    </tr>\n",
       "    <tr>\n",
       "      <th>1</th>\n",
       "      <td>C7</td>\n",
       "      <td>13C</td>\n",
       "      <td>4</td>\n",
       "      <td>25</td>\n",
       "      <td>../tests/test_data/EDIZUM.magres</td>\n",
       "      <td>130.068841</td>\n",
       "      <td>0.515770</td>\n",
       "    </tr>\n",
       "    <tr>\n",
       "      <th>2</th>\n",
       "      <td>C9</td>\n",
       "      <td>13C</td>\n",
       "      <td>4</td>\n",
       "      <td>27</td>\n",
       "      <td>../tests/test_data/EDIZUM.magres</td>\n",
       "      <td>184.179198</td>\n",
       "      <td>0.976923</td>\n",
       "    </tr>\n",
       "    <tr>\n",
       "      <th>3</th>\n",
       "      <td>C_1</td>\n",
       "      <td>13C</td>\n",
       "      <td>1</td>\n",
       "      <td>6</td>\n",
       "      <td>../tests/test_data/ethanol.magres</td>\n",
       "      <td>156.467218</td>\n",
       "      <td>0.704557</td>\n",
       "    </tr>\n",
       "  </tbody>\n",
       "</table>\n",
       "</div>"
      ],
      "text/plain": [
       "  labels species  multiplicity  tags                               file  \\\n",
       "0     C4     13C             4    22   ../tests/test_data/EDIZUM.magres   \n",
       "1     C7     13C             4    25   ../tests/test_data/EDIZUM.magres   \n",
       "2     C9     13C             4    27   ../tests/test_data/EDIZUM.magres   \n",
       "3    C_1     13C             1     6  ../tests/test_data/ethanol.magres   \n",
       "\n",
       "   MS_shielding/ppm  MS_asymmetry  \n",
       "0        179.428756      0.872576  \n",
       "1        130.068841      0.515770  \n",
       "2        184.179198      0.976923  \n",
       "3        156.467218      0.704557  "
      ]
     },
     "execution_count": 3,
     "metadata": {},
     "output_type": "execute_result"
    }
   ],
   "source": [
    "!soprano nmr \\\n",
    "    ../tests/test_data/*.magres \\\n",
    "    -s C \\\n",
    "    --query \"100 < MS_shielding < 200 and MS_asymmetry > 0.5\" \\\n",
    "    --include MS_shielding,MS_asymmetry \\\n",
    "    --merge \\\n",
    "    -o ./_temp_output/query_results.csv\n",
    "\n",
    "df = pd.read_csv('_temp_output/query_results.csv')\n",
    "df.iloc[:,1:]"
   ]
  },
  {
   "cell_type": "markdown",
   "metadata": {},
   "source": [
    "Note that we got an error for the magres file that did not contain a C atom, but the C atoms in the other files were processed correctly."
   ]
  },
  {
   "attachments": {},
   "cell_type": "markdown",
   "metadata": {
    "slideshow": {
     "slide_type": "subslide"
    }
   },
   "source": [
    "### Averaging over functional groups\n",
    "\n",
    "In organic systems, we often have functional groups that we want to average over. For example, we might want to average over all the methyl groups in a molecule. The CLI allows to do this using the `-g` option:\n",
    "\n",
    "```bash\n",
    "soprano nmr <magres_file > -g CH3\n",
    "```\n",
    "\n",
    "You can also comma-separate multiple groups:\n",
    "\n",
    "```bash\n",
    "soprano nmr <magres_file > -g CH3,NH3\n",
    "```\n",
    "\n",
    "The output will contain the average NMR data for each group. For example, for ethanol, we get:"
   ]
  },
  {
   "cell_type": "code",
   "execution_count": 4,
   "metadata": {
    "slideshow": {
     "slide_type": "subslide"
    }
   },
   "outputs": [
    {
     "name": "stdout",
     "output_type": "stream",
     "text": [
      "\u001b[93m \u001b[1m WARNING: \u001b[0m Pandas requires version '1.3.6' or newer of 'bottleneck' (version '1.3.5' currently installed). (/home/jks/miniconda3/lib/python3.9/site-packages/pandas/core/arrays/masked.py, line: 60)\n"
     ]
    },
    {
     "data": {
      "text/html": [
       "<div>\n",
       "<style scoped>\n",
       "    .dataframe tbody tr th:only-of-type {\n",
       "        vertical-align: middle;\n",
       "    }\n",
       "\n",
       "    .dataframe tbody tr th {\n",
       "        vertical-align: top;\n",
       "    }\n",
       "\n",
       "    .dataframe thead th {\n",
       "        text-align: right;\n",
       "    }\n",
       "</style>\n",
       "<table border=\"1\" class=\"dataframe\">\n",
       "  <thead>\n",
       "    <tr style=\"text-align: right;\">\n",
       "      <th></th>\n",
       "      <th>labels</th>\n",
       "      <th>species</th>\n",
       "      <th>multiplicity</th>\n",
       "      <th>tags</th>\n",
       "      <th>MS_shielding/ppm</th>\n",
       "      <th>MS_reduced_anisotropy/ppm</th>\n",
       "      <th>MS_asymmetry</th>\n",
       "    </tr>\n",
       "  </thead>\n",
       "  <tbody>\n",
       "    <tr>\n",
       "      <th>0</th>\n",
       "      <td>H_1,H_2,H_3</td>\n",
       "      <td>1H</td>\n",
       "      <td>3</td>\n",
       "      <td>-100000</td>\n",
       "      <td>29.983808</td>\n",
       "      <td>-1.046125</td>\n",
       "      <td>0.541664</td>\n",
       "    </tr>\n",
       "    <tr>\n",
       "      <th>1</th>\n",
       "      <td>H_4</td>\n",
       "      <td>1H</td>\n",
       "      <td>1</td>\n",
       "      <td>3</td>\n",
       "      <td>26.980027</td>\n",
       "      <td>5.444059</td>\n",
       "      <td>0.937102</td>\n",
       "    </tr>\n",
       "    <tr>\n",
       "      <th>2</th>\n",
       "      <td>H_5</td>\n",
       "      <td>1H</td>\n",
       "      <td>1</td>\n",
       "      <td>4</td>\n",
       "      <td>27.390413</td>\n",
       "      <td>-4.747813</td>\n",
       "      <td>0.928356</td>\n",
       "    </tr>\n",
       "    <tr>\n",
       "      <th>3</th>\n",
       "      <td>H_6</td>\n",
       "      <td>1H</td>\n",
       "      <td>1</td>\n",
       "      <td>5</td>\n",
       "      <td>31.984976</td>\n",
       "      <td>9.412286</td>\n",
       "      <td>0.452687</td>\n",
       "    </tr>\n",
       "    <tr>\n",
       "      <th>4</th>\n",
       "      <td>C_1</td>\n",
       "      <td>13C</td>\n",
       "      <td>1</td>\n",
       "      <td>6</td>\n",
       "      <td>156.467218</td>\n",
       "      <td>22.531358</td>\n",
       "      <td>0.704557</td>\n",
       "    </tr>\n",
       "    <tr>\n",
       "      <th>5</th>\n",
       "      <td>C_2</td>\n",
       "      <td>13C</td>\n",
       "      <td>1</td>\n",
       "      <td>7</td>\n",
       "      <td>109.857140</td>\n",
       "      <td>46.834011</td>\n",
       "      <td>0.414376</td>\n",
       "    </tr>\n",
       "    <tr>\n",
       "      <th>6</th>\n",
       "      <td>O_1</td>\n",
       "      <td>17O</td>\n",
       "      <td>1</td>\n",
       "      <td>8</td>\n",
       "      <td>268.028520</td>\n",
       "      <td>-34.253562</td>\n",
       "      <td>0.983015</td>\n",
       "    </tr>\n",
       "  </tbody>\n",
       "</table>\n",
       "</div>"
      ],
      "text/plain": [
       "        labels species  multiplicity    tags  MS_shielding/ppm  \\\n",
       "0  H_1,H_2,H_3      1H             3 -100000         29.983808   \n",
       "1          H_4      1H             1       3         26.980027   \n",
       "2          H_5      1H             1       4         27.390413   \n",
       "3          H_6      1H             1       5         31.984976   \n",
       "4          C_1     13C             1       6        156.467218   \n",
       "5          C_2     13C             1       7        109.857140   \n",
       "6          O_1     17O             1       8        268.028520   \n",
       "\n",
       "   MS_reduced_anisotropy/ppm  MS_asymmetry  \n",
       "0                  -1.046125      0.541664  \n",
       "1                   5.444059      0.937102  \n",
       "2                  -4.747813      0.928356  \n",
       "3                   9.412286      0.452687  \n",
       "4                  22.531358      0.704557  \n",
       "5                  46.834011      0.414376  \n",
       "6                 -34.253562      0.983015  "
      ]
     },
     "execution_count": 4,
     "metadata": {},
     "output_type": "execute_result"
    }
   ],
   "source": [
    "!soprano nmr ./tutorial_data/ethanol.magres \\\n",
    "    -g CH3 \\\n",
    "    --include MS_shielding,MS_asymmetry,MS_reduced_anisotropy \\\n",
    "    -o ./_temp_output/ethanol_CH3.csv\n",
    "\n",
    "# Show the results:\n",
    "df = pd.read_csv('_temp_output/ethanol_CH3.csv')\n",
    "# drop the column called 'file'\n",
    "df = df.drop('file', axis=1)\n",
    "# drop unnamed columns\n",
    "df = df.loc[:, ~df.columns.str.contains('^Unnamed')]\n",
    "df"
   ]
  },
  {
   "attachments": {},
   "cell_type": "markdown",
   "metadata": {
    "slideshow": {
     "slide_type": "subslide"
    }
   },
   "source": [
    "### Other options\n",
    "- Viewing the (filtered) structure (`--view`) using the ASE GUI\n",
    "- Saving the output to a file (`-o`) (txt, CSV, JSON, YAML, etc.)\n",
    "- Setting the isotopes (`-i`) (e.g. `-i 13C,2H`)\n",
    "- Setting the chemical shift gradients and references (e.g. `--gradients C:-0.99,H:-0.95` and `--references C:100,H:30`)\n",
    "- Merging the results from multiple files (`--merge`)\n",
    "- Sorting the output by any column (e.g. `--sortby EFG_Vzz`) \n",
    "- Setting the Euler angle convention (e.g. `--euler zyz`)\n",
    "\n",
    "To see the full list of options, their description and default values, run `soprano nmr --help`."
   ]
  },
  {
   "attachments": {},
   "cell_type": "markdown",
   "metadata": {
    "slideshow": {
     "slide_type": "slide"
    }
   },
   "source": [
    "## 2. Plotting simulated spectra from .magres file"
   ]
  },
  {
   "attachments": {},
   "cell_type": "markdown",
   "metadata": {
    "slideshow": {
     "slide_type": "subslide"
    }
   },
   "source": [
    "Soprano can also be used to simulate NMR spectra from a .magres file. The `plotnmr` command can be used to do this:\n",
    "\n",
    "```bash\n",
    "soprano plotnmr <magres_file > -x C\n",
    "```\n",
    "\n",
    "By default this command will produce a 2D NMR plot of the carbon atoms in the file. \n",
    "\n"
   ]
  },
  {
   "cell_type": "code",
   "execution_count": 5,
   "metadata": {
    "slideshow": {
     "slide_type": "subslide"
    }
   },
   "outputs": [
    {
     "name": "stdout",
     "output_type": "stream",
     "text": [
      "\u001b[93m \u001b[1m WARNING: \u001b[0m Pandas requires version '1.3.6' or newer of 'bottleneck' (version '1.3.5' currently installed). (/home/jks/miniconda3/lib/python3.9/site-packages/pandas/core/arrays/masked.py, line: 60)\n"
     ]
    },
    {
     "data": {
      "image/png": "[encoded data removed]",
      "text/plain": [
       "<IPython.core.display.Image object>"
      ]
     },
     "execution_count": 5,
     "metadata": {},
     "output_type": "execute_result"
    }
   ],
   "source": [
    "!soprano plotnmr \\\n",
    "    ../tests/test_data/EDIZUM.magres \\\n",
    "    -x C \\\n",
    "    -y H \\\n",
    "    --references C:100,H:30 \\\n",
    "    --scale-marker-by dipolar \\\n",
    "    --rcut 2.5 \\\n",
    "    --no-legend \\\n",
    "    -o ./_temp_output/plot_results.png\n",
    "Image(filename='_temp_output/plot_results.png')"
   ]
  },
  {
   "attachments": {},
   "cell_type": "markdown",
   "metadata": {
    "slideshow": {
     "slide_type": "slide"
    }
   },
   "source": [
    "## Dipolar coupling calculations"
   ]
  },
  {
   "attachments": {},
   "cell_type": "markdown",
   "metadata": {
    "slideshow": {
     "slide_type": "subslide"
    }
   },
   "source": [
    "We can use the dipolar subcommand to extract dipolar couplings from any structure file (i.e. it need not be a .magres file).\n",
    "\n",
    "Some example commands are:\n",
    "\n",
    "```bash\n",
    "soprano dipolar <structure file>\n",
    "```\n",
    "\n",
    "which calculates the dipolar couplings between all pairs of atoms in the structure.\n",
    "\n",
    "```bash\n",
    "soprano dipolar <structure file> -i C -j C\n",
    "```\n",
    "\n",
    "which calculates the dipolar couplings between all pairs of carbon atoms in the structure.\n",
    "\n",
    "```bash\n",
    "soprano dipolar <structure file> -i C1 -j H1\n",
    "```\n",
    "\n",
    "which calculates the dipolar couplings between pairs of sites labelled C1 and H1. \n",
    "\n",
    "```bash\n",
    "soprano dipolar <structure file> --rss --cutoff 5.0\n",
    "```\n",
    "\n",
    "which calculates the Root Sum Square dipolar constant for each atom in the system up to 5.0 Å away (including periodicity).\n",
    "\n",
    "\n",
    "\n",
    "\n",
    "\n"
   ]
  },
  {
   "cell_type": "code",
   "execution_count": 6,
   "metadata": {
    "slideshow": {
     "slide_type": "subslide"
    }
   },
   "outputs": [
    {
     "name": "stdout",
     "output_type": "stream",
     "text": [
      "\u001b[93m \u001b[1m WARNING: \u001b[0m Pandas requires version '1.3.6' or newer of 'bottleneck' (version '1.3.5' currently installed). (/home/jks/miniconda3/lib/python3.9/site-packages/pandas/core/arrays/masked.py, line: 60)\n",
      "Writing output to ./_temp_output/ethanol_dipolar.csv\n"
     ]
    },
    {
     "data": {
      "text/html": [
       "<div>\n",
       "<style scoped>\n",
       "    .dataframe tbody tr th:only-of-type {\n",
       "        vertical-align: middle;\n",
       "    }\n",
       "\n",
       "    .dataframe tbody tr th {\n",
       "        vertical-align: top;\n",
       "    }\n",
       "\n",
       "    .dataframe thead th {\n",
       "        text-align: right;\n",
       "    }\n",
       "</style>\n",
       "<table border=\"1\" class=\"dataframe\">\n",
       "  <thead>\n",
       "    <tr style=\"text-align: right;\">\n",
       "      <th></th>\n",
       "      <th>pair</th>\n",
       "      <th>label_i</th>\n",
       "      <th>label_j</th>\n",
       "      <th>isotope_i</th>\n",
       "      <th>isotope_j</th>\n",
       "      <th>D/kHz</th>\n",
       "      <th>alpha/deg</th>\n",
       "      <th>beta/deg</th>\n",
       "      <th>file</th>\n",
       "    </tr>\n",
       "  </thead>\n",
       "  <tbody>\n",
       "    <tr>\n",
       "      <th>0</th>\n",
       "      <td>(0, 6)</td>\n",
       "      <td>H</td>\n",
       "      <td>C</td>\n",
       "      <td>1H</td>\n",
       "      <td>13C</td>\n",
       "      <td>-23.050578</td>\n",
       "      <td>-168.752350</td>\n",
       "      <td>126.182020</td>\n",
       "      <td>./tutorial_data/ethanol.magres</td>\n",
       "    </tr>\n",
       "    <tr>\n",
       "      <th>1</th>\n",
       "      <td>(1, 6)</td>\n",
       "      <td>H</td>\n",
       "      <td>C</td>\n",
       "      <td>1H</td>\n",
       "      <td>13C</td>\n",
       "      <td>-23.004866</td>\n",
       "      <td>-78.545627</td>\n",
       "      <td>59.023572</td>\n",
       "      <td>./tutorial_data/ethanol.magres</td>\n",
       "    </tr>\n",
       "    <tr>\n",
       "      <th>2</th>\n",
       "      <td>(2, 6)</td>\n",
       "      <td>H</td>\n",
       "      <td>C</td>\n",
       "      <td>1H</td>\n",
       "      <td>13C</td>\n",
       "      <td>-23.188447</td>\n",
       "      <td>13.017396</td>\n",
       "      <td>124.957193</td>\n",
       "      <td>./tutorial_data/ethanol.magres</td>\n",
       "    </tr>\n",
       "    <tr>\n",
       "      <th>3</th>\n",
       "      <td>(3, 7)</td>\n",
       "      <td>H</td>\n",
       "      <td>C</td>\n",
       "      <td>1H</td>\n",
       "      <td>13C</td>\n",
       "      <td>-22.733525</td>\n",
       "      <td>-167.901289</td>\n",
       "      <td>55.204961</td>\n",
       "      <td>./tutorial_data/ethanol.magres</td>\n",
       "    </tr>\n",
       "    <tr>\n",
       "      <th>4</th>\n",
       "      <td>(4, 7)</td>\n",
       "      <td>H</td>\n",
       "      <td>C</td>\n",
       "      <td>1H</td>\n",
       "      <td>13C</td>\n",
       "      <td>-23.179595</td>\n",
       "      <td>101.784109</td>\n",
       "      <td>121.180234</td>\n",
       "      <td>./tutorial_data/ethanol.magres</td>\n",
       "    </tr>\n",
       "  </tbody>\n",
       "</table>\n",
       "</div>"
      ],
      "text/plain": [
       "     pair label_i label_j isotope_i isotope_j      D/kHz   alpha/deg  \\\n",
       "0  (0, 6)       H       C        1H       13C -23.050578 -168.752350   \n",
       "1  (1, 6)       H       C        1H       13C -23.004866  -78.545627   \n",
       "2  (2, 6)       H       C        1H       13C -23.188447   13.017396   \n",
       "3  (3, 7)       H       C        1H       13C -22.733525 -167.901289   \n",
       "4  (4, 7)       H       C        1H       13C -23.179595  101.784109   \n",
       "\n",
       "     beta/deg                            file  \n",
       "0  126.182020  ./tutorial_data/ethanol.magres  \n",
       "1   59.023572  ./tutorial_data/ethanol.magres  \n",
       "2  124.957193  ./tutorial_data/ethanol.magres  \n",
       "3   55.204961  ./tutorial_data/ethanol.magres  \n",
       "4  121.180234  ./tutorial_data/ethanol.magres  "
      ]
     },
     "execution_count": 6,
     "metadata": {},
     "output_type": "execute_result"
    }
   ],
   "source": [
    "# find all C-H couplings with |D| > 10 Hz\n",
    "!soprano dipolar ./tutorial_data/ethanol.magres \\\n",
    "    -i C -j H \\\n",
    "    --query \"abs(D) > 10\" \\\n",
    "    -o ./_temp_output/ethanol_dipolar.csv\n",
    "\n",
    "# Show the results:\n",
    "df = pd.read_csv('_temp_output/ethanol_dipolar.csv')\n",
    "df.iloc[:,1:]"
   ]
  },
  {
   "cell_type": "code",
   "execution_count": 7,
   "metadata": {
    "slideshow": {
     "slide_type": "subslide"
    }
   },
   "outputs": [
    {
     "name": "stdout",
     "output_type": "stream",
     "text": [
      "\u001b[93m \u001b[1m WARNING: \u001b[0m Pandas requires version '1.3.6' or newer of 'bottleneck' (version '1.3.5' currently installed). (/home/jks/miniconda3/lib/python3.9/site-packages/pandas/core/arrays/masked.py, line: 60)\n",
      "\n",
      "\n",
      "Extracted data from: ./tutorial_data/ethanol.magres\n",
      "   index label isotope  D_RSS/kHz\n",
      "0      0     H      1H      40221\n",
      "1      1     H      1H      40496\n",
      "2      2     H      1H      40030\n",
      "3      3     H      1H      35389\n",
      "4      4     H      1H      35029\n",
      "5      5     H      1H      24082\n",
      "6      6     C     13C      40313\n",
      "7      7     C     13C      33251\n",
      "8      8     O     17O      18061\n"
     ]
    }
   ],
   "source": [
    "!soprano dipolar ./tutorial_data/ethanol.magres --rss --cutoff 10"
   ]
  }
 ],
 "metadata": {
  "kernelspec": {
   "display_name": "base",
   "language": "python",
   "name": "python3"
  },
  "language_info": {
   "codemirror_mode": {
    "name": "ipython",
    "version": 3
   },
   "file_extension": ".py",
   "mimetype": "text/x-python",
   "name": "python",
   "nbconvert_exporter": "python",
   "pygments_lexer": "ipython3",
   "version": "3.9.15"
  },
  "orig_nbformat": 4
 },
 "nbformat": 4,
 "nbformat_minor": 2
}
