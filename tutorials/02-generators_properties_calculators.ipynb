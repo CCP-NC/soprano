{
 "cells": [
  {
   "cell_type": "markdown",
   "metadata": {},
   "source": [
    "# Tutorial 2 - Generators, Properties and Calculators\n",
    "\n",
    "\n",
    "```\n",
    "      _\n",
    "    /|_|\\   \n",
    "   / / \\ \\  \n",
    "  /_/   \\_\\  \n",
    "  \\ \\   / /  \n",
    "   \\ \\_/ /  \n",
    "    \\|_|/  \n",
    "\n",
    "```\n",
    "SOPRANO: a Python library for generation, manipulation and analysis of large batches of crystalline structures\n",
    "\n",
    "\n",
    "*Developed within the CCP-NC project. Copyright STFC 2022*"
   ]
  },
  {
   "cell_type": "code",
   "execution_count": 1,
   "metadata": {},
   "outputs": [],
   "source": [
    "# Basic imports\n",
    "import os, sys\n",
    "sys.path.insert(0, os.path.abspath('..')) # This to add the Soprano path to the PYTHONPATH\n",
    "                                          # so we can load it without installing it"
   ]
  },
  {
   "cell_type": "code",
   "execution_count": 2,
   "metadata": {},
   "outputs": [],
   "source": [
    "# Other useful imports\n",
    "\n",
    "import numpy as np\n",
    "\n",
    "from ase import Atoms\n",
    "from ase import io as ase_io"
   ]
  },
  {
   "cell_type": "markdown",
   "metadata": {},
   "source": [
    "## 1 - USING GENERATORS\n",
    "\n",
    "Soprano provides a series of generators able to create multiple structures on one go based on simple criteria.\n",
    "One of these, used here, is the linspaceGen, which interpolates linearly between two extreme structures. Others \n",
    "are the rattleGen (generating copies of a given structure with random atomic displacements) and the airssGen\n",
    "(binding to AIRSS' buildcell executable to generate random structures, only available if AIRSS is installed)."
   ]
  },
  {
   "cell_type": "code",
   "execution_count": 3,
   "metadata": {},
   "outputs": [],
   "source": [
    "from soprano.collection import AtomsCollection\n",
    "from soprano.collection.generate import linspaceGen\n",
    "\n",
    "\n",
    "# Let's use the ammonia molecule switching configurations as an example\n",
    "nh3coords = np.array([[ 2.5,     2.5,     2.5   ],\n",
    "                      [ 3.4373,  2.5,     2.1193],\n",
    "                      [ 2.0314,  3.3117,  2.1193],\n",
    "                      [ 2.0314,  1.6883,  2.1193]])\n",
    "nh3l = Atoms('NHHH', nh3coords, cell=[5,5,5]) # The cell is just an empty box\n",
    "# Now the right version\n",
    "nh3coords *= [1, 1, -1]\n",
    "nh3r = Atoms('NHHH', nh3coords, cell=[5,5,5])\n",
    "\n",
    "# Now let's build a collection of 20 intermediate steps between the two structures\n",
    "nh3linsp = linspaceGen(nh3l, nh3r, steps=20, periodic=True)\n",
    "# Generators can be passed directly to the AtomsCollection constructor\n",
    "nh3coll = AtomsCollection(nh3linsp)"
   ]
  },
  {
   "cell_type": "markdown",
   "metadata": {},
   "source": [
    "## 2 - PROPERTIES\n",
    "\n",
    "Soprano Properties are classes meant to extract complex arrays of information from collections.\n",
    "A number of these are provided by default, but advanced users can easily create their own class\n",
    "inheriting from the generic AtomsProperty class to implement particular needs."
   ]
  },
  {
   "cell_type": "code",
   "execution_count": 4,
   "metadata": {},
   "outputs": [
    {
     "name": "stdout",
     "output_type": "stream",
     "text": [
      "---- Linkage List for all NH3 configurations - Default parameters\n",
      "\n",
      "[1.01162016 1.01162016 1.01166387 1.62339512 1.62339512 1.6234    ]\n",
      "[0.99723073 0.99723073 0.99727508 1.62339512 1.62339512 1.6234    ]\n",
      "[0.98426355 0.98426355 0.98430848 1.62339512 1.62339512 1.6234    ]\n",
      "[0.97277548 0.97277548 0.97282094 1.62339512 1.62339512 1.6234    ]\n",
      "[0.96281947 0.96281947 0.9628654  1.62339512 1.62339512 1.6234    ]\n",
      "[0.95444347 0.95444347 0.95448979 1.62339512 1.62339512 1.6234    ]\n",
      "[0.94768936 0.94768936 0.94773602 1.62339512 1.62339512 1.6234    ]\n",
      "[0.94259203 0.94259203 0.94263894 1.62339512 1.62339512 1.6234    ]\n",
      "[0.93917843 0.93917843 0.93922551 1.62339512 1.62339512 1.6234    ]\n",
      "[0.93746697 0.93746697 0.93751414 1.62339512 1.62339512 1.6234    ]\n",
      "[0.93746697 0.93746697 0.93751414 1.62339512 1.62339512 1.6234    ]\n",
      "[0.93917843 0.93917843 0.93922551 1.62339512 1.62339512 1.6234    ]\n",
      "[0.94259203 0.94259203 0.94263894 1.62339512 1.62339512 1.6234    ]\n",
      "[0.94768936 0.94768936 0.94773602 1.62339512 1.62339512 1.6234    ]\n",
      "[0.95444347 0.95444347 0.95448979 1.62339512 1.62339512 1.6234    ]\n",
      "[0.96281947 0.96281947 0.9628654  1.62339512 1.62339512 1.6234    ]\n",
      "[0.97277548 0.97277548 0.97282094 1.62339512 1.62339512 1.6234    ]\n",
      "[0.98426355 0.98426355 0.98430848 1.62339512 1.62339512 1.6234    ]\n",
      "[0.99723073 0.99723073 0.99727508 1.62339512 1.62339512 1.6234    ]\n",
      "[1.01162016 1.01162016 1.01166387 1.62339512 1.62339512 1.6234    ] \n",
      "\n",
      "\n"
     ]
    }
   ],
   "source": [
    "from soprano.properties.linkage import LinkageList\n",
    "\n",
    "\n",
    "# As a first experiment we try using LinkageList, a property meant to return a list of all pair interatomic distances\n",
    "# in a system. This can serve as a fingerprint to distinguish different structures\n",
    "\n",
    "# The basic usage is to just call the Property's method \"get\". In this way the Property is calculated with\n",
    "# default parameters.\n",
    "# The three shortest values (varying) are N-H distances, while the constant ones are H-H distances\n",
    "\n",
    "print(\"---- Linkage List for all NH3 configurations - Default parameters\\n\")\n",
    "print('\\n'.join(['{0}'.format(x) for x in LinkageList.get(nh3coll)]), \"\\n\\n\")"
   ]
  },
  {
   "cell_type": "code",
   "execution_count": 5,
   "metadata": {},
   "outputs": [
    {
     "name": "stdout",
     "output_type": "stream",
     "text": [
      "---- Linkage List for all NH3 configurations - Custom parameters\n",
      "\n",
      "[1.01162016 1.01162016 1.01166387]\n",
      "[0.99723073 0.99723073 0.99727508]\n",
      "[0.98426355 0.98426355 0.98430848]\n",
      "[0.97277548 0.97277548 0.97282094]\n",
      "[0.96281947 0.96281947 0.9628654 ]\n",
      "[0.95444347 0.95444347 0.95448979]\n",
      "[0.94768936 0.94768936 0.94773602]\n",
      "[0.94259203 0.94259203 0.94263894]\n",
      "[0.93917843 0.93917843 0.93922551]\n",
      "[0.93746697 0.93746697 0.93751414]\n",
      "[0.93746697 0.93746697 0.93751414]\n",
      "[0.93917843 0.93917843 0.93922551]\n",
      "[0.94259203 0.94259203 0.94263894]\n",
      "[0.94768936 0.94768936 0.94773602]\n",
      "[0.95444347 0.95444347 0.95448979]\n",
      "[0.96281947 0.96281947 0.9628654 ]\n",
      "[0.97277548 0.97277548 0.97282094]\n",
      "[0.98426355 0.98426355 0.98430848]\n",
      "[0.99723073 0.99723073 0.99727508]\n",
      "[1.01162016 1.01162016 1.01166387] \n",
      "\n",
      "\n"
     ]
    }
   ],
   "source": [
    "# If one wants to use parameters, an instance of the Property has to be created.\n",
    "# For example LinkageList accepts a parameter \"size\" that limits the number of distances computed.\n",
    "# This can then just be called on the AtomsCollection\n",
    "\n",
    "customLL = LinkageList(size=3)\n",
    "\n",
    "print(\"---- Linkage List for all NH3 configurations - Custom parameters\\n\")\n",
    "print('\\n'.join(['{0}'.format(x) for x in customLL(nh3coll)]), \"\\n\\n\")"
   ]
  },
  {
   "cell_type": "code",
   "execution_count": 6,
   "metadata": {},
   "outputs": [
    {
     "name": "stdout",
     "output_type": "stream",
     "text": [
      "---- Hydrogen COM for all NH3 configurations\n",
      "\n",
      "[2.50003333 2.5        2.1193    ]\n",
      "[2.50003333 2.5        2.15937368]\n",
      "[2.50003333 2.5        2.19944737]\n",
      "[2.50003333 2.5        2.23952105]\n",
      "[2.50003333 2.5        2.27959474]\n",
      "[2.50003333 2.5        2.31966842]\n",
      "[2.50003333 2.5        2.35974211]\n",
      "[2.50003333 2.5        2.39981579]\n",
      "[2.50003333 2.5        2.43988947]\n",
      "[2.50003333 2.5        2.47996316]\n",
      "[2.50003333 2.5        2.52003684]\n",
      "[2.50003333 2.5        2.56011053]\n",
      "[2.50003333 2.5        2.60018421]\n",
      "[2.50003333 2.5        2.64025789]\n",
      "[2.50003333 2.5        2.68033158]\n",
      "[2.50003333 2.5        2.72040526]\n",
      "[2.50003333 2.5        2.76047895]\n",
      "[2.50003333 2.5        2.80055263]\n",
      "[2.50003333 2.5        2.84062632]\n",
      "[2.50003333 2.5        2.8807    ] \n",
      "\n",
      "\n"
     ]
    }
   ],
   "source": [
    "# Now we can try creating a custom property. This one will calculate the center of mass of all Hydrogen atoms.\n",
    "from soprano.properties import AtomsProperty\n",
    "\n",
    "\n",
    "class HydrogenCOM(AtomsProperty):\n",
    "    \n",
    "    default_name = 'hydrogen_com' # These need to be defined for any property\n",
    "    default_params = {}\n",
    "    \n",
    "    @staticmethod\n",
    "    def extract(s): # This is where the core of the calculation happens\n",
    "        # s is a single Atoms object passed to this method\n",
    "        \n",
    "        chemsyms = s.get_chemical_symbols()\n",
    "        h_inds = [i for i, sym in enumerate(chemsyms) if sym == 'H']\n",
    "        h_pos = s.get_positions()[h_inds]\n",
    "        com = np.average(h_pos, axis=0)\n",
    "        \n",
    "        return com\n",
    "\n",
    "print(\"---- Hydrogen COM for all NH3 configurations\\n\")\n",
    "print('\\n'.join(['{0}'.format(x) for x in HydrogenCOM.get(nh3coll)]), \"\\n\\n\")"
   ]
  },
  {
   "cell_type": "markdown",
   "metadata": {},
   "source": [
    "## 3 - CALCULATORS\n",
    "\n",
    "The Atomic Simulation Environment provides bindings to many codes in the form of calculators.\n",
    "These include ab initio codes like CASTEP and VASP as well as empirical force fields. These calculators can be set\n",
    "and used in Soprano as well. Here we're going to use the most basic one, the Lennard-Jones force field,\n",
    "as an example."
   ]
  },
  {
   "cell_type": "code",
   "execution_count": 7,
   "metadata": {},
   "outputs": [
    {
     "name": "stdout",
     "output_type": "stream",
     "text": [
      "---- NH3 Lennard-Jones energy for all configurations ----\n",
      "\n",
      "-1.3375659506414495\n",
      "-0.3833070450646066\n",
      "0.7294291809909721\n",
      "1.961978605860948\n",
      "3.2557938225344025\n",
      "4.53483937973815\n",
      "5.711414812707827\n",
      "6.695131685684335\n",
      "7.403926123523163\n",
      "7.775252265974937\n",
      "7.775252265974962\n",
      "7.403926123523163\n",
      "6.695131685684357\n",
      "5.711414812707827\n",
      "4.53483937973815\n",
      "3.2557938225344167\n",
      "1.9619786058609137\n",
      "0.7294291809909721\n",
      "-0.3833070450645939\n",
      "-1.3375659506414495 \n",
      "\n",
      "\n"
     ]
    }
   ],
   "source": [
    "from ase.calculators.lj import LennardJones\n",
    "from soprano.properties.basic import CalcEnergy\n",
    "\n",
    "nh3coll.set_calculators(LennardJones) # Creates calculators of the given type for all structures\n",
    "\n",
    "print(\"---- NH3 Lennard-Jones energy for all configurations ----\\n\")\n",
    "print('\\n'.join(['{0}'.format(x) for x in CalcEnergy.get(nh3coll)]), \"\\n\\n\")"
   ]
  },
  {
   "cell_type": "code",
   "execution_count": 10,
   "metadata": {},
   "outputs": [
    {
     "data": {
      "application/javascript": "/* Put everything inside the global mpl namespace */\nwindow.mpl = {};\n\n\nmpl.get_websocket_type = function() {\n    if (typeof(WebSocket) !== 'undefined') {\n        return WebSocket;\n    } else if (typeof(MozWebSocket) !== 'undefined') {\n        return MozWebSocket;\n    } else {\n        alert('Your browser does not have WebSocket support.' +\n              'Please try Chrome, Safari or Firefox ≥ 6. ' +\n              'Firefox 4 and 5 are also supported but you ' +\n              'have to enable WebSockets in about:config.');\n    };\n}\n\nmpl.figure = function(figure_id, websocket, ondownload, parent_element) {\n    this.id = figure_id;\n\n    this.ws = websocket;\n\n    this.supports_binary = (this.ws.binaryType != undefined);\n\n    if (!this.supports_binary) {\n        var warnings = document.getElementById(\"mpl-warnings\");\n        if (warnings) {\n            warnings.style.display = 'block';\n            warnings.textContent = (\n                \"This browser does not support binary websocket messages. \" +\n                    \"Performance may be slow.\");\n        }\n    }\n\n    this.imageObj = new Image();\n\n    this.context = undefined;\n    this.message = undefined;\n    this.canvas = undefined;\n    this.rubberband_canvas = undefined;\n    this.rubberband_context = undefined;\n    this.format_dropdown = undefined;\n\n    this.image_mode = 'full';\n\n    this.root = $('<div/>');\n    this._root_extra_style(this.root)\n    this.root.attr('style', 'display: inline-block');\n\n    $(parent_element).append(this.root);\n\n    this._init_header(this);\n    this._init_canvas(this);\n    this._init_toolbar(this);\n\n    var fig = this;\n\n    this.waiting = false;\n\n    this.ws.onopen =  function () {\n            fig.send_message(\"supports_binary\", {value: fig.supports_binary});\n            fig.send_message(\"send_image_mode\", {});\n            if (mpl.ratio != 1) {\n                fig.send_message(\"set_dpi_ratio\", {'dpi_ratio': mpl.ratio});\n            }\n            fig.send_message(\"refresh\", {});\n        }\n\n    this.imageObj.onload = function() {\n            if (fig.image_mode == 'full') {\n                // Full images could contain transparency (where diff images\n                // almost always do), so we need to clear the canvas so that\n                // there is no ghosting.\n                fig.context.clearRect(0, 0, fig.canvas.width, fig.canvas.height);\n            }\n            fig.context.drawImage(fig.imageObj, 0, 0);\n        };\n\n    this.imageObj.onunload = function() {\n        fig.ws.close();\n    }\n\n    this.ws.onmessage = this._make_on_message_function(this);\n\n    this.ondownload = ondownload;\n}\n\nmpl.figure.prototype._init_header = function() {\n    var titlebar = $(\n        '<div class=\"ui-dialog-titlebar ui-widget-header ui-corner-all ' +\n        'ui-helper-clearfix\"/>');\n    var titletext = $(\n        '<div class=\"ui-dialog-title\" style=\"width: 100%; ' +\n        'text-align: center; padding: 3px;\"/>');\n    titlebar.append(titletext)\n    this.root.append(titlebar);\n    this.header = titletext[0];\n}\n\n\n\nmpl.figure.prototype._canvas_extra_style = function(canvas_div) {\n\n}\n\n\nmpl.figure.prototype._root_extra_style = function(canvas_div) {\n\n}\n\nmpl.figure.prototype._init_canvas = function() {\n    var fig = this;\n\n    var canvas_div = $('<div/>');\n\n    canvas_div.attr('style', 'position: relative; clear: both; outline: 0');\n\n    function canvas_keyboard_event(event) {\n        return fig.key_event(event, event['data']);\n    }\n\n    canvas_div.keydown('key_press', canvas_keyboard_event);\n    canvas_div.keyup('key_release', canvas_keyboard_event);\n    this.canvas_div = canvas_div\n    this._canvas_extra_style(canvas_div)\n    this.root.append(canvas_div);\n\n    var canvas = $('<canvas/>');\n    canvas.addClass('mpl-canvas');\n    canvas.attr('style', \"left: 0; top: 0; z-index: 0; outline: 0\")\n\n    this.canvas = canvas[0];\n    this.context = canvas[0].getContext(\"2d\");\n\n    var backingStore = this.context.backingStorePixelRatio ||\n\tthis.context.webkitBackingStorePixelRatio ||\n\tthis.context.mozBackingStorePixelRatio ||\n\tthis.context.msBackingStorePixelRatio ||\n\tthis.context.oBackingStorePixelRatio ||\n\tthis.context.backingStorePixelRatio || 1;\n\n    mpl.ratio = (window.devicePixelRatio || 1) / backingStore;\n\n    var rubberband = $('<canvas/>');\n    rubberband.attr('style', \"position: absolute; left: 0; top: 0; z-index: 1;\")\n\n    var pass_mouse_events = true;\n\n    canvas_div.resizable({\n        start: function(event, ui) {\n            pass_mouse_events = false;\n        },\n        resize: function(event, ui) {\n            fig.request_resize(ui.size.width, ui.size.height);\n        },\n        stop: function(event, ui) {\n            pass_mouse_events = true;\n            fig.request_resize(ui.size.width, ui.size.height);\n        },\n    });\n\n    function mouse_event_fn(event) {\n        if (pass_mouse_events)\n            return fig.mouse_event(event, event['data']);\n    }\n\n    rubberband.mousedown('button_press', mouse_event_fn);\n    rubberband.mouseup('button_release', mouse_event_fn);\n    // Throttle sequential mouse events to 1 every 20ms.\n    rubberband.mousemove('motion_notify', mouse_event_fn);\n\n    rubberband.mouseenter('figure_enter', mouse_event_fn);\n    rubberband.mouseleave('figure_leave', mouse_event_fn);\n\n    canvas_div.on(\"wheel\", function (event) {\n        event = event.originalEvent;\n        event['data'] = 'scroll'\n        if (event.deltaY < 0) {\n            event.step = 1;\n        } else {\n            event.step = -1;\n        }\n        mouse_event_fn(event);\n    });\n\n    canvas_div.append(canvas);\n    canvas_div.append(rubberband);\n\n    this.rubberband = rubberband;\n    this.rubberband_canvas = rubberband[0];\n    this.rubberband_context = rubberband[0].getContext(\"2d\");\n    this.rubberband_context.strokeStyle = \"#000000\";\n\n    this._resize_canvas = function(width, height) {\n        // Keep the size of the canvas, canvas container, and rubber band\n        // canvas in synch.\n        canvas_div.css('width', width)\n        canvas_div.css('height', height)\n\n        canvas.attr('width', width * mpl.ratio);\n        canvas.attr('height', height * mpl.ratio);\n        canvas.attr('style', 'width: ' + width + 'px; height: ' + height + 'px;');\n\n        rubberband.attr('width', width);\n        rubberband.attr('height', height);\n    }\n\n    // Set the figure to an initial 600x600px, this will subsequently be updated\n    // upon first draw.\n    this._resize_canvas(600, 600);\n\n    // Disable right mouse context menu.\n    $(this.rubberband_canvas).bind(\"contextmenu\",function(e){\n        return false;\n    });\n\n    function set_focus () {\n        canvas.focus();\n        canvas_div.focus();\n    }\n\n    window.setTimeout(set_focus, 100);\n}\n\nmpl.figure.prototype._init_toolbar = function() {\n    var fig = this;\n\n    var nav_element = $('<div/>')\n    nav_element.attr('style', 'width: 100%');\n    this.root.append(nav_element);\n\n    // Define a callback function for later on.\n    function toolbar_event(event) {\n        return fig.toolbar_button_onclick(event['data']);\n    }\n    function toolbar_mouse_event(event) {\n        return fig.toolbar_button_onmouseover(event['data']);\n    }\n\n    for(var toolbar_ind in mpl.toolbar_items) {\n        var name = mpl.toolbar_items[toolbar_ind][0];\n        var tooltip = mpl.toolbar_items[toolbar_ind][1];\n        var image = mpl.toolbar_items[toolbar_ind][2];\n        var method_name = mpl.toolbar_items[toolbar_ind][3];\n\n        if (!name) {\n            // put a spacer in here.\n            continue;\n        }\n        var button = $('<button/>');\n        button.addClass('ui-button ui-widget ui-state-default ui-corner-all ' +\n                        'ui-button-icon-only');\n        button.attr('role', 'button');\n        button.attr('aria-disabled', 'false');\n        button.click(method_name, toolbar_event);\n        button.mouseover(tooltip, toolbar_mouse_event);\n\n        var icon_img = $('<span/>');\n        icon_img.addClass('ui-button-icon-primary ui-icon');\n        icon_img.addClass(image);\n        icon_img.addClass('ui-corner-all');\n\n        var tooltip_span = $('<span/>');\n        tooltip_span.addClass('ui-button-text');\n        tooltip_span.html(tooltip);\n\n        button.append(icon_img);\n        button.append(tooltip_span);\n\n        nav_element.append(button);\n    }\n\n    var fmt_picker_span = $('<span/>');\n\n    var fmt_picker = $('<select/>');\n    fmt_picker.addClass('mpl-toolbar-option ui-widget ui-widget-content');\n    fmt_picker_span.append(fmt_picker);\n    nav_element.append(fmt_picker_span);\n    this.format_dropdown = fmt_picker[0];\n\n    for (var ind in mpl.extensions) {\n        var fmt = mpl.extensions[ind];\n        var option = $(\n            '<option/>', {selected: fmt === mpl.default_extension}).html(fmt);\n        fmt_picker.append(option)\n    }\n\n    // Add hover states to the ui-buttons\n    $( \".ui-button\" ).hover(\n        function() { $(this).addClass(\"ui-state-hover\");},\n        function() { $(this).removeClass(\"ui-state-hover\");}\n    );\n\n    var status_bar = $('<span class=\"mpl-message\"/>');\n    nav_element.append(status_bar);\n    this.message = status_bar[0];\n}\n\nmpl.figure.prototype.request_resize = function(x_pixels, y_pixels) {\n    // Request matplotlib to resize the figure. Matplotlib will then trigger a resize in the client,\n    // which will in turn request a refresh of the image.\n    this.send_message('resize', {'width': x_pixels, 'height': y_pixels});\n}\n\nmpl.figure.prototype.send_message = function(type, properties) {\n    properties['type'] = type;\n    properties['figure_id'] = this.id;\n    this.ws.send(JSON.stringify(properties));\n}\n\nmpl.figure.prototype.send_draw_message = function() {\n    if (!this.waiting) {\n        this.waiting = true;\n        this.ws.send(JSON.stringify({type: \"draw\", figure_id: this.id}));\n    }\n}\n\n\nmpl.figure.prototype.handle_save = function(fig, msg) {\n    var format_dropdown = fig.format_dropdown;\n    var format = format_dropdown.options[format_dropdown.selectedIndex].value;\n    fig.ondownload(fig, format);\n}\n\n\nmpl.figure.prototype.handle_resize = function(fig, msg) {\n    var size = msg['size'];\n    if (size[0] != fig.canvas.width || size[1] != fig.canvas.height) {\n        fig._resize_canvas(size[0], size[1]);\n        fig.send_message(\"refresh\", {});\n    };\n}\n\nmpl.figure.prototype.handle_rubberband = function(fig, msg) {\n    var x0 = msg['x0'] / mpl.ratio;\n    var y0 = (fig.canvas.height - msg['y0']) / mpl.ratio;\n    var x1 = msg['x1'] / mpl.ratio;\n    var y1 = (fig.canvas.height - msg['y1']) / mpl.ratio;\n    x0 = Math.floor(x0) + 0.5;\n    y0 = Math.floor(y0) + 0.5;\n    x1 = Math.floor(x1) + 0.5;\n    y1 = Math.floor(y1) + 0.5;\n    var min_x = Math.min(x0, x1);\n    var min_y = Math.min(y0, y1);\n    var width = Math.abs(x1 - x0);\n    var height = Math.abs(y1 - y0);\n\n    fig.rubberband_context.clearRect(\n        0, 0, fig.canvas.width, fig.canvas.height);\n\n    fig.rubberband_context.strokeRect(min_x, min_y, width, height);\n}\n\nmpl.figure.prototype.handle_figure_label = function(fig, msg) {\n    // Updates the figure title.\n    fig.header.textContent = msg['label'];\n}\n\nmpl.figure.prototype.handle_cursor = function(fig, msg) {\n    var cursor = msg['cursor'];\n    switch(cursor)\n    {\n    case 0:\n        cursor = 'pointer';\n        break;\n    case 1:\n        cursor = 'default';\n        break;\n    case 2:\n        cursor = 'crosshair';\n        break;\n    case 3:\n        cursor = 'move';\n        break;\n    }\n    fig.rubberband_canvas.style.cursor = cursor;\n}\n\nmpl.figure.prototype.handle_message = function(fig, msg) {\n    fig.message.textContent = msg['message'];\n}\n\nmpl.figure.prototype.handle_draw = function(fig, msg) {\n    // Request the server to send over a new figure.\n    fig.send_draw_message();\n}\n\nmpl.figure.prototype.handle_image_mode = function(fig, msg) {\n    fig.image_mode = msg['mode'];\n}\n\nmpl.figure.prototype.updated_canvas_event = function() {\n    // Called whenever the canvas gets updated.\n    this.send_message(\"ack\", {});\n}\n\n// A function to construct a web socket function for onmessage handling.\n// Called in the figure constructor.\nmpl.figure.prototype._make_on_message_function = function(fig) {\n    return function socket_on_message(evt) {\n        if (evt.data instanceof Blob) {\n            /* FIXME: We get \"Resource interpreted as Image but\n             * transferred with MIME type text/plain:\" errors on\n             * Chrome.  But how to set the MIME type?  It doesn't seem\n             * to be part of the websocket stream */\n            evt.data.type = \"image/png\";\n\n            /* Free the memory for the previous frames */\n            if (fig.imageObj.src) {\n                (window.URL || window.webkitURL).revokeObjectURL(\n                    fig.imageObj.src);\n            }\n\n            fig.imageObj.src = (window.URL || window.webkitURL).createObjectURL(\n                evt.data);\n            fig.updated_canvas_event();\n            fig.waiting = false;\n            return;\n        }\n        else if (typeof evt.data === 'string' && evt.data.slice(0, 21) == \"data:image/png;base64\") {\n            fig.imageObj.src = evt.data;\n            fig.updated_canvas_event();\n            fig.waiting = false;\n            return;\n        }\n\n        var msg = JSON.parse(evt.data);\n        var msg_type = msg['type'];\n\n        // Call the  \"handle_{type}\" callback, which takes\n        // the figure and JSON message as its only arguments.\n        try {\n            var callback = fig[\"handle_\" + msg_type];\n        } catch (e) {\n            console.log(\"No handler for the '\" + msg_type + \"' message type: \", msg);\n            return;\n        }\n\n        if (callback) {\n            try {\n                // console.log(\"Handling '\" + msg_type + \"' message: \", msg);\n                callback(fig, msg);\n            } catch (e) {\n                console.log(\"Exception inside the 'handler_\" + msg_type + \"' callback:\", e, e.stack, msg);\n            }\n        }\n    };\n}\n\n// from http://stackoverflow.com/questions/1114465/getting-mouse-location-in-canvas\nmpl.findpos = function(e) {\n    //this section is from http://www.quirksmode.org/js/events_properties.html\n    var targ;\n    if (!e)\n        e = window.event;\n    if (e.target)\n        targ = e.target;\n    else if (e.srcElement)\n        targ = e.srcElement;\n    if (targ.nodeType == 3) // defeat Safari bug\n        targ = targ.parentNode;\n\n    // jQuery normalizes the pageX and pageY\n    // pageX,Y are the mouse positions relative to the document\n    // offset() returns the position of the element relative to the document\n    var x = e.pageX - $(targ).offset().left;\n    var y = e.pageY - $(targ).offset().top;\n\n    return {\"x\": x, \"y\": y};\n};\n\n/*\n * return a copy of an object with only non-object keys\n * we need this to avoid circular references\n * http://stackoverflow.com/a/24161582/3208463\n */\nfunction simpleKeys (original) {\n  return Object.keys(original).reduce(function (obj, key) {\n    if (typeof original[key] !== 'object')\n        obj[key] = original[key]\n    return obj;\n  }, {});\n}\n\nmpl.figure.prototype.mouse_event = function(event, name) {\n    var canvas_pos = mpl.findpos(event)\n\n    if (name === 'button_press')\n    {\n        this.canvas.focus();\n        this.canvas_div.focus();\n    }\n\n    var x = canvas_pos.x * mpl.ratio;\n    var y = canvas_pos.y * mpl.ratio;\n\n    this.send_message(name, {x: x, y: y, button: event.button,\n                             step: event.step,\n                             guiEvent: simpleKeys(event)});\n\n    /* This prevents the web browser from automatically changing to\n     * the text insertion cursor when the button is pressed.  We want\n     * to control all of the cursor setting manually through the\n     * 'cursor' event from matplotlib */\n    event.preventDefault();\n    return false;\n}\n\nmpl.figure.prototype._key_event_extra = function(event, name) {\n    // Handle any extra behaviour associated with a key event\n}\n\nmpl.figure.prototype.key_event = function(event, name) {\n\n    // Prevent repeat events\n    if (name == 'key_press')\n    {\n        if (event.which === this._key)\n            return;\n        else\n            this._key = event.which;\n    }\n    if (name == 'key_release')\n        this._key = null;\n\n    var value = '';\n    if (event.ctrlKey && event.which != 17)\n        value += \"ctrl+\";\n    if (event.altKey && event.which != 18)\n        value += \"alt+\";\n    if (event.shiftKey && event.which != 16)\n        value += \"shift+\";\n\n    value += 'k';\n    value += event.which.toString();\n\n    this._key_event_extra(event, name);\n\n    this.send_message(name, {key: value,\n                             guiEvent: simpleKeys(event)});\n    return false;\n}\n\nmpl.figure.prototype.toolbar_button_onclick = function(name) {\n    if (name == 'download') {\n        this.handle_save(this, null);\n    } else {\n        this.send_message(\"toolbar_button\", {name: name});\n    }\n};\n\nmpl.figure.prototype.toolbar_button_onmouseover = function(tooltip) {\n    this.message.textContent = tooltip;\n};\nmpl.toolbar_items = [[\"Home\", \"Reset original view\", \"fa fa-home icon-home\", \"home\"], [\"Back\", \"Back to  previous view\", \"fa fa-arrow-left icon-arrow-left\", \"back\"], [\"Forward\", \"Forward to next view\", \"fa fa-arrow-right icon-arrow-right\", \"forward\"], [\"\", \"\", \"\", \"\"], [\"Pan\", \"Pan axes with left mouse, zoom with right\", \"fa fa-arrows icon-move\", \"pan\"], [\"Zoom\", \"Zoom to rectangle\", \"fa fa-square-o icon-check-empty\", \"zoom\"], [\"\", \"\", \"\", \"\"], [\"Download\", \"Download plot\", \"fa fa-floppy-o icon-save\", \"download\"]];\n\nmpl.extensions = [\"eps\", \"jpeg\", \"pdf\", \"png\", \"ps\", \"raw\", \"svg\", \"tif\"];\n\nmpl.default_extension = \"png\";var comm_websocket_adapter = function(comm) {\n    // Create a \"websocket\"-like object which calls the given IPython comm\n    // object with the appropriate methods. Currently this is a non binary\n    // socket, so there is still some room for performance tuning.\n    var ws = {};\n\n    ws.close = function() {\n        comm.close()\n    };\n    ws.send = function(m) {\n        //console.log('sending', m);\n        comm.send(m);\n    };\n    // Register the callback with on_msg.\n    comm.on_msg(function(msg) {\n        //console.log('receiving', msg['content']['data'], msg);\n        // Pass the mpl event to the overriden (by mpl) onmessage function.\n        ws.onmessage(msg['content']['data'])\n    });\n    return ws;\n}\n\nmpl.mpl_figure_comm = function(comm, msg) {\n    // This is the function which gets called when the mpl process\n    // starts-up an IPython Comm through the \"matplotlib\" channel.\n\n    var id = msg.content.data.id;\n    // Get hold of the div created by the display call when the Comm\n    // socket was opened in Python.\n    var element = $(\"#\" + id);\n    var ws_proxy = comm_websocket_adapter(comm)\n\n    function ondownload(figure, format) {\n        window.open(figure.imageObj.src);\n    }\n\n    var fig = new mpl.figure(id, ws_proxy,\n                           ondownload,\n                           element.get(0));\n\n    // Call onopen now - mpl needs it, as it is assuming we've passed it a real\n    // web socket which is closed, not our websocket->open comm proxy.\n    ws_proxy.onopen();\n\n    fig.parent_element = element.get(0);\n    fig.cell_info = mpl.find_output_cell(\"<div id='\" + id + \"'></div>\");\n    if (!fig.cell_info) {\n        console.error(\"Failed to find cell for figure\", id, fig);\n        return;\n    }\n\n    var output_index = fig.cell_info[2]\n    var cell = fig.cell_info[0];\n\n};\n\nmpl.figure.prototype.handle_close = function(fig, msg) {\n    var width = fig.canvas.width/mpl.ratio\n    fig.root.unbind('remove')\n\n    // Update the output cell to use the data from the current canvas.\n    fig.push_to_output();\n    var dataURL = fig.canvas.toDataURL();\n    // Re-enable the keyboard manager in IPython - without this line, in FF,\n    // the notebook keyboard shortcuts fail.\n    IPython.keyboard_manager.enable()\n    $(fig.parent_element).html('<img src=\"' + dataURL + '\" width=\"' + width + '\">');\n    fig.close_ws(fig, msg);\n}\n\nmpl.figure.prototype.close_ws = function(fig, msg){\n    fig.send_message('closing', msg);\n    // fig.ws.close()\n}\n\nmpl.figure.prototype.push_to_output = function(remove_interactive) {\n    // Turn the data on the canvas into data in the output cell.\n    var width = this.canvas.width/mpl.ratio\n    var dataURL = this.canvas.toDataURL();\n    this.cell_info[1]['text/html'] = '<img src=\"' + dataURL + '\" width=\"' + width + '\">';\n}\n\nmpl.figure.prototype.updated_canvas_event = function() {\n    // Tell IPython that the notebook contents must change.\n    IPython.notebook.set_dirty(true);\n    this.send_message(\"ack\", {});\n    var fig = this;\n    // Wait a second, then push the new image to the DOM so\n    // that it is saved nicely (might be nice to debounce this).\n    setTimeout(function () { fig.push_to_output() }, 1000);\n}\n\nmpl.figure.prototype._init_toolbar = function() {\n    var fig = this;\n\n    var nav_element = $('<div/>')\n    nav_element.attr('style', 'width: 100%');\n    this.root.append(nav_element);\n\n    // Define a callback function for later on.\n    function toolbar_event(event) {\n        return fig.toolbar_button_onclick(event['data']);\n    }\n    function toolbar_mouse_event(event) {\n        return fig.toolbar_button_onmouseover(event['data']);\n    }\n\n    for(var toolbar_ind in mpl.toolbar_items){\n        var name = mpl.toolbar_items[toolbar_ind][0];\n        var tooltip = mpl.toolbar_items[toolbar_ind][1];\n        var image = mpl.toolbar_items[toolbar_ind][2];\n        var method_name = mpl.toolbar_items[toolbar_ind][3];\n\n        if (!name) { continue; };\n\n        var button = $('<button class=\"btn btn-default\" href=\"#\" title=\"' + name + '\"><i class=\"fa ' + image + ' fa-lg\"></i></button>');\n        button.click(method_name, toolbar_event);\n        button.mouseover(tooltip, toolbar_mouse_event);\n        nav_element.append(button);\n    }\n\n    // Add the status bar.\n    var status_bar = $('<span class=\"mpl-message\" style=\"text-align:right; float: right;\"/>');\n    nav_element.append(status_bar);\n    this.message = status_bar[0];\n\n    // Add the close button to the window.\n    var buttongrp = $('<div class=\"btn-group inline pull-right\"></div>');\n    var button = $('<button class=\"btn btn-mini btn-primary\" href=\"#\" title=\"Stop Interaction\"><i class=\"fa fa-power-off icon-remove icon-large\"></i></button>');\n    button.click(function (evt) { fig.handle_close(fig, {}); } );\n    button.mouseover('Stop Interaction', toolbar_mouse_event);\n    buttongrp.append(button);\n    var titlebar = this.root.find($('.ui-dialog-titlebar'));\n    titlebar.prepend(buttongrp);\n}\n\nmpl.figure.prototype._root_extra_style = function(el){\n    var fig = this\n    el.on(\"remove\", function(){\n\tfig.close_ws(fig, {});\n    });\n}\n\nmpl.figure.prototype._canvas_extra_style = function(el){\n    // this is important to make the div 'focusable\n    el.attr('tabindex', 0)\n    // reach out to IPython and tell the keyboard manager to turn it's self\n    // off when our div gets focus\n\n    // location in version 3\n    if (IPython.notebook.keyboard_manager) {\n        IPython.notebook.keyboard_manager.register_events(el);\n    }\n    else {\n        // location in version 2\n        IPython.keyboard_manager.register_events(el);\n    }\n\n}\n\nmpl.figure.prototype._key_event_extra = function(event, name) {\n    var manager = IPython.notebook.keyboard_manager;\n    if (!manager)\n        manager = IPython.keyboard_manager;\n\n    // Check for shift+enter\n    if (event.shiftKey && event.which == 13) {\n        this.canvas_div.blur();\n        event.shiftKey = false;\n        // Send a \"J\" for go to next cell\n        event.which = 74;\n        event.keyCode = 74;\n        manager.command_mode();\n        manager.handle_keydown(event);\n    }\n}\n\nmpl.figure.prototype.handle_save = function(fig, msg) {\n    fig.ondownload(fig, null);\n}\n\n\nmpl.find_output_cell = function(html_output) {\n    // Return the cell and output element which can be found *uniquely* in the notebook.\n    // Note - this is a bit hacky, but it is done because the \"notebook_saving.Notebook\"\n    // IPython event is triggered only after the cells have been serialised, which for\n    // our purposes (turning an active figure into a static one), is too late.\n    var cells = IPython.notebook.get_cells();\n    var ncells = cells.length;\n    for (var i=0; i<ncells; i++) {\n        var cell = cells[i];\n        if (cell.cell_type === 'code'){\n            for (var j=0; j<cell.output_area.outputs.length; j++) {\n                var data = cell.output_area.outputs[j];\n                if (data.data) {\n                    // IPython >= 3 moved mimebundle to data attribute of output\n                    data = data.data;\n                }\n                if (data['text/html'] == html_output) {\n                    return [cell, data, j];\n                }\n            }\n        }\n    }\n}\n\n// Register the function which deals with the matplotlib target/channel.\n// The kernel may be null if the page has been refreshed.\nif (IPython.notebook.kernel != null) {\n    IPython.notebook.kernel.comm_manager.register_target('matplotlib', mpl.mpl_figure_comm);\n}\n",
      "text/plain": [
       "<IPython.core.display.Javascript object>"
      ]
     },
     "metadata": {},
     "output_type": "display_data"
    },
    {
     "data": {
      "text/html": [
       "<img src=\"data:image/png;base64,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\" width=\"640\">"
      ],
      "text/plain": [
       "<IPython.core.display.HTML object>"
      ]
     },
     "metadata": {},
     "output_type": "display_data"
    },
    {
     "data": {
      "text/plain": [
       "[<matplotlib.lines.Line2D at 0x7f6f5f3a3310>]"
      ]
     },
     "execution_count": 10,
     "metadata": {},
     "output_type": "execute_result"
    }
   ],
   "source": [
    "# Now let's try a plot\n",
    "%matplotlib notebook\n",
    "import matplotlib.pyplot as plt\n",
    "\n",
    "comz = np.array(HydrogenCOM.get(nh3coll))[:,2]-2.5\n",
    "ljE = CalcEnergy.get(nh3coll)\n",
    "\n",
    "plt.plot(comz, ljE)"
   ]
  },
  {
   "cell_type": "code",
   "execution_count": null,
   "metadata": {
    "collapsed": true
   },
   "outputs": [],
   "source": []
  }
 ],
 "metadata": {
  "kernelspec": {
   "display_name": "Python 3.9.5 ('base')",
   "language": "python",
   "name": "python3"
  },
  "language_info": {
   "codemirror_mode": {
    "name": "ipython",
    "version": 3
   },
   "file_extension": ".py",
   "mimetype": "text/x-python",
   "name": "python",
   "nbconvert_exporter": "python",
   "pygments_lexer": "ipython3",
   "version": "3.9.5"
  },
  "vscode": {
   "interpreter": {
    "hash": "dcf3964c9f098ea87c1c1258bc0cf8607e796f6d28cbe05fe0232edb9a1fcec4"
   }
  }
 },
 "nbformat": 4,
 "nbformat_minor": 1
}
