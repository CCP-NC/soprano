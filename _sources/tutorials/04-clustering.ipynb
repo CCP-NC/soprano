{
 "cells": [
  {
   "cell_type": "markdown",
   "metadata": {},
   "source": [
    "# Tutorial 4 - Clustering analysis\n",
    "\n",
    "\n",
    "```\n",
    "      _\n",
    "    /|_|\\   \n",
    "   / / \\ \\  \n",
    "  /_/   \\_\\  \n",
    "  \\ \\   / /  \n",
    "   \\ \\_/ /  \n",
    "    \\|_|/  \n",
    "\n",
    "```\n",
    "SOPRANO: a Python library for generation, manipulation and analysis of large batches of crystalline structures\n",
    "\n",
    "\n",
    "*Developed within the CCP-NC project. Copyright STFC 2022*"
   ]
  },
  {
   "cell_type": "code",
   "execution_count": 1,
   "metadata": {},
   "outputs": [],
   "source": [
    "# Basic imports\n",
    "import os, sys\n",
    "sys.path.insert(0, os.path.abspath('..')) # This to add the Soprano path to the PYTHONPATH\n",
    "                                          # so we can load it without installing it"
   ]
  },
  {
   "cell_type": "code",
   "execution_count": 2,
   "metadata": {},
   "outputs": [],
   "source": [
    "# Other useful imports\n",
    "\n",
    "import glob\n",
    "\n",
    "import numpy as np\n",
    "\n",
    "import ase\n",
    "from ase import io as ase_io\n",
    "\n",
    "from soprano.collection import AtomsCollection"
   ]
  },
  {
   "cell_type": "markdown",
   "metadata": {},
   "source": [
    "## 1 - SETTING UP CLUSTERING\n",
    "\n",
    "When dealing with multiple structures, Soprano allows to use clustering tools to split them in groups. In this case\n",
    "we'll use the examples from the first tutorial for a very basic analysis. These examples are slightly randomised \n",
    "copies of BCC and FCC iron cells. Telling which one is which is going to be the focus of this exercise."
   ]
  },
  {
   "cell_type": "code",
   "execution_count": 3,
   "metadata": {},
   "outputs": [
    {
     "name": "stdout",
     "output_type": "stream",
     "text": [
      "Loading collection...\n",
      "\r\n",
      "Loading: [██                  ] -\r\n",
      "Loading: [████                ] |\r\n",
      "Loading: [██████              ] -\r\n",
      "Loading: [████████            ] |\r\n",
      "Loading: [██████████          ] -\r\n",
      "Loading: [████████████        ] |\r\n",
      "Loading: [██████████████      ] -\r\n",
      "Loading: [████████████████    ] |\r\n",
      "Loading: [██████████████████  ] -\r\n",
      "Loading: [████████████████████] |\n",
      "Loaded 10 structures\n"
     ]
    }
   ],
   "source": [
    "from soprano.analyse.phylogen import Gene, PhylogenCluster\n",
    "\n",
    "# List all files in the tutorial directory\n",
    "cifs = glob.glob('tutorial_data/struct*.cif')\n",
    "\n",
    "aColl = AtomsCollection(cifs, progress=True) # \"progress\" means we will visualize a loading bar"
   ]
  },
  {
   "cell_type": "code",
   "execution_count": 4,
   "metadata": {},
   "outputs": [
    {
     "name": "stdout",
     "output_type": "stream",
     "text": [
      "---- Genetic strings for each structure (normalised) ----\n",
      "\n",
      "[4.31796347e-04 5.77350269e-01 5.71776698e-01 3.82204059e-01\n",
      " 2.89731320e-01 3.79430700e-01 2.56767743e-01 7.65829984e-02\n",
      " 4.10390850e-02]\n",
      "[0.00215384 0.57509577 0.57735027 0.23421216 0.10938268 0.06456274\n",
      " 0.09726671 0.03729165 0.02427493]\n",
      "[0.57735027 0.         0.02855261 0.08114935 0.31351101 0.40824829\n",
      " 0.36910988 0.40188516 0.37920134]\n",
      "[0.00293262 0.56812516 0.54631344 0.03808934 0.         0.\n",
      " 0.         0.         0.        ]\n",
      "[0.00234147 0.56843585 0.57506511 0.03983816 0.31892844 0.30571813\n",
      " 0.12517734 0.03719032 0.01087275]\n",
      "[0.         0.56188745 0.55543817 0.3211884  0.14902253 0.13332735\n",
      " 0.06522664 0.06238218 0.02563075]\n",
      "[0.57384706 0.01255508 0.01286699 0.16859345 0.33401103 0.21194266\n",
      " 0.15841008 0.39493079 0.36652912]\n",
      "[0.00249825 0.55684471 0.54655231 0.31208267 0.16584198 0.12546308\n",
      " 0.08714662 0.06382641 0.01657239]\n",
      "[0.57066257 0.00915342 0.         0.40824829 0.40824829 0.36095277\n",
      " 0.34974159 0.38051256 0.40824829]\n",
      "[0.57442536 0.025859   0.00454644 0.         0.02776742 0.39108816\n",
      " 0.40824829 0.40824829 0.38578646] \n",
      "\n",
      "Info:\t [('latt_abc_len', 3), ('linkage_list', 6)] \n",
      "\n",
      "\n"
     ]
    }
   ],
   "source": [
    "# To carry out the analysis we need to define a PhylogenCluster object. This will need as input some Gene objects.\n",
    "# The phylogenetic nomenclature is just an analogy to the way phylogenetic analysis is carried out in biology.\n",
    "# Ideally, we're trying to give each structure a \"DNA\" of sorts, then compare them amongst themselves to find\n",
    "# which ones are more closely related.\n",
    "# Finding the right properties to use to distinguish between structures is key here. In this examples it's pretty\n",
    "# simple but we'll still illustrate a couple different ways to get there\n",
    "\n",
    "# This gene represents the length of the three lattice parameters\n",
    "gene_abc = Gene(name='latt_abc_len', weight=1.0, params={})\n",
    "\n",
    "# This gene represents the linkage list property as seen in tutorial 2\n",
    "gene_lnk = Gene(name='linkage_list', weight=1.0, params={})\n",
    "\n",
    "# We can try these separately or together\n",
    "phClust1 = PhylogenCluster(aColl, [gene_abc])\n",
    "phClust2 = PhylogenCluster(aColl, [gene_lnk])\n",
    "phClust3 = PhylogenCluster(aColl, [gene_abc, gene_lnk]) # In this case they get chained together,\n",
    "                                                        # and the relative weights are used\n",
    "    \n",
    "# Here's a summary of the generated \"genes\"\n",
    "genes, genes_info = phClust3.get_genome_vectors_norm()\n",
    "\n",
    "print(\"---- Genetic strings for each structure (normalised) ----\\n\")\n",
    "print('\\n'.join([str(g) for g in genes]), '\\n')\n",
    "print('Info:\\t', genes_info, '\\n\\n') # This tells us which genes are present and how long the respective fields are"
   ]
  },
  {
   "cell_type": "markdown",
   "metadata": {},
   "source": [
    "## 2 - CLUSTERING METHODS\n",
    "\n",
    "When clustering structures two algorithms are available: hierarchical and k-means.  \n",
    "Hierarchical clustering builds a tree branching progressively from a single \"trunk\" containing all structures to \n",
    "multiple \"leaves\" representing each one structure. To turn this into a number of cluster a depth has to be\n",
    "provided by the user.  \n",
    "K-Means clustering builds a fixed number of clusters. In this case no depth is required but the user still needs\n",
    "to submit an educated guess about the expected number of clusters. Some times the algorithm can produce less \n",
    "clusters than that anyway (i.e. some clusters are in fact left empty)."
   ]
  },
  {
   "cell_type": "code",
   "execution_count": 5,
   "metadata": {},
   "outputs": [
    {
     "name": "stdout",
     "output_type": "stream",
     "text": [
      "---- k-means clusters obtained with different genomes ----\n",
      "\n",
      "ABC only:\t [2 2 1 2 2 2 1 2 1 1]\n",
      "Linkage only:\t [2 2 1 2 2 2 1 2 1 1]\n",
      "Both:\t\t [1 1 2 1 1 1 2 1 2 2]\n",
      "\n",
      "\n",
      "---- Hierarchical clusters obtained with different genomes ----\n",
      "\n",
      "t = 0.0:\t\t [ 9  7  1  8 10  5  3  6  4  2]\n",
      "t = 0.1:\t\t [8 6 1 7 9 5 3 5 4 2]\n",
      "t = 0.2:\t\t [7 5 1 6 8 5 3 5 4 2]\n",
      "t = 0.30000000000000004:\t\t [6 5 1 5 7 5 3 5 4 2]\n",
      "t = 0.4:\t\t [2 2 1 2 2 2 1 2 1 1]\n",
      "t = 0.5:\t\t [2 2 1 2 2 2 1 2 1 1]\n",
      "t = 0.6000000000000001:\t\t [2 2 1 2 2 2 1 2 1 1]\n",
      "t = 0.7000000000000001:\t\t [2 2 1 2 2 2 1 2 1 1]\n",
      "t = 0.8:\t\t [2 2 1 2 2 2 1 2 1 1]\n",
      "t = 0.9:\t\t [2 2 1 2 2 2 1 2 1 1]\n",
      "t = 1.0:\t\t [2 2 1 2 2 2 1 2 1 1]\n"
     ]
    }
   ],
   "source": [
    "# First, trying k-means. We know to expect 2 clusters in this case (BCC and FCC)\n",
    "clust1_inds, clust1_slices = phClust1.get_kmeans_clusters(2) # Returns indices and slices representing the clusters\n",
    "clust2_inds, clust2_slices = phClust2.get_kmeans_clusters(2)\n",
    "clust3_inds, clust3_slices = phClust3.get_kmeans_clusters(2)\n",
    "\n",
    "# Now to compare...\n",
    "# These should be the same except for the possibility of indices being swapped\n",
    "print(\"---- k-means clusters obtained with different genomes ----\\n\")\n",
    "print(\"ABC only:\\t\", clust1_inds)\n",
    "print(\"Linkage only:\\t\", clust2_inds)\n",
    "print(\"Both:\\t\\t\", clust3_inds)\n",
    "print(\"\\n\")\n",
    "\n",
    "# Now hierarchical clustering\n",
    "print(\"---- Hierarchical clusters obtained with different genomes ----\\n\")\n",
    "# Variable t (depth of traversing in the tree)\n",
    "# At the beginning should start with the most branched out version, then leaves should coalesce into clusters\n",
    "for t in np.linspace(0, 1, 11):\n",
    "    print(\"t = {0}:\\t\\t\".format(t), phClust3.get_hier_clusters(t)[0])"
   ]
  },
  {
   "cell_type": "code",
   "execution_count": 6,
   "metadata": {},
   "outputs": [
    {
     "name": "stdout",
     "output_type": "stream",
     "text": [
      "Clusters found: [1 1 2 1 1 1 2 1 2 2]\n"
     ]
    }
   ],
   "source": [
    "# Optionally, it is possible to also get clusters with the scikit-learn library (if present)\n",
    "# All potential algortithms are found at: http://scikit-learn.org/stable/modules/clustering.html\n",
    "\n",
    "try:\n",
    "    clust3_sk_inds, clust3_sk_slices = phClust3.get_sklearn_clusters('AgglomerativeClustering')\n",
    "    print('Clusters found: {0}'.format(clust3_sk_inds))\n",
    "except RuntimeError as e:\n",
    "    print(e)"
   ]
  },
  {
   "cell_type": "markdown",
   "metadata": {},
   "source": [
    "## 3 - MAPS\n",
    "\n",
    "Clusters are created by associating points that exist in a high-dimensional space. For example if you used the\n",
    "phClust3 above, including latt_abc_len and linkage_list, it should generate a 9-dimensional vector for each \n",
    "system. For this reason visualising immediately these points to verify their aggregation isn't possible.  \n",
    "However, there are methods able to simplify these spaces in a way that accomodates the human eye. These \"mappings\"\n",
    "reduce a high dimensionality space to a 2D one, retaining as much information as possible. There are many possible\n",
    "algorithms to do this; Soprano implements some of the most common ones. For more information check this paper:\n",
    "**W. Siedlecki et al., Patt. Recog. vol. 21, num. 5, pp. 411 429 (1988)**"
   ]
  },
  {
   "cell_type": "code",
   "execution_count": 7,
   "metadata": {
    "scrolled": false
   },
   "outputs": [
    {
     "name": "stdout",
     "output_type": "stream",
     "text": [
      "Help on method create_mapping in module soprano.analyse.phylogen.phylogenclust:\n",
      "\n",
      "create_mapping(method='total-principal') method of soprano.analyse.phylogen.phylogenclust.PhylogenCluster instance\n",
      "    Return an array of 2-dimensional points representing a reduced\n",
      "    dimensionality mapping of the given genes using the algorithm of\n",
      "    choice. All algorithms are described in [W. Siedlecki et al., Patt.\n",
      "    Recog. vol. 21, num. 5, pp. 411 429 (1988)].\n",
      "    \n",
      "    | Args:\n",
      "    |   method (str): can be one of the following algorithms:\n",
      "    |                     - total_principal (default)\n",
      "    |                     - clafic\n",
      "    |                     - fukunaga-koontz\n",
      "    |                     - optimal-discriminant\n",
      "\n",
      "None\n"
     ]
    },
    {
     "data": {
      "application/javascript": "/* Put everything inside the global mpl namespace */\nwindow.mpl = {};\n\n\nmpl.get_websocket_type = function() {\n    if (typeof(WebSocket) !== 'undefined') {\n        return WebSocket;\n    } else if (typeof(MozWebSocket) !== 'undefined') {\n        return MozWebSocket;\n    } else {\n        alert('Your browser does not have WebSocket support.' +\n              'Please try Chrome, Safari or Firefox ≥ 6. ' +\n              'Firefox 4 and 5 are also supported but you ' +\n              'have to enable WebSockets in about:config.');\n    };\n}\n\nmpl.figure = function(figure_id, websocket, ondownload, parent_element) {\n    this.id = figure_id;\n\n    this.ws = websocket;\n\n    this.supports_binary = (this.ws.binaryType != undefined);\n\n    if (!this.supports_binary) {\n        var warnings = document.getElementById(\"mpl-warnings\");\n        if (warnings) {\n            warnings.style.display = 'block';\n            warnings.textContent = (\n                \"This browser does not support binary websocket messages. \" +\n                    \"Performance may be slow.\");\n        }\n    }\n\n    this.imageObj = new Image();\n\n    this.context = undefined;\n    this.message = undefined;\n    this.canvas = undefined;\n    this.rubberband_canvas = undefined;\n    this.rubberband_context = undefined;\n    this.format_dropdown = undefined;\n\n    this.image_mode = 'full';\n\n    this.root = $('<div/>');\n    this._root_extra_style(this.root)\n    this.root.attr('style', 'display: inline-block');\n\n    $(parent_element).append(this.root);\n\n    this._init_header(this);\n    this._init_canvas(this);\n    this._init_toolbar(this);\n\n    var fig = this;\n\n    this.waiting = false;\n\n    this.ws.onopen =  function () {\n            fig.send_message(\"supports_binary\", {value: fig.supports_binary});\n            fig.send_message(\"send_image_mode\", {});\n            if (mpl.ratio != 1) {\n                fig.send_message(\"set_dpi_ratio\", {'dpi_ratio': mpl.ratio});\n            }\n            fig.send_message(\"refresh\", {});\n        }\n\n    this.imageObj.onload = function() {\n            if (fig.image_mode == 'full') {\n                // Full images could contain transparency (where diff images\n                // almost always do), so we need to clear the canvas so that\n                // there is no ghosting.\n                fig.context.clearRect(0, 0, fig.canvas.width, fig.canvas.height);\n            }\n            fig.context.drawImage(fig.imageObj, 0, 0);\n        };\n\n    this.imageObj.onunload = function() {\n        fig.ws.close();\n    }\n\n    this.ws.onmessage = this._make_on_message_function(this);\n\n    this.ondownload = ondownload;\n}\n\nmpl.figure.prototype._init_header = function() {\n    var titlebar = $(\n        '<div class=\"ui-dialog-titlebar ui-widget-header ui-corner-all ' +\n        'ui-helper-clearfix\"/>');\n    var titletext = $(\n        '<div class=\"ui-dialog-title\" style=\"width: 100%; ' +\n        'text-align: center; padding: 3px;\"/>');\n    titlebar.append(titletext)\n    this.root.append(titlebar);\n    this.header = titletext[0];\n}\n\n\n\nmpl.figure.prototype._canvas_extra_style = function(canvas_div) {\n\n}\n\n\nmpl.figure.prototype._root_extra_style = function(canvas_div) {\n\n}\n\nmpl.figure.prototype._init_canvas = function() {\n    var fig = this;\n\n    var canvas_div = $('<div/>');\n\n    canvas_div.attr('style', 'position: relative; clear: both; outline: 0');\n\n    function canvas_keyboard_event(event) {\n        return fig.key_event(event, event['data']);\n    }\n\n    canvas_div.keydown('key_press', canvas_keyboard_event);\n    canvas_div.keyup('key_release', canvas_keyboard_event);\n    this.canvas_div = canvas_div\n    this._canvas_extra_style(canvas_div)\n    this.root.append(canvas_div);\n\n    var canvas = $('<canvas/>');\n    canvas.addClass('mpl-canvas');\n    canvas.attr('style', \"left: 0; top: 0; z-index: 0; outline: 0\")\n\n    this.canvas = canvas[0];\n    this.context = canvas[0].getContext(\"2d\");\n\n    var backingStore = this.context.backingStorePixelRatio ||\n\tthis.context.webkitBackingStorePixelRatio ||\n\tthis.context.mozBackingStorePixelRatio ||\n\tthis.context.msBackingStorePixelRatio ||\n\tthis.context.oBackingStorePixelRatio ||\n\tthis.context.backingStorePixelRatio || 1;\n\n    mpl.ratio = (window.devicePixelRatio || 1) / backingStore;\n\n    var rubberband = $('<canvas/>');\n    rubberband.attr('style', \"position: absolute; left: 0; top: 0; z-index: 1;\")\n\n    var pass_mouse_events = true;\n\n    canvas_div.resizable({\n        start: function(event, ui) {\n            pass_mouse_events = false;\n        },\n        resize: function(event, ui) {\n            fig.request_resize(ui.size.width, ui.size.height);\n        },\n        stop: function(event, ui) {\n            pass_mouse_events = true;\n            fig.request_resize(ui.size.width, ui.size.height);\n        },\n    });\n\n    function mouse_event_fn(event) {\n        if (pass_mouse_events)\n            return fig.mouse_event(event, event['data']);\n    }\n\n    rubberband.mousedown('button_press', mouse_event_fn);\n    rubberband.mouseup('button_release', mouse_event_fn);\n    // Throttle sequential mouse events to 1 every 20ms.\n    rubberband.mousemove('motion_notify', mouse_event_fn);\n\n    rubberband.mouseenter('figure_enter', mouse_event_fn);\n    rubberband.mouseleave('figure_leave', mouse_event_fn);\n\n    canvas_div.on(\"wheel\", function (event) {\n        event = event.originalEvent;\n        event['data'] = 'scroll'\n        if (event.deltaY < 0) {\n            event.step = 1;\n        } else {\n            event.step = -1;\n        }\n        mouse_event_fn(event);\n    });\n\n    canvas_div.append(canvas);\n    canvas_div.append(rubberband);\n\n    this.rubberband = rubberband;\n    this.rubberband_canvas = rubberband[0];\n    this.rubberband_context = rubberband[0].getContext(\"2d\");\n    this.rubberband_context.strokeStyle = \"#000000\";\n\n    this._resize_canvas = function(width, height) {\n        // Keep the size of the canvas, canvas container, and rubber band\n        // canvas in synch.\n        canvas_div.css('width', width)\n        canvas_div.css('height', height)\n\n        canvas.attr('width', width * mpl.ratio);\n        canvas.attr('height', height * mpl.ratio);\n        canvas.attr('style', 'width: ' + width + 'px; height: ' + height + 'px;');\n\n        rubberband.attr('width', width);\n        rubberband.attr('height', height);\n    }\n\n    // Set the figure to an initial 600x600px, this will subsequently be updated\n    // upon first draw.\n    this._resize_canvas(600, 600);\n\n    // Disable right mouse context menu.\n    $(this.rubberband_canvas).bind(\"contextmenu\",function(e){\n        return false;\n    });\n\n    function set_focus () {\n        canvas.focus();\n        canvas_div.focus();\n    }\n\n    window.setTimeout(set_focus, 100);\n}\n\nmpl.figure.prototype._init_toolbar = function() {\n    var fig = this;\n\n    var nav_element = $('<div/>')\n    nav_element.attr('style', 'width: 100%');\n    this.root.append(nav_element);\n\n    // Define a callback function for later on.\n    function toolbar_event(event) {\n        return fig.toolbar_button_onclick(event['data']);\n    }\n    function toolbar_mouse_event(event) {\n        return fig.toolbar_button_onmouseover(event['data']);\n    }\n\n    for(var toolbar_ind in mpl.toolbar_items) {\n        var name = mpl.toolbar_items[toolbar_ind][0];\n        var tooltip = mpl.toolbar_items[toolbar_ind][1];\n        var image = mpl.toolbar_items[toolbar_ind][2];\n        var method_name = mpl.toolbar_items[toolbar_ind][3];\n\n        if (!name) {\n            // put a spacer in here.\n            continue;\n        }\n        var button = $('<button/>');\n        button.addClass('ui-button ui-widget ui-state-default ui-corner-all ' +\n                        'ui-button-icon-only');\n        button.attr('role', 'button');\n        button.attr('aria-disabled', 'false');\n        button.click(method_name, toolbar_event);\n        button.mouseover(tooltip, toolbar_mouse_event);\n\n        var icon_img = $('<span/>');\n        icon_img.addClass('ui-button-icon-primary ui-icon');\n        icon_img.addClass(image);\n        icon_img.addClass('ui-corner-all');\n\n        var tooltip_span = $('<span/>');\n        tooltip_span.addClass('ui-button-text');\n        tooltip_span.html(tooltip);\n\n        button.append(icon_img);\n        button.append(tooltip_span);\n\n        nav_element.append(button);\n    }\n\n    var fmt_picker_span = $('<span/>');\n\n    var fmt_picker = $('<select/>');\n    fmt_picker.addClass('mpl-toolbar-option ui-widget ui-widget-content');\n    fmt_picker_span.append(fmt_picker);\n    nav_element.append(fmt_picker_span);\n    this.format_dropdown = fmt_picker[0];\n\n    for (var ind in mpl.extensions) {\n        var fmt = mpl.extensions[ind];\n        var option = $(\n            '<option/>', {selected: fmt === mpl.default_extension}).html(fmt);\n        fmt_picker.append(option)\n    }\n\n    // Add hover states to the ui-buttons\n    $( \".ui-button\" ).hover(\n        function() { $(this).addClass(\"ui-state-hover\");},\n        function() { $(this).removeClass(\"ui-state-hover\");}\n    );\n\n    var status_bar = $('<span class=\"mpl-message\"/>');\n    nav_element.append(status_bar);\n    this.message = status_bar[0];\n}\n\nmpl.figure.prototype.request_resize = function(x_pixels, y_pixels) {\n    // Request matplotlib to resize the figure. Matplotlib will then trigger a resize in the client,\n    // which will in turn request a refresh of the image.\n    this.send_message('resize', {'width': x_pixels, 'height': y_pixels});\n}\n\nmpl.figure.prototype.send_message = function(type, properties) {\n    properties['type'] = type;\n    properties['figure_id'] = this.id;\n    this.ws.send(JSON.stringify(properties));\n}\n\nmpl.figure.prototype.send_draw_message = function() {\n    if (!this.waiting) {\n        this.waiting = true;\n        this.ws.send(JSON.stringify({type: \"draw\", figure_id: this.id}));\n    }\n}\n\n\nmpl.figure.prototype.handle_save = function(fig, msg) {\n    var format_dropdown = fig.format_dropdown;\n    var format = format_dropdown.options[format_dropdown.selectedIndex].value;\n    fig.ondownload(fig, format);\n}\n\n\nmpl.figure.prototype.handle_resize = function(fig, msg) {\n    var size = msg['size'];\n    if (size[0] != fig.canvas.width || size[1] != fig.canvas.height) {\n        fig._resize_canvas(size[0], size[1]);\n        fig.send_message(\"refresh\", {});\n    };\n}\n\nmpl.figure.prototype.handle_rubberband = function(fig, msg) {\n    var x0 = msg['x0'] / mpl.ratio;\n    var y0 = (fig.canvas.height - msg['y0']) / mpl.ratio;\n    var x1 = msg['x1'] / mpl.ratio;\n    var y1 = (fig.canvas.height - msg['y1']) / mpl.ratio;\n    x0 = Math.floor(x0) + 0.5;\n    y0 = Math.floor(y0) + 0.5;\n    x1 = Math.floor(x1) + 0.5;\n    y1 = Math.floor(y1) + 0.5;\n    var min_x = Math.min(x0, x1);\n    var min_y = Math.min(y0, y1);\n    var width = Math.abs(x1 - x0);\n    var height = Math.abs(y1 - y0);\n\n    fig.rubberband_context.clearRect(\n        0, 0, fig.canvas.width, fig.canvas.height);\n\n    fig.rubberband_context.strokeRect(min_x, min_y, width, height);\n}\n\nmpl.figure.prototype.handle_figure_label = function(fig, msg) {\n    // Updates the figure title.\n    fig.header.textContent = msg['label'];\n}\n\nmpl.figure.prototype.handle_cursor = function(fig, msg) {\n    var cursor = msg['cursor'];\n    switch(cursor)\n    {\n    case 0:\n        cursor = 'pointer';\n        break;\n    case 1:\n        cursor = 'default';\n        break;\n    case 2:\n        cursor = 'crosshair';\n        break;\n    case 3:\n        cursor = 'move';\n        break;\n    }\n    fig.rubberband_canvas.style.cursor = cursor;\n}\n\nmpl.figure.prototype.handle_message = function(fig, msg) {\n    fig.message.textContent = msg['message'];\n}\n\nmpl.figure.prototype.handle_draw = function(fig, msg) {\n    // Request the server to send over a new figure.\n    fig.send_draw_message();\n}\n\nmpl.figure.prototype.handle_image_mode = function(fig, msg) {\n    fig.image_mode = msg['mode'];\n}\n\nmpl.figure.prototype.updated_canvas_event = function() {\n    // Called whenever the canvas gets updated.\n    this.send_message(\"ack\", {});\n}\n\n// A function to construct a web socket function for onmessage handling.\n// Called in the figure constructor.\nmpl.figure.prototype._make_on_message_function = function(fig) {\n    return function socket_on_message(evt) {\n        if (evt.data instanceof Blob) {\n            /* FIXME: We get \"Resource interpreted as Image but\n             * transferred with MIME type text/plain:\" errors on\n             * Chrome.  But how to set the MIME type?  It doesn't seem\n             * to be part of the websocket stream */\n            evt.data.type = \"image/png\";\n\n            /* Free the memory for the previous frames */\n            if (fig.imageObj.src) {\n                (window.URL || window.webkitURL).revokeObjectURL(\n                    fig.imageObj.src);\n            }\n\n            fig.imageObj.src = (window.URL || window.webkitURL).createObjectURL(\n                evt.data);\n            fig.updated_canvas_event();\n            fig.waiting = false;\n            return;\n        }\n        else if (typeof evt.data === 'string' && evt.data.slice(0, 21) == \"data:image/png;base64\") {\n            fig.imageObj.src = evt.data;\n            fig.updated_canvas_event();\n            fig.waiting = false;\n            return;\n        }\n\n        var msg = JSON.parse(evt.data);\n        var msg_type = msg['type'];\n\n        // Call the  \"handle_{type}\" callback, which takes\n        // the figure and JSON message as its only arguments.\n        try {\n            var callback = fig[\"handle_\" + msg_type];\n        } catch (e) {\n            console.log(\"No handler for the '\" + msg_type + \"' message type: \", msg);\n            return;\n        }\n\n        if (callback) {\n            try {\n                // console.log(\"Handling '\" + msg_type + \"' message: \", msg);\n                callback(fig, msg);\n            } catch (e) {\n                console.log(\"Exception inside the 'handler_\" + msg_type + \"' callback:\", e, e.stack, msg);\n            }\n        }\n    };\n}\n\n// from http://stackoverflow.com/questions/1114465/getting-mouse-location-in-canvas\nmpl.findpos = function(e) {\n    //this section is from http://www.quirksmode.org/js/events_properties.html\n    var targ;\n    if (!e)\n        e = window.event;\n    if (e.target)\n        targ = e.target;\n    else if (e.srcElement)\n        targ = e.srcElement;\n    if (targ.nodeType == 3) // defeat Safari bug\n        targ = targ.parentNode;\n\n    // jQuery normalizes the pageX and pageY\n    // pageX,Y are the mouse positions relative to the document\n    // offset() returns the position of the element relative to the document\n    var x = e.pageX - $(targ).offset().left;\n    var y = e.pageY - $(targ).offset().top;\n\n    return {\"x\": x, \"y\": y};\n};\n\n/*\n * return a copy of an object with only non-object keys\n * we need this to avoid circular references\n * http://stackoverflow.com/a/24161582/3208463\n */\nfunction simpleKeys (original) {\n  return Object.keys(original).reduce(function (obj, key) {\n    if (typeof original[key] !== 'object')\n        obj[key] = original[key]\n    return obj;\n  }, {});\n}\n\nmpl.figure.prototype.mouse_event = function(event, name) {\n    var canvas_pos = mpl.findpos(event)\n\n    if (name === 'button_press')\n    {\n        this.canvas.focus();\n        this.canvas_div.focus();\n    }\n\n    var x = canvas_pos.x * mpl.ratio;\n    var y = canvas_pos.y * mpl.ratio;\n\n    this.send_message(name, {x: x, y: y, button: event.button,\n                             step: event.step,\n                             guiEvent: simpleKeys(event)});\n\n    /* This prevents the web browser from automatically changing to\n     * the text insertion cursor when the button is pressed.  We want\n     * to control all of the cursor setting manually through the\n     * 'cursor' event from matplotlib */\n    event.preventDefault();\n    return false;\n}\n\nmpl.figure.prototype._key_event_extra = function(event, name) {\n    // Handle any extra behaviour associated with a key event\n}\n\nmpl.figure.prototype.key_event = function(event, name) {\n\n    // Prevent repeat events\n    if (name == 'key_press')\n    {\n        if (event.which === this._key)\n            return;\n        else\n            this._key = event.which;\n    }\n    if (name == 'key_release')\n        this._key = null;\n\n    var value = '';\n    if (event.ctrlKey && event.which != 17)\n        value += \"ctrl+\";\n    if (event.altKey && event.which != 18)\n        value += \"alt+\";\n    if (event.shiftKey && event.which != 16)\n        value += \"shift+\";\n\n    value += 'k';\n    value += event.which.toString();\n\n    this._key_event_extra(event, name);\n\n    this.send_message(name, {key: value,\n                             guiEvent: simpleKeys(event)});\n    return false;\n}\n\nmpl.figure.prototype.toolbar_button_onclick = function(name) {\n    if (name == 'download') {\n        this.handle_save(this, null);\n    } else {\n        this.send_message(\"toolbar_button\", {name: name});\n    }\n};\n\nmpl.figure.prototype.toolbar_button_onmouseover = function(tooltip) {\n    this.message.textContent = tooltip;\n};\nmpl.toolbar_items = [[\"Home\", \"Reset original view\", \"fa fa-home icon-home\", \"home\"], [\"Back\", \"Back to previous view\", \"fa fa-arrow-left icon-arrow-left\", \"back\"], [\"Forward\", \"Forward to next view\", \"fa fa-arrow-right icon-arrow-right\", \"forward\"], [\"\", \"\", \"\", \"\"], [\"Pan\", \"Pan axes with left mouse, zoom with right\", \"fa fa-arrows icon-move\", \"pan\"], [\"Zoom\", \"Zoom to rectangle\", \"fa fa-square-o icon-check-empty\", \"zoom\"], [\"\", \"\", \"\", \"\"], [\"Download\", \"Download plot\", \"fa fa-floppy-o icon-save\", \"download\"]];\n\nmpl.extensions = [\"eps\", \"pdf\", \"png\", \"ps\", \"raw\", \"svg\"];\n\nmpl.default_extension = \"png\";var comm_websocket_adapter = function(comm) {\n    // Create a \"websocket\"-like object which calls the given IPython comm\n    // object with the appropriate methods. Currently this is a non binary\n    // socket, so there is still some room for performance tuning.\n    var ws = {};\n\n    ws.close = function() {\n        comm.close()\n    };\n    ws.send = function(m) {\n        //console.log('sending', m);\n        comm.send(m);\n    };\n    // Register the callback with on_msg.\n    comm.on_msg(function(msg) {\n        //console.log('receiving', msg['content']['data'], msg);\n        // Pass the mpl event to the overridden (by mpl) onmessage function.\n        ws.onmessage(msg['content']['data'])\n    });\n    return ws;\n}\n\nmpl.mpl_figure_comm = function(comm, msg) {\n    // This is the function which gets called when the mpl process\n    // starts-up an IPython Comm through the \"matplotlib\" channel.\n\n    var id = msg.content.data.id;\n    // Get hold of the div created by the display call when the Comm\n    // socket was opened in Python.\n    var element = $(\"#\" + id);\n    var ws_proxy = comm_websocket_adapter(comm)\n\n    function ondownload(figure, format) {\n        window.open(figure.imageObj.src);\n    }\n\n    var fig = new mpl.figure(id, ws_proxy,\n                           ondownload,\n                           element.get(0));\n\n    // Call onopen now - mpl needs it, as it is assuming we've passed it a real\n    // web socket which is closed, not our websocket->open comm proxy.\n    ws_proxy.onopen();\n\n    fig.parent_element = element.get(0);\n    fig.cell_info = mpl.find_output_cell(\"<div id='\" + id + \"'></div>\");\n    if (!fig.cell_info) {\n        console.error(\"Failed to find cell for figure\", id, fig);\n        return;\n    }\n\n    var output_index = fig.cell_info[2]\n    var cell = fig.cell_info[0];\n\n};\n\nmpl.figure.prototype.handle_close = function(fig, msg) {\n    var width = fig.canvas.width/mpl.ratio\n    fig.root.unbind('remove')\n\n    // Update the output cell to use the data from the current canvas.\n    fig.push_to_output();\n    var dataURL = fig.canvas.toDataURL();\n    // Re-enable the keyboard manager in IPython - without this line, in FF,\n    // the notebook keyboard shortcuts fail.\n    IPython.keyboard_manager.enable()\n    $(fig.parent_element).html('<img src=\"' + dataURL + '\" width=\"' + width + '\">');\n    fig.close_ws(fig, msg);\n}\n\nmpl.figure.prototype.close_ws = function(fig, msg){\n    fig.send_message('closing', msg);\n    // fig.ws.close()\n}\n\nmpl.figure.prototype.push_to_output = function(remove_interactive) {\n    // Turn the data on the canvas into data in the output cell.\n    var width = this.canvas.width/mpl.ratio\n    var dataURL = this.canvas.toDataURL();\n    this.cell_info[1]['text/html'] = '<img src=\"' + dataURL + '\" width=\"' + width + '\">';\n}\n\nmpl.figure.prototype.updated_canvas_event = function() {\n    // Tell IPython that the notebook contents must change.\n    IPython.notebook.set_dirty(true);\n    this.send_message(\"ack\", {});\n    var fig = this;\n    // Wait a second, then push the new image to the DOM so\n    // that it is saved nicely (might be nice to debounce this).\n    setTimeout(function () { fig.push_to_output() }, 1000);\n}\n\nmpl.figure.prototype._init_toolbar = function() {\n    var fig = this;\n\n    var nav_element = $('<div/>')\n    nav_element.attr('style', 'width: 100%');\n    this.root.append(nav_element);\n\n    // Define a callback function for later on.\n    function toolbar_event(event) {\n        return fig.toolbar_button_onclick(event['data']);\n    }\n    function toolbar_mouse_event(event) {\n        return fig.toolbar_button_onmouseover(event['data']);\n    }\n\n    for(var toolbar_ind in mpl.toolbar_items){\n        var name = mpl.toolbar_items[toolbar_ind][0];\n        var tooltip = mpl.toolbar_items[toolbar_ind][1];\n        var image = mpl.toolbar_items[toolbar_ind][2];\n        var method_name = mpl.toolbar_items[toolbar_ind][3];\n\n        if (!name) { continue; };\n\n        var button = $('<button class=\"btn btn-default\" href=\"#\" title=\"' + name + '\"><i class=\"fa ' + image + ' fa-lg\"></i></button>');\n        button.click(method_name, toolbar_event);\n        button.mouseover(tooltip, toolbar_mouse_event);\n        nav_element.append(button);\n    }\n\n    // Add the status bar.\n    var status_bar = $('<span class=\"mpl-message\" style=\"text-align:right; float: right;\"/>');\n    nav_element.append(status_bar);\n    this.message = status_bar[0];\n\n    // Add the close button to the window.\n    var buttongrp = $('<div class=\"btn-group inline pull-right\"></div>');\n    var button = $('<button class=\"btn btn-mini btn-primary\" href=\"#\" title=\"Stop Interaction\"><i class=\"fa fa-power-off icon-remove icon-large\"></i></button>');\n    button.click(function (evt) { fig.handle_close(fig, {}); } );\n    button.mouseover('Stop Interaction', toolbar_mouse_event);\n    buttongrp.append(button);\n    var titlebar = this.root.find($('.ui-dialog-titlebar'));\n    titlebar.prepend(buttongrp);\n}\n\nmpl.figure.prototype._root_extra_style = function(el){\n    var fig = this\n    el.on(\"remove\", function(){\n\tfig.close_ws(fig, {});\n    });\n}\n\nmpl.figure.prototype._canvas_extra_style = function(el){\n    // this is important to make the div 'focusable\n    el.attr('tabindex', 0)\n    // reach out to IPython and tell the keyboard manager to turn it's self\n    // off when our div gets focus\n\n    // location in version 3\n    if (IPython.notebook.keyboard_manager) {\n        IPython.notebook.keyboard_manager.register_events(el);\n    }\n    else {\n        // location in version 2\n        IPython.keyboard_manager.register_events(el);\n    }\n\n}\n\nmpl.figure.prototype._key_event_extra = function(event, name) {\n    var manager = IPython.notebook.keyboard_manager;\n    if (!manager)\n        manager = IPython.keyboard_manager;\n\n    // Check for shift+enter\n    if (event.shiftKey && event.which == 13) {\n        this.canvas_div.blur();\n        event.shiftKey = false;\n        // Send a \"J\" for go to next cell\n        event.which = 74;\n        event.keyCode = 74;\n        manager.command_mode();\n        manager.handle_keydown(event);\n    }\n}\n\nmpl.figure.prototype.handle_save = function(fig, msg) {\n    fig.ondownload(fig, null);\n}\n\n\nmpl.find_output_cell = function(html_output) {\n    // Return the cell and output element which can be found *uniquely* in the notebook.\n    // Note - this is a bit hacky, but it is done because the \"notebook_saving.Notebook\"\n    // IPython event is triggered only after the cells have been serialised, which for\n    // our purposes (turning an active figure into a static one), is too late.\n    var cells = IPython.notebook.get_cells();\n    var ncells = cells.length;\n    for (var i=0; i<ncells; i++) {\n        var cell = cells[i];\n        if (cell.cell_type === 'code'){\n            for (var j=0; j<cell.output_area.outputs.length; j++) {\n                var data = cell.output_area.outputs[j];\n                if (data.data) {\n                    // IPython >= 3 moved mimebundle to data attribute of output\n                    data = data.data;\n                }\n                if (data['text/html'] == html_output) {\n                    return [cell, data, j];\n                }\n            }\n        }\n    }\n}\n\n// Register the function which deals with the matplotlib target/channel.\n// The kernel may be null if the page has been refreshed.\nif (IPython.notebook.kernel != null) {\n    IPython.notebook.kernel.comm_manager.register_target('matplotlib', mpl.mpl_figure_comm);\n}\n",
      "text/plain": [
       "<IPython.core.display.Javascript object>"
      ]
     },
     "metadata": {},
     "output_type": "display_data"
    },
    {
     "data": {
      "text/html": [
       "<img src=\"data:image/png;base64,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\" width=\"640\">"
      ],
      "text/plain": [
       "<IPython.core.display.HTML object>"
      ]
     },
     "metadata": {},
     "output_type": "display_data"
    },
    {
     "data": {
      "text/plain": [
       "<matplotlib.collections.PathCollection at 0x7f0bc88fd908>"
      ]
     },
     "execution_count": 7,
     "metadata": {},
     "output_type": "execute_result"
    }
   ],
   "source": [
    "%matplotlib notebook\n",
    "import matplotlib.pyplot as plt\n",
    "\n",
    "# Generate a mapping\n",
    "# Here we're using the total principal component method,\n",
    "# find out about others through the docstring for this function\n",
    "mapx, mapy = phClust3.create_mapping()\n",
    "print(help(phClust3.create_mapping))\n",
    "\n",
    "# By this scatter plot we can see that the points are indeed all distinctly split into two groups, corresponding\n",
    "# to their clustering (here marked by colour)\n",
    "plt.scatter(mapx, mapy, c=['red' if c==1 else 'blue' for c in clust3_inds], s=50, alpha=0.8)"
   ]
  },
  {
   "cell_type": "code",
   "execution_count": null,
   "metadata": {
    "collapsed": true
   },
   "outputs": [],
   "source": []
  }
 ],
 "metadata": {
  "kernelspec": {
   "display_name": "Python 3.9.5 ('base')",
   "language": "python",
   "name": "python3"
  },
  "language_info": {
   "codemirror_mode": {
    "name": "ipython",
    "version": 3
   },
   "file_extension": ".py",
   "mimetype": "text/x-python",
   "name": "python",
   "nbconvert_exporter": "python",
   "pygments_lexer": "ipython3",
   "version": "3.9.5"
  },
  "vscode": {
   "interpreter": {
    "hash": "dcf3964c9f098ea87c1c1258bc0cf8607e796f6d28cbe05fe0232edb9a1fcec4"
   }
  }
 },
 "nbformat": 4,
 "nbformat_minor": 1
}
